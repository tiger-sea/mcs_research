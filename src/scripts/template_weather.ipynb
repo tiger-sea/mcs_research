{
 "cells": [
  {
   "cell_type": "markdown",
   "metadata": {},
   "source": [
    "# Meteorological factors exploring template"
   ]
  },
  {
   "cell_type": "markdown",
   "metadata": {},
   "source": [
    "## Import libraries"
   ]
  },
  {
   "cell_type": "code",
   "execution_count": 1,
   "metadata": {},
   "outputs": [],
   "source": [
    "\"\"\"Basic ones\"\"\"\n",
    "import polars as pl\n",
    "from plotnine import *\n",
    "import matplotlib.pyplot as plt\n",
    "plt.show()  # for display figures after ggplot\n",
    "# plt.rcParams['axes.grid'] = True\n",
    "import numpy as np\n",
    "import seaborn as sns\n",
    "import pandas\n",
    "import statsmodels.api as sm\n",
    "from datetime import datetime\n",
    "\n",
    "import warnings\n",
    "warnings.simplefilter(\"ignore\")"
   ]
  },
  {
   "cell_type": "markdown",
   "metadata": {},
   "source": [
    "## Load meterological data"
   ]
  },
  {
   "cell_type": "code",
   "execution_count": null,
   "metadata": {},
   "outputs": [],
   "source": [
    "file_path = \"../data/weather/*.csv\" # change into csv file name\n",
    "df = pl.read_csv(file_path, encoding=\"shift-jis\", skip_rows=3, has_header=True) # csv file includes Japanese so \"shift-jis\"\n",
    "df.columns = [\"date\", \"day_of_week\", ...] # every file has fixed name \"date\" and \"day_of_week\" on first and second columns respectively\n",
    "df = df.with_columns(pl.col(\"date\").str.strptime(pl.Date, \"%Y/%m/%d\")) # convert day column data type into date type\n",
    "df = df.with_columns(pl.col(\"time\").str.strptime(pl.Datetime, \"%Y/%m/%d %H:%M\")) # convert time column data type into datetime type\n",
    "df.head()"
   ]
  },
  {
   "cell_type": "markdown",
   "metadata": {},
   "source": [
    "## Check nulls\n",
    "\n",
    "Ref. of finding nulls row wise\n",
    "(https://stackoverflow.com/questions/76219628/how-to-find-the-no-of-nulls-in-every-column-in-a-polars-dataframe)\n"
   ]
  },
  {
   "cell_type": "code",
   "execution_count": null,
   "metadata": {},
   "outputs": [],
   "source": [
    "display(df.null_count())\n",
    "\n",
    "nulls = df.hstack(df.transpose().select(pl.all().is_null().sum()).transpose().rename({\"column_0\": \"null_count\"}))\n",
    "nulls.filter(pl.col(\"null_count\") != 0)"
   ]
  },
  {
   "cell_type": "markdown",
   "metadata": {},
   "source": [
    "## Encode day of week"
   ]
  },
  {
   "cell_type": "code",
   "execution_count": null,
   "metadata": {},
   "outputs": [],
   "source": [
    "days_of_week = [\"日\", \"月\", \"火\", \"水\", \"木\", \"金\", \"土\"]\n",
    "day_to_label = {day: idx for idx, day in enumerate(days_of_week)}\n",
    "df = df.with_columns(\n",
    "    pl.col(\"day_of_week\").apply(lambda day: day_to_label[day]).alias(\"day_of_week\")\n",
    ")\n",
    "del days_of_week, day_to_label"
   ]
  },
  {
   "cell_type": "markdown",
   "metadata": {},
   "source": [
    "## Visualize each column"
   ]
  },
  {
   "cell_type": "code",
   "execution_count": null,
   "metadata": {},
   "outputs": [],
   "source": [
    "(\n",
    "    ggplot(data=df, mapping=aes(x=\"day\"))\n",
    "    + geom_line(aes(y=\"\"), color=\"green\")\n",
    "    + geom_line(aes(y=\"\"), color=\"red\")\n",
    "    + geom_line(aes(y=\"\"))\n",
    "    + theme(figure_size=(12, 4))\n",
    ")"
   ]
  },
  {
   "cell_type": "code",
   "execution_count": null,
   "metadata": {},
   "outputs": [],
   "source": [
    "from statsmodels.graphics.tsaplots import plot_acf, plot_pacf\n",
    "plot_acf(df[\"\"].drop_nulls(), lags=1000);\n",
    "plot_pacf(df[\"\"].drop_nulls(), lags=100);"
   ]
  },
  {
   "cell_type": "markdown",
   "metadata": {},
   "source": [
    "### Features seen in visualization\n",
    "\n",
    "- Distribution\n",
    "- Distribution (value range)\n",
    "- Check the features' meaning"
   ]
  },
  {
   "cell_type": "markdown",
   "metadata": {},
   "source": [
    "## Process nulls\n",
    "\n",
    "- In case weather data has null values, how do I deal with it???\n",
    "  - __Probably ecg data is more important, so processed weather data would be adjusted to corresponding date of ecg data.__\n",
    "---\n",
    "- If weather data and ecg data are null -> Delete both, which means all data of the date will be removed.\n",
    "- If only ecg data is null -> Delete weather data, which means all data of the date will be removed. (This never happens because weather data is adjusted to corresponding date of ecg data.)\n",
    "- __If only weather data is null__ -> Umm, state space model can deal with it?"
   ]
  },
  {
   "cell_type": "markdown",
   "metadata": {},
   "source": [
    "## Match the date of ecg data and weather data."
   ]
  }
 ],
 "metadata": {
  "kernelspec": {
   "display_name": "bayes",
   "language": "python",
   "name": "python3"
  },
  "language_info": {
   "codemirror_mode": {
    "name": "ipython",
    "version": 3
   },
   "file_extension": ".py",
   "mimetype": "text/x-python",
   "name": "python",
   "nbconvert_exporter": "python",
   "pygments_lexer": "ipython3",
   "version": "3.11.8"
  }
 },
 "nbformat": 4,
 "nbformat_minor": 2
}
