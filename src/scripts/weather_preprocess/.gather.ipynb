{
 "cells": [
  {
   "cell_type": "markdown",
   "metadata": {},
   "source": [
    "# Gather all data into one file"
   ]
  },
  {
   "cell_type": "code",
   "execution_count": 1,
   "metadata": {},
   "outputs": [],
   "source": [
    "import polars as pl"
   ]
  },
  {
   "cell_type": "markdown",
   "metadata": {},
   "source": [
    "## Humidity"
   ]
  },
  {
   "cell_type": "code",
   "execution_count": 2,
   "metadata": {},
   "outputs": [
    {
     "data": {
      "text/html": [
       "<div><style>\n",
       ".dataframe > thead > tr,\n",
       ".dataframe > tbody > tr {\n",
       "  text-align: right;\n",
       "  white-space: pre-wrap;\n",
       "}\n",
       "</style>\n",
       "<small>shape: (5, 6)</small><table border=\"1\" class=\"dataframe\"><thead><tr><th>date</th><th>day_of_week</th><th>mean_vapor</th><th>mean_hum</th><th>min_hum</th><th>min_hum_time</th></tr><tr><td>date</td><td>str</td><td>f64</td><td>i64</td><td>i64</td><td>datetime[μs]</td></tr></thead><tbody><tr><td>2017-07-01</td><td>&quot;土&quot;</td><td>23.8</td><td>88</td><td>63</td><td>2017-07-01 15:01:00</td></tr><tr><td>2017-07-02</td><td>&quot;日&quot;</td><td>25.9</td><td>91</td><td>63</td><td>2017-07-02 11:21:00</td></tr><tr><td>2017-07-03</td><td>&quot;月&quot;</td><td>26.3</td><td>89</td><td>56</td><td>2017-07-03 17:54:00</td></tr><tr><td>2017-07-04</td><td>&quot;火&quot;</td><td>25.6</td><td>97</td><td>87</td><td>2017-07-04 15:42:00</td></tr><tr><td>2017-07-05</td><td>&quot;水&quot;</td><td>23.7</td><td>82</td><td>62</td><td>2017-07-05 16:07:00</td></tr></tbody></table></div>"
      ],
      "text/plain": [
       "shape: (5, 6)\n",
       "┌────────────┬─────────────┬────────────┬──────────┬─────────┬─────────────────────┐\n",
       "│ date       ┆ day_of_week ┆ mean_vapor ┆ mean_hum ┆ min_hum ┆ min_hum_time        │\n",
       "│ ---        ┆ ---         ┆ ---        ┆ ---      ┆ ---     ┆ ---                 │\n",
       "│ date       ┆ str         ┆ f64        ┆ i64      ┆ i64     ┆ datetime[μs]        │\n",
       "╞════════════╪═════════════╪════════════╪══════════╪═════════╪═════════════════════╡\n",
       "│ 2017-07-01 ┆ 土          ┆ 23.8       ┆ 88       ┆ 63      ┆ 2017-07-01 15:01:00 │\n",
       "│ 2017-07-02 ┆ 日          ┆ 25.9       ┆ 91       ┆ 63      ┆ 2017-07-02 11:21:00 │\n",
       "│ 2017-07-03 ┆ 月          ┆ 26.3       ┆ 89       ┆ 56      ┆ 2017-07-03 17:54:00 │\n",
       "│ 2017-07-04 ┆ 火          ┆ 25.6       ┆ 97       ┆ 87      ┆ 2017-07-04 15:42:00 │\n",
       "│ 2017-07-05 ┆ 水          ┆ 23.7       ┆ 82       ┆ 62      ┆ 2017-07-05 16:07:00 │\n",
       "└────────────┴─────────────┴────────────┴──────────┴─────────┴─────────────────────┘"
      ]
     },
     "execution_count": 2,
     "metadata": {},
     "output_type": "execute_result"
    }
   ],
   "source": [
    "file_name = \"../../data/weather/humidity.csv\"\n",
    "df_hum = pl.read_csv(file_name, encoding=\"shift-jis\", skip_rows=3)\n",
    "df_hum.columns = [\"date\", \"day_of_week\", \"mean_vapor\", \"mean_hum\", \"min_hum\", \"min_hum_time\"]\n",
    "# df_hum = df_hum.drop(\"mean_vapor\")\n",
    "df_hum = df_hum.with_columns(pl.col(\"date\").str.strptime(pl.Date, \"%Y/%m/%d\")) # convert day column data type into date type\n",
    "df_hum = df_hum.with_columns(pl.col(\"min_hum_time\").str.strptime(pl.Datetime, \"%Y/%m/%d %H:%M\")) # convert time column data type into datetime\n",
    "df_hum.head()"
   ]
  },
  {
   "cell_type": "code",
   "execution_count": 3,
   "metadata": {},
   "outputs": [
    {
     "data": {
      "text/html": [
       "<div><style>\n",
       ".dataframe > thead > tr,\n",
       ".dataframe > tbody > tr {\n",
       "  text-align: right;\n",
       "  white-space: pre-wrap;\n",
       "}\n",
       "</style>\n",
       "<small>shape: (1, 6)</small><table border=\"1\" class=\"dataframe\"><thead><tr><th>date</th><th>day_of_week</th><th>mean_vapor</th><th>mean_hum</th><th>min_hum</th><th>min_hum_time</th></tr><tr><td>u32</td><td>u32</td><td>u32</td><td>u32</td><td>u32</td><td>u32</td></tr></thead><tbody><tr><td>0</td><td>0</td><td>3</td><td>3</td><td>3</td><td>3</td></tr></tbody></table></div>"
      ],
      "text/plain": [
       "shape: (1, 6)\n",
       "┌──────┬─────────────┬────────────┬──────────┬─────────┬──────────────┐\n",
       "│ date ┆ day_of_week ┆ mean_vapor ┆ mean_hum ┆ min_hum ┆ min_hum_time │\n",
       "│ ---  ┆ ---         ┆ ---        ┆ ---      ┆ ---     ┆ ---          │\n",
       "│ u32  ┆ u32         ┆ u32        ┆ u32      ┆ u32     ┆ u32          │\n",
       "╞══════╪═════════════╪════════════╪══════════╪═════════╪══════════════╡\n",
       "│ 0    ┆ 0           ┆ 3          ┆ 3        ┆ 3       ┆ 3            │\n",
       "└──────┴─────────────┴────────────┴──────────┴─────────┴──────────────┘"
      ]
     },
     "metadata": {},
     "output_type": "display_data"
    },
    {
     "data": {
      "text/html": [
       "<div><style>\n",
       ".dataframe > thead > tr,\n",
       ".dataframe > tbody > tr {\n",
       "  text-align: right;\n",
       "  white-space: pre-wrap;\n",
       "}\n",
       "</style>\n",
       "<small>shape: (3, 7)</small><table border=\"1\" class=\"dataframe\"><thead><tr><th>date</th><th>day_of_week</th><th>mean_vapor</th><th>mean_hum</th><th>min_hum</th><th>min_hum_time</th><th>null_count</th></tr><tr><td>date</td><td>str</td><td>f64</td><td>i64</td><td>i64</td><td>datetime[μs]</td><td>u32</td></tr></thead><tbody><tr><td>2017-10-22</td><td>&quot;日&quot;</td><td>null</td><td>null</td><td>null</td><td>null</td><td>4</td></tr><tr><td>2017-10-23</td><td>&quot;月&quot;</td><td>null</td><td>null</td><td>null</td><td>null</td><td>4</td></tr><tr><td>2017-10-24</td><td>&quot;火&quot;</td><td>null</td><td>null</td><td>null</td><td>null</td><td>4</td></tr></tbody></table></div>"
      ],
      "text/plain": [
       "shape: (3, 7)\n",
       "┌────────────┬─────────────┬────────────┬──────────┬─────────┬──────────────┬────────────┐\n",
       "│ date       ┆ day_of_week ┆ mean_vapor ┆ mean_hum ┆ min_hum ┆ min_hum_time ┆ null_count │\n",
       "│ ---        ┆ ---         ┆ ---        ┆ ---      ┆ ---     ┆ ---          ┆ ---        │\n",
       "│ date       ┆ str         ┆ f64        ┆ i64      ┆ i64     ┆ datetime[μs] ┆ u32        │\n",
       "╞════════════╪═════════════╪════════════╪══════════╪═════════╪══════════════╪════════════╡\n",
       "│ 2017-10-22 ┆ 日          ┆ null       ┆ null     ┆ null    ┆ null         ┆ 4          │\n",
       "│ 2017-10-23 ┆ 月          ┆ null       ┆ null     ┆ null    ┆ null         ┆ 4          │\n",
       "│ 2017-10-24 ┆ 火          ┆ null       ┆ null     ┆ null    ┆ null         ┆ 4          │\n",
       "└────────────┴─────────────┴────────────┴──────────┴─────────┴──────────────┴────────────┘"
      ]
     },
     "execution_count": 3,
     "metadata": {},
     "output_type": "execute_result"
    }
   ],
   "source": [
    "display(df_hum.null_count())\n",
    "df_hum.hstack(df_hum.transpose().select(pl.all().is_null().sum()).transpose().rename({\"column_0\": \"null_count\"})).filter(pl.col(\"null_count\") != 0)"
   ]
  },
  {
   "cell_type": "markdown",
   "metadata": {},
   "source": [
    "## Barometric pressure"
   ]
  },
  {
   "cell_type": "code",
   "execution_count": 4,
   "metadata": {},
   "outputs": [
    {
     "data": {
      "text/html": [
       "<div><style>\n",
       ".dataframe > thead > tr,\n",
       ".dataframe > tbody > tr {\n",
       "  text-align: right;\n",
       "  white-space: pre-wrap;\n",
       "}\n",
       "</style>\n",
       "<small>shape: (5, 6)</small><table border=\"1\" class=\"dataframe\"><thead><tr><th>date</th><th>day_of_week</th><th>mean_press</th><th>min_press_sea</th><th>min_press_sea_time</th><th>mean_press_sea</th></tr><tr><td>date</td><td>str</td><td>f64</td><td>f64</td><td>datetime[μs]</td><td>f64</td></tr></thead><tbody><tr><td>2017-07-01</td><td>&quot;土&quot;</td><td>983.8</td><td>1007.1</td><td>2017-07-01 16:51:00</td><td>1008.1</td></tr><tr><td>2017-07-02</td><td>&quot;日&quot;</td><td>985.0</td><td>1007.5</td><td>2017-07-02 01:24:00</td><td>1009.3</td></tr><tr><td>2017-07-03</td><td>&quot;月&quot;</td><td>982.8</td><td>1004.0</td><td>2017-07-03 17:57:00</td><td>1006.9</td></tr><tr><td>2017-07-04</td><td>&quot;火&quot;</td><td>982.3</td><td>1004.7</td><td>2017-07-05 00:00:00</td><td>1006.6</td></tr><tr><td>2017-07-05</td><td>&quot;水&quot;</td><td>983.7</td><td>1004.0</td><td>2017-07-05 02:25:00</td><td>1007.9</td></tr></tbody></table></div>"
      ],
      "text/plain": [
       "shape: (5, 6)\n",
       "┌────────────┬─────────────┬────────────┬───────────────┬─────────────────────┬────────────────┐\n",
       "│ date       ┆ day_of_week ┆ mean_press ┆ min_press_sea ┆ min_press_sea_time  ┆ mean_press_sea │\n",
       "│ ---        ┆ ---         ┆ ---        ┆ ---           ┆ ---                 ┆ ---            │\n",
       "│ date       ┆ str         ┆ f64        ┆ f64           ┆ datetime[μs]        ┆ f64            │\n",
       "╞════════════╪═════════════╪════════════╪═══════════════╪═════════════════════╪════════════════╡\n",
       "│ 2017-07-01 ┆ 土          ┆ 983.8      ┆ 1007.1        ┆ 2017-07-01 16:51:00 ┆ 1008.1         │\n",
       "│ 2017-07-02 ┆ 日          ┆ 985.0      ┆ 1007.5        ┆ 2017-07-02 01:24:00 ┆ 1009.3         │\n",
       "│ 2017-07-03 ┆ 月          ┆ 982.8      ┆ 1004.0        ┆ 2017-07-03 17:57:00 ┆ 1006.9         │\n",
       "│ 2017-07-04 ┆ 火          ┆ 982.3      ┆ 1004.7        ┆ 2017-07-05 00:00:00 ┆ 1006.6         │\n",
       "│ 2017-07-05 ┆ 水          ┆ 983.7      ┆ 1004.0        ┆ 2017-07-05 02:25:00 ┆ 1007.9         │\n",
       "└────────────┴─────────────┴────────────┴───────────────┴─────────────────────┴────────────────┘"
      ]
     },
     "execution_count": 4,
     "metadata": {},
     "output_type": "execute_result"
    }
   ],
   "source": [
    "file_name = \"../../data/weather/pressure.csv\"\n",
    "df_press = pl.read_csv(file_name, encoding=\"shift-jis\", skip_rows=3)\n",
    "df_press.columns = [\"date\", \"day_of_week\", \"mean_press\", \"min_press_sea\", \"min_press_sea_info\", \\\n",
    "                \"min_press_sea_time\", \"min_press_time_info\", \"mean_press_sea\"]\n",
    "df_press = df_press.drop([\"min_press_sea_info\", \"min_press_time_info\"])\n",
    "df_press = df_press.with_columns(pl.col(\"date\").str.strptime(pl.Date, \"%Y/%m/%d\")) # convert day column data type into date type\n",
    "df_press = df_press.with_columns(pl.col(\"min_press_sea_time\").str.strptime(pl.Datetime, \"%Y/%m/%d %H:%M\")) # convert time column data type into datetime\n",
    "df_press.head()"
   ]
  },
  {
   "cell_type": "code",
   "execution_count": 5,
   "metadata": {},
   "outputs": [
    {
     "data": {
      "text/html": [
       "<div><style>\n",
       ".dataframe > thead > tr,\n",
       ".dataframe > tbody > tr {\n",
       "  text-align: right;\n",
       "  white-space: pre-wrap;\n",
       "}\n",
       "</style>\n",
       "<small>shape: (1, 6)</small><table border=\"1\" class=\"dataframe\"><thead><tr><th>date</th><th>day_of_week</th><th>mean_press</th><th>min_press_sea</th><th>min_press_sea_time</th><th>mean_press_sea</th></tr><tr><td>u32</td><td>u32</td><td>u32</td><td>u32</td><td>u32</td><td>u32</td></tr></thead><tbody><tr><td>0</td><td>0</td><td>0</td><td>0</td><td>0</td><td>0</td></tr></tbody></table></div>"
      ],
      "text/plain": [
       "shape: (1, 6)\n",
       "┌──────┬─────────────┬────────────┬───────────────┬────────────────────┬────────────────┐\n",
       "│ date ┆ day_of_week ┆ mean_press ┆ min_press_sea ┆ min_press_sea_time ┆ mean_press_sea │\n",
       "│ ---  ┆ ---         ┆ ---        ┆ ---           ┆ ---                ┆ ---            │\n",
       "│ u32  ┆ u32         ┆ u32        ┆ u32           ┆ u32                ┆ u32            │\n",
       "╞══════╪═════════════╪════════════╪═══════════════╪════════════════════╪════════════════╡\n",
       "│ 0    ┆ 0           ┆ 0          ┆ 0             ┆ 0                  ┆ 0              │\n",
       "└──────┴─────────────┴────────────┴───────────────┴────────────────────┴────────────────┘"
      ]
     },
     "metadata": {},
     "output_type": "display_data"
    },
    {
     "data": {
      "text/html": [
       "<div><style>\n",
       ".dataframe > thead > tr,\n",
       ".dataframe > tbody > tr {\n",
       "  text-align: right;\n",
       "  white-space: pre-wrap;\n",
       "}\n",
       "</style>\n",
       "<small>shape: (0, 7)</small><table border=\"1\" class=\"dataframe\"><thead><tr><th>date</th><th>day_of_week</th><th>mean_press</th><th>min_press_sea</th><th>min_press_sea_time</th><th>mean_press_sea</th><th>null_count</th></tr><tr><td>date</td><td>str</td><td>f64</td><td>f64</td><td>datetime[μs]</td><td>f64</td><td>u32</td></tr></thead><tbody></tbody></table></div>"
      ],
      "text/plain": [
       "shape: (0, 7)\n",
       "┌──────┬─────────────┬────────────┬───────────────┬──────────────────┬────────────────┬────────────┐\n",
       "│ date ┆ day_of_week ┆ mean_press ┆ min_press_sea ┆ min_press_sea_ti ┆ mean_press_sea ┆ null_count │\n",
       "│ ---  ┆ ---         ┆ ---        ┆ ---           ┆ me               ┆ ---            ┆ ---        │\n",
       "│ date ┆ str         ┆ f64        ┆ f64           ┆ ---              ┆ f64            ┆ u32        │\n",
       "│      ┆             ┆            ┆               ┆ datetime[μs]     ┆                ┆            │\n",
       "╞══════╪═════════════╪════════════╪═══════════════╪══════════════════╪════════════════╪════════════╡\n",
       "└──────┴─────────────┴────────────┴───────────────┴──────────────────┴────────────────┴────────────┘"
      ]
     },
     "execution_count": 5,
     "metadata": {},
     "output_type": "execute_result"
    }
   ],
   "source": [
    "display(df_press.null_count())\n",
    "df_press.hstack(df_press.transpose().select(pl.all().is_null().sum()).transpose().rename({\"column_0\": \"null_count\"})).filter(pl.col(\"null_count\") != 0)"
   ]
  },
  {
   "cell_type": "markdown",
   "metadata": {},
   "source": [
    "## Rain"
   ]
  },
  {
   "cell_type": "code",
   "execution_count": 6,
   "metadata": {},
   "outputs": [
    {
     "data": {
      "text/html": [
       "<div><style>\n",
       ".dataframe > thead > tr,\n",
       ".dataframe > tbody > tr {\n",
       "  text-align: right;\n",
       "  white-space: pre-wrap;\n",
       "}\n",
       "</style>\n",
       "<small>shape: (5, 5)</small><table border=\"1\" class=\"dataframe\"><thead><tr><th>date</th><th>day_of_week</th><th>total_preci</th><th>hourly_max_preci</th><th>hourly_max_preci_time</th></tr><tr><td>date</td><td>str</td><td>f64</td><td>f64</td><td>datetime[μs]</td></tr></thead><tbody><tr><td>2017-07-01</td><td>&quot;土&quot;</td><td>11.5</td><td>4.0</td><td>2017-07-01 12:10:00</td></tr><tr><td>2017-07-02</td><td>&quot;日&quot;</td><td>34.0</td><td>14.0</td><td>2017-07-02 23:26:00</td></tr><tr><td>2017-07-03</td><td>&quot;月&quot;</td><td>52.0</td><td>10.0</td><td>2017-07-03 09:31:00</td></tr><tr><td>2017-07-04</td><td>&quot;火&quot;</td><td>37.0</td><td>11.0</td><td>2017-07-04 05:01:00</td></tr><tr><td>2017-07-05</td><td>&quot;水&quot;</td><td>0.0</td><td>0.0</td><td>2017-07-05 04:46:00</td></tr></tbody></table></div>"
      ],
      "text/plain": [
       "shape: (5, 5)\n",
       "┌────────────┬─────────────┬─────────────┬──────────────────┬───────────────────────┐\n",
       "│ date       ┆ day_of_week ┆ total_preci ┆ hourly_max_preci ┆ hourly_max_preci_time │\n",
       "│ ---        ┆ ---         ┆ ---         ┆ ---              ┆ ---                   │\n",
       "│ date       ┆ str         ┆ f64         ┆ f64              ┆ datetime[μs]          │\n",
       "╞════════════╪═════════════╪═════════════╪══════════════════╪═══════════════════════╡\n",
       "│ 2017-07-01 ┆ 土          ┆ 11.5        ┆ 4.0              ┆ 2017-07-01 12:10:00   │\n",
       "│ 2017-07-02 ┆ 日          ┆ 34.0        ┆ 14.0             ┆ 2017-07-02 23:26:00   │\n",
       "│ 2017-07-03 ┆ 月          ┆ 52.0        ┆ 10.0             ┆ 2017-07-03 09:31:00   │\n",
       "│ 2017-07-04 ┆ 火          ┆ 37.0        ┆ 11.0             ┆ 2017-07-04 05:01:00   │\n",
       "│ 2017-07-05 ┆ 水          ┆ 0.0         ┆ 0.0              ┆ 2017-07-05 04:46:00   │\n",
       "└────────────┴─────────────┴─────────────┴──────────────────┴───────────────────────┘"
      ]
     },
     "execution_count": 6,
     "metadata": {},
     "output_type": "execute_result"
    }
   ],
   "source": [
    "file_name = \"../../data/weather/rain.csv\"\n",
    "df_rain = pl.read_csv(file_name, encoding=\"shift-jis\", skip_rows=3)\n",
    "df_rain.columns = [\"date\", \"day_of_week\", \"total_preci\", \"total_preci_info\", \"hourly_max_preci\", \\\n",
    "                \"hourly_max_preci_info\", \"hourly_max_preci_time\", \"hourly_max_preci_time_info\"]\n",
    "df_rain = df_rain.drop([\"hourly_max_preci_info\", \"hourly_max_preci_time_info\", \"total_preci_info\"])\n",
    "df_rain = df_rain.with_columns(pl.col(\"date\").str.strptime(pl.Date, \"%Y/%m/%d\")) # convert day column data type into date type\n",
    "df_rain = df_rain.with_columns(pl.col(\"hourly_max_preci_time\").str.strptime(pl.Datetime, \"%Y/%m/%d %H:%M\")) # convert time column data type into datetime\n",
    "df_rain.head()"
   ]
  },
  {
   "cell_type": "code",
   "execution_count": 7,
   "metadata": {},
   "outputs": [
    {
     "data": {
      "text/html": [
       "<div><style>\n",
       ".dataframe > thead > tr,\n",
       ".dataframe > tbody > tr {\n",
       "  text-align: right;\n",
       "  white-space: pre-wrap;\n",
       "}\n",
       "</style>\n",
       "<small>shape: (1, 5)</small><table border=\"1\" class=\"dataframe\"><thead><tr><th>date</th><th>day_of_week</th><th>total_preci</th><th>hourly_max_preci</th><th>hourly_max_preci_time</th></tr><tr><td>u32</td><td>u32</td><td>u32</td><td>u32</td><td>u32</td></tr></thead><tbody><tr><td>0</td><td>0</td><td>6</td><td>6</td><td>6</td></tr></tbody></table></div>"
      ],
      "text/plain": [
       "shape: (1, 5)\n",
       "┌──────┬─────────────┬─────────────┬──────────────────┬───────────────────────┐\n",
       "│ date ┆ day_of_week ┆ total_preci ┆ hourly_max_preci ┆ hourly_max_preci_time │\n",
       "│ ---  ┆ ---         ┆ ---         ┆ ---              ┆ ---                   │\n",
       "│ u32  ┆ u32         ┆ u32         ┆ u32              ┆ u32                   │\n",
       "╞══════╪═════════════╪═════════════╪══════════════════╪═══════════════════════╡\n",
       "│ 0    ┆ 0           ┆ 6           ┆ 6                ┆ 6                     │\n",
       "└──────┴─────────────┴─────────────┴──────────────────┴───────────────────────┘"
      ]
     },
     "metadata": {},
     "output_type": "display_data"
    },
    {
     "data": {
      "text/html": [
       "<div><style>\n",
       ".dataframe > thead > tr,\n",
       ".dataframe > tbody > tr {\n",
       "  text-align: right;\n",
       "  white-space: pre-wrap;\n",
       "}\n",
       "</style>\n",
       "<small>shape: (6, 6)</small><table border=\"1\" class=\"dataframe\"><thead><tr><th>date</th><th>day_of_week</th><th>total_preci</th><th>hourly_max_preci</th><th>hourly_max_preci_time</th><th>null_count</th></tr><tr><td>date</td><td>str</td><td>f64</td><td>f64</td><td>datetime[μs]</td><td>u32</td></tr></thead><tbody><tr><td>2019-10-15</td><td>&quot;火&quot;</td><td>null</td><td>null</td><td>null</td><td>3</td></tr><tr><td>2020-06-02</td><td>&quot;火&quot;</td><td>null</td><td>null</td><td>null</td><td>3</td></tr><tr><td>2020-06-03</td><td>&quot;水&quot;</td><td>null</td><td>null</td><td>null</td><td>3</td></tr><tr><td>2020-06-04</td><td>&quot;木&quot;</td><td>null</td><td>null</td><td>null</td><td>3</td></tr><tr><td>2020-06-05</td><td>&quot;金&quot;</td><td>null</td><td>null</td><td>null</td><td>3</td></tr><tr><td>2022-10-02</td><td>&quot;日&quot;</td><td>null</td><td>null</td><td>null</td><td>3</td></tr></tbody></table></div>"
      ],
      "text/plain": [
       "shape: (6, 6)\n",
       "┌────────────┬─────────────┬─────────────┬──────────────────┬───────────────────────┬────────────┐\n",
       "│ date       ┆ day_of_week ┆ total_preci ┆ hourly_max_preci ┆ hourly_max_preci_time ┆ null_count │\n",
       "│ ---        ┆ ---         ┆ ---         ┆ ---              ┆ ---                   ┆ ---        │\n",
       "│ date       ┆ str         ┆ f64         ┆ f64              ┆ datetime[μs]          ┆ u32        │\n",
       "╞════════════╪═════════════╪═════════════╪══════════════════╪═══════════════════════╪════════════╡\n",
       "│ 2019-10-15 ┆ 火          ┆ null        ┆ null             ┆ null                  ┆ 3          │\n",
       "│ 2020-06-02 ┆ 火          ┆ null        ┆ null             ┆ null                  ┆ 3          │\n",
       "│ 2020-06-03 ┆ 水          ┆ null        ┆ null             ┆ null                  ┆ 3          │\n",
       "│ 2020-06-04 ┆ 木          ┆ null        ┆ null             ┆ null                  ┆ 3          │\n",
       "│ 2020-06-05 ┆ 金          ┆ null        ┆ null             ┆ null                  ┆ 3          │\n",
       "│ 2022-10-02 ┆ 日          ┆ null        ┆ null             ┆ null                  ┆ 3          │\n",
       "└────────────┴─────────────┴─────────────┴──────────────────┴───────────────────────┴────────────┘"
      ]
     },
     "execution_count": 7,
     "metadata": {},
     "output_type": "execute_result"
    }
   ],
   "source": [
    "display(df_rain.null_count())\n",
    "df_rain.hstack(df_rain.transpose().select(pl.all().is_null().sum()).transpose().rename({\"column_0\": \"null_count\"})).filter(pl.col(\"null_count\") != 0)"
   ]
  },
  {
   "cell_type": "markdown",
   "metadata": {},
   "source": [
    "## Snow"
   ]
  },
  {
   "cell_type": "code",
   "execution_count": 8,
   "metadata": {},
   "outputs": [
    {
     "data": {
      "text/html": [
       "<div><style>\n",
       ".dataframe > thead > tr,\n",
       ".dataframe > tbody > tr {\n",
       "  text-align: right;\n",
       "  white-space: pre-wrap;\n",
       "}\n",
       "</style>\n",
       "<small>shape: (5, 4)</small><table border=\"1\" class=\"dataframe\"><thead><tr><th>date</th><th>day_of_week</th><th>max_depth</th><th>total_snowfall</th></tr><tr><td>date</td><td>str</td><td>i64</td><td>i64</td></tr></thead><tbody><tr><td>2017-07-01</td><td>&quot;土&quot;</td><td>0</td><td>0</td></tr><tr><td>2017-07-02</td><td>&quot;日&quot;</td><td>0</td><td>0</td></tr><tr><td>2017-07-03</td><td>&quot;月&quot;</td><td>0</td><td>0</td></tr><tr><td>2017-07-04</td><td>&quot;火&quot;</td><td>0</td><td>0</td></tr><tr><td>2017-07-05</td><td>&quot;水&quot;</td><td>0</td><td>0</td></tr></tbody></table></div>"
      ],
      "text/plain": [
       "shape: (5, 4)\n",
       "┌────────────┬─────────────┬───────────┬────────────────┐\n",
       "│ date       ┆ day_of_week ┆ max_depth ┆ total_snowfall │\n",
       "│ ---        ┆ ---         ┆ ---       ┆ ---            │\n",
       "│ date       ┆ str         ┆ i64       ┆ i64            │\n",
       "╞════════════╪═════════════╪═══════════╪════════════════╡\n",
       "│ 2017-07-01 ┆ 土          ┆ 0         ┆ 0              │\n",
       "│ 2017-07-02 ┆ 日          ┆ 0         ┆ 0              │\n",
       "│ 2017-07-03 ┆ 月          ┆ 0         ┆ 0              │\n",
       "│ 2017-07-04 ┆ 火          ┆ 0         ┆ 0              │\n",
       "│ 2017-07-05 ┆ 水          ┆ 0         ┆ 0              │\n",
       "└────────────┴─────────────┴───────────┴────────────────┘"
      ]
     },
     "execution_count": 8,
     "metadata": {},
     "output_type": "execute_result"
    }
   ],
   "source": [
    "file_name = \"../../data/weather/snow.csv\"\n",
    "df_snow = pl.read_csv(file_name, encoding=\"shift-jis\", skip_rows=3)\n",
    "df_snow.columns = [\"date\", \"day_of_week\", \"max_depth\", \"max_depth_info\", \"max_depth_time\", \\\n",
    "                \"max_depth_time_info\", \"total_snowfall\", \"total_snowfall_info\"]\n",
    "df_snow = df_snow.drop([\"max_depth_time\", \"max_depth_time_info\", \"max_depth_info\", \"total_snowfall_info\"])\n",
    "df_snow = df_snow.with_columns(pl.col(\"date\").str.strptime(pl.Date, \"%Y/%m/%d\")) # convert day column data type into date type\n",
    "df_snow.head()"
   ]
  },
  {
   "cell_type": "code",
   "execution_count": 9,
   "metadata": {},
   "outputs": [
    {
     "data": {
      "text/html": [
       "<div><style>\n",
       ".dataframe > thead > tr,\n",
       ".dataframe > tbody > tr {\n",
       "  text-align: right;\n",
       "  white-space: pre-wrap;\n",
       "}\n",
       "</style>\n",
       "<small>shape: (1, 4)</small><table border=\"1\" class=\"dataframe\"><thead><tr><th>date</th><th>day_of_week</th><th>max_depth</th><th>total_snowfall</th></tr><tr><td>u32</td><td>u32</td><td>u32</td><td>u32</td></tr></thead><tbody><tr><td>0</td><td>0</td><td>0</td><td>0</td></tr></tbody></table></div>"
      ],
      "text/plain": [
       "shape: (1, 4)\n",
       "┌──────┬─────────────┬───────────┬────────────────┐\n",
       "│ date ┆ day_of_week ┆ max_depth ┆ total_snowfall │\n",
       "│ ---  ┆ ---         ┆ ---       ┆ ---            │\n",
       "│ u32  ┆ u32         ┆ u32       ┆ u32            │\n",
       "╞══════╪═════════════╪═══════════╪════════════════╡\n",
       "│ 0    ┆ 0           ┆ 0         ┆ 0              │\n",
       "└──────┴─────────────┴───────────┴────────────────┘"
      ]
     },
     "metadata": {},
     "output_type": "display_data"
    },
    {
     "data": {
      "text/html": [
       "<div><style>\n",
       ".dataframe > thead > tr,\n",
       ".dataframe > tbody > tr {\n",
       "  text-align: right;\n",
       "  white-space: pre-wrap;\n",
       "}\n",
       "</style>\n",
       "<small>shape: (0, 5)</small><table border=\"1\" class=\"dataframe\"><thead><tr><th>date</th><th>day_of_week</th><th>max_depth</th><th>total_snowfall</th><th>null_count</th></tr><tr><td>date</td><td>str</td><td>i64</td><td>i64</td><td>u32</td></tr></thead><tbody></tbody></table></div>"
      ],
      "text/plain": [
       "shape: (0, 5)\n",
       "┌──────┬─────────────┬───────────┬────────────────┬────────────┐\n",
       "│ date ┆ day_of_week ┆ max_depth ┆ total_snowfall ┆ null_count │\n",
       "│ ---  ┆ ---         ┆ ---       ┆ ---            ┆ ---        │\n",
       "│ date ┆ str         ┆ i64       ┆ i64            ┆ u32        │\n",
       "╞══════╪═════════════╪═══════════╪════════════════╪════════════╡\n",
       "└──────┴─────────────┴───────────┴────────────────┴────────────┘"
      ]
     },
     "execution_count": 9,
     "metadata": {},
     "output_type": "execute_result"
    }
   ],
   "source": [
    "display(df_snow.null_count())\n",
    "df_snow.hstack(df_snow.transpose().select(pl.all().is_null().sum()).transpose().rename({\"column_0\": \"null_count\"})).filter(pl.col(\"null_count\") != 0)"
   ]
  },
  {
   "cell_type": "markdown",
   "metadata": {},
   "source": [
    "## Sun"
   ]
  },
  {
   "cell_type": "code",
   "execution_count": 10,
   "metadata": {},
   "outputs": [
    {
     "data": {
      "text/html": [
       "<div><style>\n",
       ".dataframe > thead > tr,\n",
       ".dataframe > tbody > tr {\n",
       "  text-align: right;\n",
       "  white-space: pre-wrap;\n",
       "}\n",
       "</style>\n",
       "<small>shape: (5, 3)</small><table border=\"1\" class=\"dataframe\"><thead><tr><th>date</th><th>day_of_week</th><th>sun_hour</th></tr><tr><td>date</td><td>str</td><td>f64</td></tr></thead><tbody><tr><td>2017-07-01</td><td>&quot;土&quot;</td><td>0.3</td></tr><tr><td>2017-07-02</td><td>&quot;日&quot;</td><td>0.7</td></tr><tr><td>2017-07-03</td><td>&quot;月&quot;</td><td>2.4</td></tr><tr><td>2017-07-04</td><td>&quot;火&quot;</td><td>0.0</td></tr><tr><td>2017-07-05</td><td>&quot;水&quot;</td><td>5.5</td></tr></tbody></table></div>"
      ],
      "text/plain": [
       "shape: (5, 3)\n",
       "┌────────────┬─────────────┬──────────┐\n",
       "│ date       ┆ day_of_week ┆ sun_hour │\n",
       "│ ---        ┆ ---         ┆ ---      │\n",
       "│ date       ┆ str         ┆ f64      │\n",
       "╞════════════╪═════════════╪══════════╡\n",
       "│ 2017-07-01 ┆ 土          ┆ 0.3      │\n",
       "│ 2017-07-02 ┆ 日          ┆ 0.7      │\n",
       "│ 2017-07-03 ┆ 月          ┆ 2.4      │\n",
       "│ 2017-07-04 ┆ 火          ┆ 0.0      │\n",
       "│ 2017-07-05 ┆ 水          ┆ 5.5      │\n",
       "└────────────┴─────────────┴──────────┘"
      ]
     },
     "execution_count": 10,
     "metadata": {},
     "output_type": "execute_result"
    }
   ],
   "source": [
    "file_name = \"../../data/weather/sun.csv\"\n",
    "df_sun = pl.read_csv(file_name, encoding=\"cp932\", skip_rows=3)\n",
    "df_sun.columns = [\"date\", \"day_of_week\", \"sun_sphere\", \"sun_hour\", \"sun_hour_info\"]\n",
    "df_sun = df_sun.drop([\"sun_sphere\", \"sun_hour_info\"])\n",
    "df_sun = df_sun.with_columns(pl.col(\"date\").str.strptime(pl.Date, \"%Y/%m/%d\")) # convert day column data type into date type\n",
    "df_sun.head()"
   ]
  },
  {
   "cell_type": "code",
   "execution_count": 11,
   "metadata": {},
   "outputs": [
    {
     "data": {
      "text/html": [
       "<div><style>\n",
       ".dataframe > thead > tr,\n",
       ".dataframe > tbody > tr {\n",
       "  text-align: right;\n",
       "  white-space: pre-wrap;\n",
       "}\n",
       "</style>\n",
       "<small>shape: (1, 3)</small><table border=\"1\" class=\"dataframe\"><thead><tr><th>date</th><th>day_of_week</th><th>sun_hour</th></tr><tr><td>u32</td><td>u32</td><td>u32</td></tr></thead><tbody><tr><td>0</td><td>0</td><td>1</td></tr></tbody></table></div>"
      ],
      "text/plain": [
       "shape: (1, 3)\n",
       "┌──────┬─────────────┬──────────┐\n",
       "│ date ┆ day_of_week ┆ sun_hour │\n",
       "│ ---  ┆ ---         ┆ ---      │\n",
       "│ u32  ┆ u32         ┆ u32      │\n",
       "╞══════╪═════════════╪══════════╡\n",
       "│ 0    ┆ 0           ┆ 1        │\n",
       "└──────┴─────────────┴──────────┘"
      ]
     },
     "metadata": {},
     "output_type": "display_data"
    },
    {
     "data": {
      "text/html": [
       "<div><style>\n",
       ".dataframe > thead > tr,\n",
       ".dataframe > tbody > tr {\n",
       "  text-align: right;\n",
       "  white-space: pre-wrap;\n",
       "}\n",
       "</style>\n",
       "<small>shape: (1, 4)</small><table border=\"1\" class=\"dataframe\"><thead><tr><th>date</th><th>day_of_week</th><th>sun_hour</th><th>null_count</th></tr><tr><td>date</td><td>str</td><td>f64</td><td>u32</td></tr></thead><tbody><tr><td>2020-02-13</td><td>&quot;木&quot;</td><td>null</td><td>1</td></tr></tbody></table></div>"
      ],
      "text/plain": [
       "shape: (1, 4)\n",
       "┌────────────┬─────────────┬──────────┬────────────┐\n",
       "│ date       ┆ day_of_week ┆ sun_hour ┆ null_count │\n",
       "│ ---        ┆ ---         ┆ ---      ┆ ---        │\n",
       "│ date       ┆ str         ┆ f64      ┆ u32        │\n",
       "╞════════════╪═════════════╪══════════╪════════════╡\n",
       "│ 2020-02-13 ┆ 木          ┆ null     ┆ 1          │\n",
       "└────────────┴─────────────┴──────────┴────────────┘"
      ]
     },
     "execution_count": 11,
     "metadata": {},
     "output_type": "execute_result"
    }
   ],
   "source": [
    "display(df_sun.null_count())\n",
    "df_sun.hstack(df_sun.transpose().select(pl.all().is_null().sum()).transpose().rename({\"column_0\": \"null_count\"})).filter(pl.col(\"null_count\") != 0)"
   ]
  },
  {
   "cell_type": "markdown",
   "metadata": {},
   "source": [
    "## Temperature"
   ]
  },
  {
   "cell_type": "code",
   "execution_count": 12,
   "metadata": {},
   "outputs": [
    {
     "data": {
      "text/html": [
       "<div><style>\n",
       ".dataframe > thead > tr,\n",
       ".dataframe > tbody > tr {\n",
       "  text-align: right;\n",
       "  white-space: pre-wrap;\n",
       "}\n",
       "</style>\n",
       "<small>shape: (5, 7)</small><table border=\"1\" class=\"dataframe\"><thead><tr><th>date</th><th>day_of_week</th><th>mean_temp</th><th>max_temp</th><th>max_temp_time</th><th>min_temp</th><th>min_temp_time</th></tr><tr><td>date</td><td>str</td><td>f64</td><td>f64</td><td>datetime[μs]</td><td>f64</td><td>datetime[μs]</td></tr></thead><tbody><tr><td>2017-07-01</td><td>&quot;土&quot;</td><td>22.5</td><td>25.1</td><td>2017-07-01 12:52:00</td><td>20.3</td><td>2017-07-02 00:00:00</td></tr><tr><td>2017-07-02</td><td>&quot;日&quot;</td><td>23.3</td><td>29.2</td><td>2017-07-02 11:20:00</td><td>20.3</td><td>2017-07-02 00:02:00</td></tr><tr><td>2017-07-03</td><td>&quot;月&quot;</td><td>24.1</td><td>29.3</td><td>2017-07-03 15:51:00</td><td>21.7</td><td>2017-07-03 09:26:00</td></tr><tr><td>2017-07-04</td><td>&quot;火&quot;</td><td>22.0</td><td>24.2</td><td>2017-07-04 14:58:00</td><td>20.1</td><td>2017-07-04 05:35:00</td></tr><tr><td>2017-07-05</td><td>&quot;水&quot;</td><td>23.6</td><td>27.8</td><td>2017-07-05 13:42:00</td><td>20.6</td><td>2017-07-06 00:00:00</td></tr></tbody></table></div>"
      ],
      "text/plain": [
       "shape: (5, 7)\n",
       "┌────────────┬─────────────┬───────────┬──────────┬───────────────┬──────────┬─────────────────────┐\n",
       "│ date       ┆ day_of_week ┆ mean_temp ┆ max_temp ┆ max_temp_time ┆ min_temp ┆ min_temp_time       │\n",
       "│ ---        ┆ ---         ┆ ---       ┆ ---      ┆ ---           ┆ ---      ┆ ---                 │\n",
       "│ date       ┆ str         ┆ f64       ┆ f64      ┆ datetime[μs]  ┆ f64      ┆ datetime[μs]        │\n",
       "╞════════════╪═════════════╪═══════════╪══════════╪═══════════════╪══════════╪═════════════════════╡\n",
       "│ 2017-07-01 ┆ 土          ┆ 22.5      ┆ 25.1     ┆ 2017-07-01    ┆ 20.3     ┆ 2017-07-02 00:00:00 │\n",
       "│            ┆             ┆           ┆          ┆ 12:52:00      ┆          ┆                     │\n",
       "│ 2017-07-02 ┆ 日          ┆ 23.3      ┆ 29.2     ┆ 2017-07-02    ┆ 20.3     ┆ 2017-07-02 00:02:00 │\n",
       "│            ┆             ┆           ┆          ┆ 11:20:00      ┆          ┆                     │\n",
       "│ 2017-07-03 ┆ 月          ┆ 24.1      ┆ 29.3     ┆ 2017-07-03    ┆ 21.7     ┆ 2017-07-03 09:26:00 │\n",
       "│            ┆             ┆           ┆          ┆ 15:51:00      ┆          ┆                     │\n",
       "│ 2017-07-04 ┆ 火          ┆ 22.0      ┆ 24.2     ┆ 2017-07-04    ┆ 20.1     ┆ 2017-07-04 05:35:00 │\n",
       "│            ┆             ┆           ┆          ┆ 14:58:00      ┆          ┆                     │\n",
       "│ 2017-07-05 ┆ 水          ┆ 23.6      ┆ 27.8     ┆ 2017-07-05    ┆ 20.6     ┆ 2017-07-06 00:00:00 │\n",
       "│            ┆             ┆           ┆          ┆ 13:42:00      ┆          ┆                     │\n",
       "└────────────┴─────────────┴───────────┴──────────┴───────────────┴──────────┴─────────────────────┘"
      ]
     },
     "execution_count": 12,
     "metadata": {},
     "output_type": "execute_result"
    }
   ],
   "source": [
    "file_name = \"../../data/weather/temperature.csv\"\n",
    "df_temp = pl.read_csv(file_name, encoding=\"shift-jis\", skip_rows=3)\n",
    "df_temp.columns = [\"date\", \"day_of_week\", \"mean_temp\", \"max_temp\", \"max_temp_time\", \"min_temp\", \"min_temp_time\"]\n",
    "df_temp = df_temp.with_columns(pl.col(\"date\").str.strptime(pl.Date, \"%Y/%m/%d\")) # convert day column data type into date type\n",
    "df_temp = (\n",
    "    df_temp.with_columns(pl.col([\"max_temp_time\", \"min_temp_time\"]).str\n",
    "                    .strptime(pl.Datetime, \"%Y/%m/%d %H:%M\")) # convert time column data type into datetime\n",
    ")\n",
    "df_temp.head()"
   ]
  },
  {
   "cell_type": "code",
   "execution_count": 13,
   "metadata": {},
   "outputs": [
    {
     "data": {
      "text/html": [
       "<div><style>\n",
       ".dataframe > thead > tr,\n",
       ".dataframe > tbody > tr {\n",
       "  text-align: right;\n",
       "  white-space: pre-wrap;\n",
       "}\n",
       "</style>\n",
       "<small>shape: (1, 7)</small><table border=\"1\" class=\"dataframe\"><thead><tr><th>date</th><th>day_of_week</th><th>mean_temp</th><th>max_temp</th><th>max_temp_time</th><th>min_temp</th><th>min_temp_time</th></tr><tr><td>u32</td><td>u32</td><td>u32</td><td>u32</td><td>u32</td><td>u32</td><td>u32</td></tr></thead><tbody><tr><td>0</td><td>0</td><td>0</td><td>0</td><td>0</td><td>0</td><td>0</td></tr></tbody></table></div>"
      ],
      "text/plain": [
       "shape: (1, 7)\n",
       "┌──────┬─────────────┬───────────┬──────────┬───────────────┬──────────┬───────────────┐\n",
       "│ date ┆ day_of_week ┆ mean_temp ┆ max_temp ┆ max_temp_time ┆ min_temp ┆ min_temp_time │\n",
       "│ ---  ┆ ---         ┆ ---       ┆ ---      ┆ ---           ┆ ---      ┆ ---           │\n",
       "│ u32  ┆ u32         ┆ u32       ┆ u32      ┆ u32           ┆ u32      ┆ u32           │\n",
       "╞══════╪═════════════╪═══════════╪══════════╪═══════════════╪══════════╪═══════════════╡\n",
       "│ 0    ┆ 0           ┆ 0         ┆ 0        ┆ 0             ┆ 0        ┆ 0             │\n",
       "└──────┴─────────────┴───────────┴──────────┴───────────────┴──────────┴───────────────┘"
      ]
     },
     "metadata": {},
     "output_type": "display_data"
    },
    {
     "data": {
      "text/html": [
       "<div><style>\n",
       ".dataframe > thead > tr,\n",
       ".dataframe > tbody > tr {\n",
       "  text-align: right;\n",
       "  white-space: pre-wrap;\n",
       "}\n",
       "</style>\n",
       "<small>shape: (0, 8)</small><table border=\"1\" class=\"dataframe\"><thead><tr><th>date</th><th>day_of_week</th><th>mean_temp</th><th>max_temp</th><th>max_temp_time</th><th>min_temp</th><th>min_temp_time</th><th>null_count</th></tr><tr><td>date</td><td>str</td><td>f64</td><td>f64</td><td>datetime[μs]</td><td>f64</td><td>datetime[μs]</td><td>u32</td></tr></thead><tbody></tbody></table></div>"
      ],
      "text/plain": [
       "shape: (0, 8)\n",
       "┌──────┬─────────────┬───────────┬──────────┬───────────────┬──────────┬──────────────┬────────────┐\n",
       "│ date ┆ day_of_week ┆ mean_temp ┆ max_temp ┆ max_temp_time ┆ min_temp ┆ min_temp_tim ┆ null_count │\n",
       "│ ---  ┆ ---         ┆ ---       ┆ ---      ┆ ---           ┆ ---      ┆ e            ┆ ---        │\n",
       "│ date ┆ str         ┆ f64       ┆ f64      ┆ datetime[μs]  ┆ f64      ┆ ---          ┆ u32        │\n",
       "│      ┆             ┆           ┆          ┆               ┆          ┆ datetime[μs] ┆            │\n",
       "╞══════╪═════════════╪═══════════╪══════════╪═══════════════╪══════════╪══════════════╪════════════╡\n",
       "└──────┴─────────────┴───────────┴──────────┴───────────────┴──────────┴──────────────┴────────────┘"
      ]
     },
     "execution_count": 13,
     "metadata": {},
     "output_type": "execute_result"
    }
   ],
   "source": [
    "display(df_temp.null_count())\n",
    "df_temp.hstack(df_temp.transpose().select(pl.all().is_null().sum()).transpose().rename({\"column_0\": \"null_count\"})).filter(pl.col(\"null_count\") != 0)"
   ]
  },
  {
   "cell_type": "markdown",
   "metadata": {},
   "source": [
    "## Wind"
   ]
  },
  {
   "cell_type": "code",
   "execution_count": 14,
   "metadata": {},
   "outputs": [
    {
     "data": {
      "text/html": [
       "<div><style>\n",
       ".dataframe > thead > tr,\n",
       ".dataframe > tbody > tr {\n",
       "  text-align: right;\n",
       "  white-space: pre-wrap;\n",
       "}\n",
       "</style>\n",
       "<small>shape: (5, 8)</small><table border=\"1\" class=\"dataframe\"><thead><tr><th>date</th><th>day_of_week</th><th>mean_wind_speed</th><th>max_wind_speed</th><th>max_wind_speed_time</th><th>max_gust</th><th>max_gust_time</th><th>most_direction</th></tr><tr><td>date</td><td>str</td><td>f64</td><td>f64</td><td>datetime[μs]</td><td>f64</td><td>datetime[μs]</td><td>str</td></tr></thead><tbody><tr><td>2017-07-01</td><td>&quot;土&quot;</td><td>1.5</td><td>3.8</td><td>2017-07-01 15:07:00</td><td>6.2</td><td>2017-07-01 23:57:00</td><td>&quot;南南東&quot;</td></tr><tr><td>2017-07-02</td><td>&quot;日&quot;</td><td>1.8</td><td>5.7</td><td>2017-07-02 11:34:00</td><td>9.6</td><td>2017-07-02 13:37:00</td><td>&quot;北東&quot;</td></tr><tr><td>2017-07-03</td><td>&quot;月&quot;</td><td>2.2</td><td>6.3</td><td>2017-07-03 17:39:00</td><td>11.3</td><td>2017-07-03 17:20:00</td><td>&quot;北&quot;</td></tr><tr><td>2017-07-04</td><td>&quot;火&quot;</td><td>1.2</td><td>3.6</td><td>2017-07-04 01:01:00</td><td>5.3</td><td>2017-07-04 00:59:00</td><td>&quot;北&quot;</td></tr><tr><td>2017-07-05</td><td>&quot;水&quot;</td><td>2.8</td><td>6.7</td><td>2017-07-05 14:13:00</td><td>9.8</td><td>2017-07-05 14:09:00</td><td>&quot;北西&quot;</td></tr></tbody></table></div>"
      ],
      "text/plain": [
       "shape: (5, 8)\n",
       "┌────────────┬────────────┬────────────┬────────────┬───────────┬──────────┬───────────┬───────────┐\n",
       "│ date       ┆ day_of_wee ┆ mean_wind_ ┆ max_wind_s ┆ max_wind_ ┆ max_gust ┆ max_gust_ ┆ most_dire │\n",
       "│ ---        ┆ k          ┆ speed      ┆ peed       ┆ speed_tim ┆ ---      ┆ time      ┆ ction     │\n",
       "│ date       ┆ ---        ┆ ---        ┆ ---        ┆ e         ┆ f64      ┆ ---       ┆ ---       │\n",
       "│            ┆ str        ┆ f64        ┆ f64        ┆ ---       ┆          ┆ datetime[ ┆ str       │\n",
       "│            ┆            ┆            ┆            ┆ datetime[ ┆          ┆ μs]       ┆           │\n",
       "│            ┆            ┆            ┆            ┆ μs]       ┆          ┆           ┆           │\n",
       "╞════════════╪════════════╪════════════╪════════════╪═══════════╪══════════╪═══════════╪═══════════╡\n",
       "│ 2017-07-01 ┆ 土         ┆ 1.5        ┆ 3.8        ┆ 2017-07-0 ┆ 6.2      ┆ 2017-07-0 ┆ 南南東    │\n",
       "│            ┆            ┆            ┆            ┆ 1         ┆          ┆ 1         ┆           │\n",
       "│            ┆            ┆            ┆            ┆ 15:07:00  ┆          ┆ 23:57:00  ┆           │\n",
       "│ 2017-07-02 ┆ 日         ┆ 1.8        ┆ 5.7        ┆ 2017-07-0 ┆ 9.6      ┆ 2017-07-0 ┆ 北東      │\n",
       "│            ┆            ┆            ┆            ┆ 2         ┆          ┆ 2         ┆           │\n",
       "│            ┆            ┆            ┆            ┆ 11:34:00  ┆          ┆ 13:37:00  ┆           │\n",
       "│ 2017-07-03 ┆ 月         ┆ 2.2        ┆ 6.3        ┆ 2017-07-0 ┆ 11.3     ┆ 2017-07-0 ┆ 北        │\n",
       "│            ┆            ┆            ┆            ┆ 3         ┆          ┆ 3         ┆           │\n",
       "│            ┆            ┆            ┆            ┆ 17:39:00  ┆          ┆ 17:20:00  ┆           │\n",
       "│ 2017-07-04 ┆ 火         ┆ 1.2        ┆ 3.6        ┆ 2017-07-0 ┆ 5.3      ┆ 2017-07-0 ┆ 北        │\n",
       "│            ┆            ┆            ┆            ┆ 4         ┆          ┆ 4         ┆           │\n",
       "│            ┆            ┆            ┆            ┆ 01:01:00  ┆          ┆ 00:59:00  ┆           │\n",
       "│ 2017-07-05 ┆ 水         ┆ 2.8        ┆ 6.7        ┆ 2017-07-0 ┆ 9.8      ┆ 2017-07-0 ┆ 北西      │\n",
       "│            ┆            ┆            ┆            ┆ 5         ┆          ┆ 5         ┆           │\n",
       "│            ┆            ┆            ┆            ┆ 14:13:00  ┆          ┆ 14:09:00  ┆           │\n",
       "└────────────┴────────────┴────────────┴────────────┴───────────┴──────────┴───────────┴───────────┘"
      ]
     },
     "execution_count": 14,
     "metadata": {},
     "output_type": "execute_result"
    }
   ],
   "source": [
    "file_name = \"../../data/weather/wind.csv\"\n",
    "df_wind = pl.read_csv(file_name, encoding=\"shift-jis\", skip_rows=3)\n",
    "df_wind.columns = [\"date\", \"day_of_week\", \"mean_wind_speed\", \"max_wind_speed\", \"max_wind_speed_time\", \\\n",
    "                \"max_wind_speed_direction\", \"max_gust\", \"max_gust_time\", \\\n",
    "                    \"max_gust_direction\", \"most_direction\"]\n",
    "df_wind = df_wind.with_columns(pl.col(\"date\").str.strptime(pl.Date, \"%Y/%m/%d\")) # convert day column data type into date type\n",
    "df_wind = (\n",
    "    df_wind.with_columns(pl.col([\"max_wind_speed_time\", \"max_gust_time\"]).str\n",
    "                    .strptime(pl.Datetime, \"%Y/%m/%d %H:%M\")) # convert time column data type into datetime\n",
    ")\n",
    "df_wind = df_wind.drop([\"max_wind_speed_direction\", \"max_gust_direction\"])\n",
    "df_wind.head()"
   ]
  },
  {
   "cell_type": "code",
   "execution_count": 15,
   "metadata": {},
   "outputs": [],
   "source": [
    "direction = [\"北北東\", \"北東\", \"東北東\", \"東\", \"東南東\", \"南東\", \"南南東\", \"南\", \\\n",
    "                \"南南西\", \"南西\", \"西南西\", \"西\", \"西北西\", \"北西\", \"北北西\", \"北\"]\n",
    "direction = {dire: idx+1 for idx, dire in enumerate(direction)}\n",
    "df_wind = df_wind.with_columns(\n",
    "    pl.col(\"most_direction\").replace(direction, return_dtype=pl.Int8).alias(\"most_direction_dummy\")\n",
    ")"
   ]
  },
  {
   "cell_type": "code",
   "execution_count": 16,
   "metadata": {},
   "outputs": [
    {
     "data": {
      "text/html": [
       "<div><style>\n",
       ".dataframe > thead > tr,\n",
       ".dataframe > tbody > tr {\n",
       "  text-align: right;\n",
       "  white-space: pre-wrap;\n",
       "}\n",
       "</style>\n",
       "<small>shape: (1, 9)</small><table border=\"1\" class=\"dataframe\"><thead><tr><th>date</th><th>day_of_week</th><th>mean_wind_speed</th><th>max_wind_speed</th><th>max_wind_speed_time</th><th>max_gust</th><th>max_gust_time</th><th>most_direction</th><th>most_direction_dummy</th></tr><tr><td>u32</td><td>u32</td><td>u32</td><td>u32</td><td>u32</td><td>u32</td><td>u32</td><td>u32</td><td>u32</td></tr></thead><tbody><tr><td>0</td><td>0</td><td>4</td><td>4</td><td>4</td><td>4</td><td>4</td><td>4</td><td>4</td></tr></tbody></table></div>"
      ],
      "text/plain": [
       "shape: (1, 9)\n",
       "┌──────┬────────────┬────────────┬────────────┬───┬──────────┬────────────┬────────────┬───────────┐\n",
       "│ date ┆ day_of_wee ┆ mean_wind_ ┆ max_wind_s ┆ … ┆ max_gust ┆ max_gust_t ┆ most_direc ┆ most_dire │\n",
       "│ ---  ┆ k          ┆ speed      ┆ peed       ┆   ┆ ---      ┆ ime        ┆ tion       ┆ ction_dum │\n",
       "│ u32  ┆ ---        ┆ ---        ┆ ---        ┆   ┆ u32      ┆ ---        ┆ ---        ┆ my        │\n",
       "│      ┆ u32        ┆ u32        ┆ u32        ┆   ┆          ┆ u32        ┆ u32        ┆ ---       │\n",
       "│      ┆            ┆            ┆            ┆   ┆          ┆            ┆            ┆ u32       │\n",
       "╞══════╪════════════╪════════════╪════════════╪═══╪══════════╪════════════╪════════════╪═══════════╡\n",
       "│ 0    ┆ 0          ┆ 4          ┆ 4          ┆ … ┆ 4        ┆ 4          ┆ 4          ┆ 4         │\n",
       "└──────┴────────────┴────────────┴────────────┴───┴──────────┴────────────┴────────────┴───────────┘"
      ]
     },
     "metadata": {},
     "output_type": "display_data"
    },
    {
     "data": {
      "text/html": [
       "<div><style>\n",
       ".dataframe > thead > tr,\n",
       ".dataframe > tbody > tr {\n",
       "  text-align: right;\n",
       "  white-space: pre-wrap;\n",
       "}\n",
       "</style>\n",
       "<small>shape: (4, 10)</small><table border=\"1\" class=\"dataframe\"><thead><tr><th>date</th><th>day_of_week</th><th>mean_wind_speed</th><th>max_wind_speed</th><th>max_wind_speed_time</th><th>max_gust</th><th>max_gust_time</th><th>most_direction</th><th>most_direction_dummy</th><th>null_count</th></tr><tr><td>date</td><td>str</td><td>f64</td><td>f64</td><td>datetime[μs]</td><td>f64</td><td>datetime[μs]</td><td>str</td><td>i8</td><td>u32</td></tr></thead><tbody><tr><td>2020-03-29</td><td>&quot;日&quot;</td><td>null</td><td>null</td><td>null</td><td>null</td><td>null</td><td>null</td><td>null</td><td>7</td></tr><tr><td>2021-01-05</td><td>&quot;火&quot;</td><td>null</td><td>null</td><td>null</td><td>null</td><td>null</td><td>null</td><td>null</td><td>7</td></tr><tr><td>2022-02-11</td><td>&quot;金&quot;</td><td>null</td><td>null</td><td>null</td><td>null</td><td>null</td><td>null</td><td>null</td><td>7</td></tr><tr><td>2024-02-06</td><td>&quot;火&quot;</td><td>null</td><td>null</td><td>null</td><td>null</td><td>null</td><td>null</td><td>null</td><td>7</td></tr></tbody></table></div>"
      ],
      "text/plain": [
       "shape: (4, 10)\n",
       "┌───────────┬───────────┬───────────┬───────────┬───┬───────────┬───────────┬───────────┬──────────┐\n",
       "│ date      ┆ day_of_we ┆ mean_wind ┆ max_wind_ ┆ … ┆ max_gust_ ┆ most_dire ┆ most_dire ┆ null_cou │\n",
       "│ ---       ┆ ek        ┆ _speed    ┆ speed     ┆   ┆ time      ┆ ction     ┆ ction_dum ┆ nt       │\n",
       "│ date      ┆ ---       ┆ ---       ┆ ---       ┆   ┆ ---       ┆ ---       ┆ my        ┆ ---      │\n",
       "│           ┆ str       ┆ f64       ┆ f64       ┆   ┆ datetime[ ┆ str       ┆ ---       ┆ u32      │\n",
       "│           ┆           ┆           ┆           ┆   ┆ μs]       ┆           ┆ i8        ┆          │\n",
       "╞═══════════╪═══════════╪═══════════╪═══════════╪═══╪═══════════╪═══════════╪═══════════╪══════════╡\n",
       "│ 2020-03-2 ┆ 日        ┆ null      ┆ null      ┆ … ┆ null      ┆ null      ┆ null      ┆ 7        │\n",
       "│ 9         ┆           ┆           ┆           ┆   ┆           ┆           ┆           ┆          │\n",
       "│ 2021-01-0 ┆ 火        ┆ null      ┆ null      ┆ … ┆ null      ┆ null      ┆ null      ┆ 7        │\n",
       "│ 5         ┆           ┆           ┆           ┆   ┆           ┆           ┆           ┆          │\n",
       "│ 2022-02-1 ┆ 金        ┆ null      ┆ null      ┆ … ┆ null      ┆ null      ┆ null      ┆ 7        │\n",
       "│ 1         ┆           ┆           ┆           ┆   ┆           ┆           ┆           ┆          │\n",
       "│ 2024-02-0 ┆ 火        ┆ null      ┆ null      ┆ … ┆ null      ┆ null      ┆ null      ┆ 7        │\n",
       "│ 6         ┆           ┆           ┆           ┆   ┆           ┆           ┆           ┆          │\n",
       "└───────────┴───────────┴───────────┴───────────┴───┴───────────┴───────────┴───────────┴──────────┘"
      ]
     },
     "execution_count": 16,
     "metadata": {},
     "output_type": "execute_result"
    }
   ],
   "source": [
    "display(df_wind.null_count())\n",
    "df_wind.hstack(df_wind.transpose().select(pl.all().is_null().sum()).transpose().rename({\"column_0\": \"null_count\"})).filter(pl.col(\"null_count\") != 0)"
   ]
  },
  {
   "cell_type": "markdown",
   "metadata": {},
   "source": [
    "---\n",
    "## Gather'em"
   ]
  },
  {
   "cell_type": "markdown",
   "metadata": {},
   "source": [
    "Combine dataframe into barometric pressure dataframe because it doesn't have any null values."
   ]
  },
  {
   "cell_type": "code",
   "execution_count": 17,
   "metadata": {},
   "outputs": [
    {
     "data": {
      "text/html": [
       "<div><style>\n",
       ".dataframe > thead > tr,\n",
       ".dataframe > tbody > tr {\n",
       "  text-align: right;\n",
       "  white-space: pre-wrap;\n",
       "}\n",
       "</style>\n",
       "<small>shape: (2_527, 28)</small><table border=\"1\" class=\"dataframe\"><thead><tr><th>date</th><th>day_of_week</th><th>mean_press</th><th>min_press_sea</th><th>min_press_sea_time</th><th>mean_press_sea</th><th>mean_vapor</th><th>mean_hum</th><th>min_hum</th><th>min_hum_time</th><th>total_preci</th><th>hourly_max_preci</th><th>hourly_max_preci_time</th><th>max_depth</th><th>total_snowfall</th><th>sun_hour</th><th>mean_temp</th><th>max_temp</th><th>max_temp_time</th><th>min_temp</th><th>min_temp_time</th><th>mean_wind_speed</th><th>max_wind_speed</th><th>max_wind_speed_time</th><th>max_gust</th><th>max_gust_time</th><th>most_direction</th><th>most_direction_dummy</th></tr><tr><td>date</td><td>str</td><td>f64</td><td>f64</td><td>datetime[μs]</td><td>f64</td><td>f64</td><td>i64</td><td>i64</td><td>datetime[μs]</td><td>f64</td><td>f64</td><td>datetime[μs]</td><td>i64</td><td>i64</td><td>f64</td><td>f64</td><td>f64</td><td>datetime[μs]</td><td>f64</td><td>datetime[μs]</td><td>f64</td><td>f64</td><td>datetime[μs]</td><td>f64</td><td>datetime[μs]</td><td>str</td><td>i8</td></tr></thead><tbody><tr><td>2017-07-01</td><td>&quot;土&quot;</td><td>983.8</td><td>1007.1</td><td>2017-07-01 16:51:00</td><td>1008.1</td><td>23.8</td><td>88</td><td>63</td><td>2017-07-01 15:01:00</td><td>11.5</td><td>4.0</td><td>2017-07-01 12:10:00</td><td>0</td><td>0</td><td>0.3</td><td>22.5</td><td>25.1</td><td>2017-07-01 12:52:00</td><td>20.3</td><td>2017-07-02 00:00:00</td><td>1.5</td><td>3.8</td><td>2017-07-01 15:07:00</td><td>6.2</td><td>2017-07-01 23:57:00</td><td>&quot;南南東&quot;</td><td>7</td></tr><tr><td>2017-07-02</td><td>&quot;日&quot;</td><td>985.0</td><td>1007.5</td><td>2017-07-02 01:24:00</td><td>1009.3</td><td>25.9</td><td>91</td><td>63</td><td>2017-07-02 11:21:00</td><td>34.0</td><td>14.0</td><td>2017-07-02 23:26:00</td><td>0</td><td>0</td><td>0.7</td><td>23.3</td><td>29.2</td><td>2017-07-02 11:20:00</td><td>20.3</td><td>2017-07-02 00:02:00</td><td>1.8</td><td>5.7</td><td>2017-07-02 11:34:00</td><td>9.6</td><td>2017-07-02 13:37:00</td><td>&quot;北東&quot;</td><td>2</td></tr><tr><td>2017-07-03</td><td>&quot;月&quot;</td><td>982.8</td><td>1004.0</td><td>2017-07-03 17:57:00</td><td>1006.9</td><td>26.3</td><td>89</td><td>56</td><td>2017-07-03 17:54:00</td><td>52.0</td><td>10.0</td><td>2017-07-03 09:31:00</td><td>0</td><td>0</td><td>2.4</td><td>24.1</td><td>29.3</td><td>2017-07-03 15:51:00</td><td>21.7</td><td>2017-07-03 09:26:00</td><td>2.2</td><td>6.3</td><td>2017-07-03 17:39:00</td><td>11.3</td><td>2017-07-03 17:20:00</td><td>&quot;北&quot;</td><td>16</td></tr><tr><td>2017-07-04</td><td>&quot;火&quot;</td><td>982.3</td><td>1004.7</td><td>2017-07-05 00:00:00</td><td>1006.6</td><td>25.6</td><td>97</td><td>87</td><td>2017-07-04 15:42:00</td><td>37.0</td><td>11.0</td><td>2017-07-04 05:01:00</td><td>0</td><td>0</td><td>0.0</td><td>22.0</td><td>24.2</td><td>2017-07-04 14:58:00</td><td>20.1</td><td>2017-07-04 05:35:00</td><td>1.2</td><td>3.6</td><td>2017-07-04 01:01:00</td><td>5.3</td><td>2017-07-04 00:59:00</td><td>&quot;北&quot;</td><td>16</td></tr><tr><td>2017-07-05</td><td>&quot;水&quot;</td><td>983.7</td><td>1004.0</td><td>2017-07-05 02:25:00</td><td>1007.9</td><td>23.7</td><td>82</td><td>62</td><td>2017-07-05 16:07:00</td><td>0.0</td><td>0.0</td><td>2017-07-05 04:46:00</td><td>0</td><td>0</td><td>5.5</td><td>23.6</td><td>27.8</td><td>2017-07-05 13:42:00</td><td>20.6</td><td>2017-07-06 00:00:00</td><td>2.8</td><td>6.7</td><td>2017-07-05 14:13:00</td><td>9.8</td><td>2017-07-05 14:09:00</td><td>&quot;北西&quot;</td><td>14</td></tr><tr><td>&hellip;</td><td>&hellip;</td><td>&hellip;</td><td>&hellip;</td><td>&hellip;</td><td>&hellip;</td><td>&hellip;</td><td>&hellip;</td><td>&hellip;</td><td>&hellip;</td><td>&hellip;</td><td>&hellip;</td><td>&hellip;</td><td>&hellip;</td><td>&hellip;</td><td>&hellip;</td><td>&hellip;</td><td>&hellip;</td><td>&hellip;</td><td>&hellip;</td><td>&hellip;</td><td>&hellip;</td><td>&hellip;</td><td>&hellip;</td><td>&hellip;</td><td>&hellip;</td><td>&hellip;</td><td>&hellip;</td></tr><tr><td>2024-05-27</td><td>&quot;月&quot;</td><td>979.4</td><td>999.0</td><td>2024-05-27 16:31:00</td><td>1003.8</td><td>17.4</td><td>69</td><td>41</td><td>2024-05-27 14:53:00</td><td>0.0</td><td>0.0</td><td>2024-05-27 11:12:00</td><td>0</td><td>0</td><td>3.6</td><td>21.6</td><td>29.9</td><td>2024-05-27 14:51:00</td><td>14.9</td><td>2024-05-27 04:32:00</td><td>1.8</td><td>4.9</td><td>2024-05-27 22:52:00</td><td>7.6</td><td>2024-05-27 22:43:00</td><td>&quot;南&quot;</td><td>8</td></tr><tr><td>2024-05-28</td><td>&quot;火&quot;</td><td>978.1</td><td>993.7</td><td>2024-05-28 21:56:00</td><td>1002.8</td><td>16.7</td><td>89</td><td>72</td><td>2024-05-28 02:19:00</td><td>24.5</td><td>6.0</td><td>2024-05-28 23:42:00</td><td>0</td><td>0</td><td>0.0</td><td>16.5</td><td>20.3</td><td>2024-05-28 00:02:00</td><td>14.5</td><td>2024-05-28 09:37:00</td><td>2.0</td><td>6.3</td><td>2024-05-28 22:51:00</td><td>10.8</td><td>2024-05-28 22:47:00</td><td>&quot;北西&quot;</td><td>14</td></tr><tr><td>2024-05-29</td><td>&quot;水&quot;</td><td>984.8</td><td>1000.1</td><td>2024-05-29 00:06:00</td><td>1009.7</td><td>14.4</td><td>80</td><td>64</td><td>2024-05-29 12:37:00</td><td>0.0</td><td>2.5</td><td>2024-05-29 00:04:00</td><td>0</td><td>0</td><td>4.0</td><td>15.9</td><td>20.2</td><td>2024-05-29 12:29:00</td><td>11.8</td><td>2024-05-29 23:46:00</td><td>4.1</td><td>8.9</td><td>2024-05-29 09:28:00</td><td>15.1</td><td>2024-05-29 09:34:00</td><td>&quot;西&quot;</td><td>12</td></tr><tr><td>2024-05-30</td><td>&quot;木&quot;</td><td>989.7</td><td>1011.4</td><td>2024-05-30 17:17:00</td><td>1014.5</td><td>15.0</td><td>72</td><td>39</td><td>2024-05-30 15:44:00</td><td>0.0</td><td>0.0</td><td>2024-05-31 00:00:00</td><td>0</td><td>0</td><td>7.0</td><td>18.6</td><td>27.2</td><td>2024-05-30 16:24:00</td><td>10.3</td><td>2024-05-30 02:41:00</td><td>1.4</td><td>3.8</td><td>2024-05-30 17:52:00</td><td>6.7</td><td>2024-05-30 18:04:00</td><td>&quot;北&quot;</td><td>16</td></tr><tr><td>2024-05-31</td><td>&quot;金&quot;</td><td>983.9</td><td>1005.7</td><td>2024-05-31 16:59:00</td><td>1008.5</td><td>18.5</td><td>82</td><td>59</td><td>2024-05-31 15:14:00</td><td>3.0</td><td>1.5</td><td>2024-05-31 12:37:00</td><td>0</td><td>0</td><td>0.1</td><td>19.3</td><td>21.7</td><td>2024-05-31 14:23:00</td><td>17.3</td><td>2024-06-01 00:00:00</td><td>1.4</td><td>3.3</td><td>2024-05-31 23:22:00</td><td>5.6</td><td>2024-05-31 12:59:00</td><td>&quot;北西&quot;</td><td>14</td></tr></tbody></table></div>"
      ],
      "text/plain": [
       "shape: (2_527, 28)\n",
       "┌───────────┬───────────┬───────────┬───────────┬───┬──────────┬───────────┬───────────┬───────────┐\n",
       "│ date      ┆ day_of_we ┆ mean_pres ┆ min_press ┆ … ┆ max_gust ┆ max_gust_ ┆ most_dire ┆ most_dire │\n",
       "│ ---       ┆ ek        ┆ s         ┆ _sea      ┆   ┆ ---      ┆ time      ┆ ction     ┆ ction_dum │\n",
       "│ date      ┆ ---       ┆ ---       ┆ ---       ┆   ┆ f64      ┆ ---       ┆ ---       ┆ my        │\n",
       "│           ┆ str       ┆ f64       ┆ f64       ┆   ┆          ┆ datetime[ ┆ str       ┆ ---       │\n",
       "│           ┆           ┆           ┆           ┆   ┆          ┆ μs]       ┆           ┆ i8        │\n",
       "╞═══════════╪═══════════╪═══════════╪═══════════╪═══╪══════════╪═══════════╪═══════════╪═══════════╡\n",
       "│ 2017-07-0 ┆ 土        ┆ 983.8     ┆ 1007.1    ┆ … ┆ 6.2      ┆ 2017-07-0 ┆ 南南東    ┆ 7         │\n",
       "│ 1         ┆           ┆           ┆           ┆   ┆          ┆ 1         ┆           ┆           │\n",
       "│           ┆           ┆           ┆           ┆   ┆          ┆ 23:57:00  ┆           ┆           │\n",
       "│ 2017-07-0 ┆ 日        ┆ 985.0     ┆ 1007.5    ┆ … ┆ 9.6      ┆ 2017-07-0 ┆ 北東      ┆ 2         │\n",
       "│ 2         ┆           ┆           ┆           ┆   ┆          ┆ 2         ┆           ┆           │\n",
       "│           ┆           ┆           ┆           ┆   ┆          ┆ 13:37:00  ┆           ┆           │\n",
       "│ 2017-07-0 ┆ 月        ┆ 982.8     ┆ 1004.0    ┆ … ┆ 11.3     ┆ 2017-07-0 ┆ 北        ┆ 16        │\n",
       "│ 3         ┆           ┆           ┆           ┆   ┆          ┆ 3         ┆           ┆           │\n",
       "│           ┆           ┆           ┆           ┆   ┆          ┆ 17:20:00  ┆           ┆           │\n",
       "│ 2017-07-0 ┆ 火        ┆ 982.3     ┆ 1004.7    ┆ … ┆ 5.3      ┆ 2017-07-0 ┆ 北        ┆ 16        │\n",
       "│ 4         ┆           ┆           ┆           ┆   ┆          ┆ 4         ┆           ┆           │\n",
       "│           ┆           ┆           ┆           ┆   ┆          ┆ 00:59:00  ┆           ┆           │\n",
       "│ 2017-07-0 ┆ 水        ┆ 983.7     ┆ 1004.0    ┆ … ┆ 9.8      ┆ 2017-07-0 ┆ 北西      ┆ 14        │\n",
       "│ 5         ┆           ┆           ┆           ┆   ┆          ┆ 5         ┆           ┆           │\n",
       "│           ┆           ┆           ┆           ┆   ┆          ┆ 14:09:00  ┆           ┆           │\n",
       "│ …         ┆ …         ┆ …         ┆ …         ┆ … ┆ …        ┆ …         ┆ …         ┆ …         │\n",
       "│ 2024-05-2 ┆ 月        ┆ 979.4     ┆ 999.0     ┆ … ┆ 7.6      ┆ 2024-05-2 ┆ 南        ┆ 8         │\n",
       "│ 7         ┆           ┆           ┆           ┆   ┆          ┆ 7         ┆           ┆           │\n",
       "│           ┆           ┆           ┆           ┆   ┆          ┆ 22:43:00  ┆           ┆           │\n",
       "│ 2024-05-2 ┆ 火        ┆ 978.1     ┆ 993.7     ┆ … ┆ 10.8     ┆ 2024-05-2 ┆ 北西      ┆ 14        │\n",
       "│ 8         ┆           ┆           ┆           ┆   ┆          ┆ 8         ┆           ┆           │\n",
       "│           ┆           ┆           ┆           ┆   ┆          ┆ 22:47:00  ┆           ┆           │\n",
       "│ 2024-05-2 ┆ 水        ┆ 984.8     ┆ 1000.1    ┆ … ┆ 15.1     ┆ 2024-05-2 ┆ 西        ┆ 12        │\n",
       "│ 9         ┆           ┆           ┆           ┆   ┆          ┆ 9         ┆           ┆           │\n",
       "│           ┆           ┆           ┆           ┆   ┆          ┆ 09:34:00  ┆           ┆           │\n",
       "│ 2024-05-3 ┆ 木        ┆ 989.7     ┆ 1011.4    ┆ … ┆ 6.7      ┆ 2024-05-3 ┆ 北        ┆ 16        │\n",
       "│ 0         ┆           ┆           ┆           ┆   ┆          ┆ 0         ┆           ┆           │\n",
       "│           ┆           ┆           ┆           ┆   ┆          ┆ 18:04:00  ┆           ┆           │\n",
       "│ 2024-05-3 ┆ 金        ┆ 983.9     ┆ 1005.7    ┆ … ┆ 5.6      ┆ 2024-05-3 ┆ 北西      ┆ 14        │\n",
       "│ 1         ┆           ┆           ┆           ┆   ┆          ┆ 1         ┆           ┆           │\n",
       "│           ┆           ┆           ┆           ┆   ┆          ┆ 12:59:00  ┆           ┆           │\n",
       "└───────────┴───────────┴───────────┴───────────┴───┴──────────┴───────────┴───────────┴───────────┘"
      ]
     },
     "execution_count": 17,
     "metadata": {},
     "output_type": "execute_result"
    }
   ],
   "source": [
    "df = (\n",
    "    df_press\n",
    "    .join(df_hum, on=[\"date\", \"day_of_week\"], how=\"left\")\n",
    "    .join(df_rain, on=[\"date\", \"day_of_week\"], how=\"left\")\n",
    "    .join(df_snow, on=[\"date\", \"day_of_week\"], how=\"left\")\n",
    "    .join(df_sun, on=[\"date\", \"day_of_week\"], how=\"left\")\n",
    "    .join(df_temp, on=[\"date\", \"day_of_week\"], how=\"left\")\n",
    "    .join(df_wind, on=[\"date\", \"day_of_week\"], how=\"left\")\n",
    ")\n",
    "df"
   ]
  },
  {
   "cell_type": "markdown",
   "metadata": {},
   "source": [
    "---\n",
    "## Remove occurrence time columns"
   ]
  },
  {
   "cell_type": "code",
   "execution_count": 18,
   "metadata": {},
   "outputs": [],
   "source": [
    "use_col = []\n",
    "for col in df.columns:\n",
    "    if \"time\" not in col:\n",
    "        use_col.append(col)\n",
    "df = df[use_col] # select columns which not including \"time\""
   ]
  },
  {
   "cell_type": "code",
   "execution_count": 19,
   "metadata": {},
   "outputs": [
    {
     "data": {
      "text/html": [
       "<div><style>\n",
       ".dataframe > thead > tr,\n",
       ".dataframe > tbody > tr {\n",
       "  text-align: right;\n",
       "  white-space: pre-wrap;\n",
       "}\n",
       "</style>\n",
       "<small>shape: (1, 21)</small><table border=\"1\" class=\"dataframe\"><thead><tr><th>date</th><th>day_of_week</th><th>mean_press</th><th>min_press_sea</th><th>mean_press_sea</th><th>mean_vapor</th><th>mean_hum</th><th>min_hum</th><th>total_preci</th><th>hourly_max_preci</th><th>max_depth</th><th>total_snowfall</th><th>sun_hour</th><th>mean_temp</th><th>max_temp</th><th>min_temp</th><th>mean_wind_speed</th><th>max_wind_speed</th><th>max_gust</th><th>most_direction</th><th>most_direction_dummy</th></tr><tr><td>u32</td><td>u32</td><td>u32</td><td>u32</td><td>u32</td><td>u32</td><td>u32</td><td>u32</td><td>u32</td><td>u32</td><td>u32</td><td>u32</td><td>u32</td><td>u32</td><td>u32</td><td>u32</td><td>u32</td><td>u32</td><td>u32</td><td>u32</td><td>u32</td></tr></thead><tbody><tr><td>0</td><td>0</td><td>0</td><td>0</td><td>0</td><td>3</td><td>3</td><td>3</td><td>6</td><td>6</td><td>0</td><td>0</td><td>1</td><td>0</td><td>0</td><td>0</td><td>4</td><td>4</td><td>4</td><td>4</td><td>4</td></tr></tbody></table></div>"
      ],
      "text/plain": [
       "shape: (1, 21)\n",
       "┌──────┬────────────┬────────────┬────────────┬───┬────────────┬──────────┬────────────┬───────────┐\n",
       "│ date ┆ day_of_wee ┆ mean_press ┆ min_press_ ┆ … ┆ max_wind_s ┆ max_gust ┆ most_direc ┆ most_dire │\n",
       "│ ---  ┆ k          ┆ ---        ┆ sea        ┆   ┆ peed       ┆ ---      ┆ tion       ┆ ction_dum │\n",
       "│ u32  ┆ ---        ┆ u32        ┆ ---        ┆   ┆ ---        ┆ u32      ┆ ---        ┆ my        │\n",
       "│      ┆ u32        ┆            ┆ u32        ┆   ┆ u32        ┆          ┆ u32        ┆ ---       │\n",
       "│      ┆            ┆            ┆            ┆   ┆            ┆          ┆            ┆ u32       │\n",
       "╞══════╪════════════╪════════════╪════════════╪═══╪════════════╪══════════╪════════════╪═══════════╡\n",
       "│ 0    ┆ 0          ┆ 0          ┆ 0          ┆ … ┆ 4          ┆ 4        ┆ 4          ┆ 4         │\n",
       "└──────┴────────────┴────────────┴────────────┴───┴────────────┴──────────┴────────────┴───────────┘"
      ]
     },
     "metadata": {},
     "output_type": "display_data"
    },
    {
     "data": {
      "text/html": [
       "<div><style>\n",
       ".dataframe > thead > tr,\n",
       ".dataframe > tbody > tr {\n",
       "  text-align: right;\n",
       "  white-space: pre-wrap;\n",
       "}\n",
       "</style>\n",
       "<small>shape: (14, 22)</small><table border=\"1\" class=\"dataframe\"><thead><tr><th>date</th><th>day_of_week</th><th>mean_press</th><th>min_press_sea</th><th>mean_press_sea</th><th>mean_vapor</th><th>mean_hum</th><th>min_hum</th><th>total_preci</th><th>hourly_max_preci</th><th>max_depth</th><th>total_snowfall</th><th>sun_hour</th><th>mean_temp</th><th>max_temp</th><th>min_temp</th><th>mean_wind_speed</th><th>max_wind_speed</th><th>max_gust</th><th>most_direction</th><th>most_direction_dummy</th><th>null_count</th></tr><tr><td>date</td><td>str</td><td>f64</td><td>f64</td><td>f64</td><td>f64</td><td>i64</td><td>i64</td><td>f64</td><td>f64</td><td>i64</td><td>i64</td><td>f64</td><td>f64</td><td>f64</td><td>f64</td><td>f64</td><td>f64</td><td>f64</td><td>str</td><td>i8</td><td>u32</td></tr></thead><tbody><tr><td>2017-10-22</td><td>&quot;日&quot;</td><td>982.5</td><td>991.7</td><td>1007.5</td><td>null</td><td>null</td><td>null</td><td>63.5</td><td>8.0</td><td>0</td><td>0</td><td>0.0</td><td>15.6</td><td>16.6</td><td>14.9</td><td>0.8</td><td>2.4</td><td>3.6</td><td>&quot;西南西&quot;</td><td>11</td><td>3</td></tr><tr><td>2017-10-23</td><td>&quot;月&quot;</td><td>971.3</td><td>977.8</td><td>996.2</td><td>null</td><td>null</td><td>null</td><td>54.0</td><td>11.0</td><td>0</td><td>0</td><td>0.4</td><td>13.1</td><td>17.6</td><td>10.6</td><td>7.0</td><td>12.5</td><td>21.2</td><td>&quot;西&quot;</td><td>12</td><td>3</td></tr><tr><td>2017-10-24</td><td>&quot;火&quot;</td><td>997.1</td><td>1017.5</td><td>1022.8</td><td>null</td><td>null</td><td>null</td><td>0.0</td><td>0.0</td><td>0</td><td>0</td><td>6.0</td><td>11.7</td><td>16.4</td><td>7.5</td><td>1.6</td><td>5.5</td><td>8.1</td><td>&quot;西&quot;</td><td>12</td><td>3</td></tr><tr><td>2019-10-15</td><td>&quot;火&quot;</td><td>998.5</td><td>1020.2</td><td>1024.1</td><td>11.9</td><td>79</td><td>58</td><td>null</td><td>null</td><td>0</td><td>0</td><td>2.8</td><td>13.0</td><td>16.2</td><td>7.8</td><td>3.0</td><td>6.7</td><td>12.5</td><td>&quot;西&quot;</td><td>12</td><td>2</td></tr><tr><td>2020-02-13</td><td>&quot;木&quot;</td><td>991.3</td><td>1014.5</td><td>1017.6</td><td>7.4</td><td>86</td><td>72</td><td>1.0</td><td>0.5</td><td>0</td><td>0</td><td>null</td><td>4.6</td><td>9.5</td><td>0.5</td><td>1.5</td><td>5.2</td><td>8.5</td><td>&quot;北西&quot;</td><td>14</td><td>1</td></tr><tr><td>&hellip;</td><td>&hellip;</td><td>&hellip;</td><td>&hellip;</td><td>&hellip;</td><td>&hellip;</td><td>&hellip;</td><td>&hellip;</td><td>&hellip;</td><td>&hellip;</td><td>&hellip;</td><td>&hellip;</td><td>&hellip;</td><td>&hellip;</td><td>&hellip;</td><td>&hellip;</td><td>&hellip;</td><td>&hellip;</td><td>&hellip;</td><td>&hellip;</td><td>&hellip;</td><td>&hellip;</td></tr><tr><td>2020-06-05</td><td>&quot;金&quot;</td><td>981.4</td><td>1002.4</td><td>1005.6</td><td>19.6</td><td>66</td><td>42</td><td>null</td><td>null</td><td>0</td><td>0</td><td>11.9</td><td>24.3</td><td>32.1</td><td>18.0</td><td>2.1</td><td>6.6</td><td>10.7</td><td>&quot;北&quot;</td><td>16</td><td>2</td></tr><tr><td>2021-01-05</td><td>&quot;火&quot;</td><td>993.5</td><td>1015.5</td><td>1020.1</td><td>6.3</td><td>96</td><td>88</td><td>5.0</td><td>1.0</td><td>14</td><td>2</td><td>0.2</td><td>0.9</td><td>2.5</td><td>0.1</td><td>null</td><td>null</td><td>null</td><td>null</td><td>null</td><td>5</td></tr><tr><td>2022-02-11</td><td>&quot;金&quot;</td><td>995.6</td><td>1018.9</td><td>1022.3</td><td>5.5</td><td>84</td><td>57</td><td>1.0</td><td>0.5</td><td>48</td><td>1</td><td>5.0</td><td>1.1</td><td>5.4</td><td>-1.8</td><td>null</td><td>null</td><td>null</td><td>null</td><td>null</td><td>5</td></tr><tr><td>2022-10-02</td><td>&quot;日&quot;</td><td>996.9</td><td>1019.5</td><td>1021.9</td><td>16.1</td><td>76</td><td>38</td><td>null</td><td>null</td><td>0</td><td>0</td><td>8.4</td><td>19.2</td><td>28.2</td><td>12.2</td><td>1.2</td><td>2.8</td><td>4.7</td><td>&quot;北北西&quot;</td><td>15</td><td>2</td></tr><tr><td>2024-02-06</td><td>&quot;火&quot;</td><td>992.0</td><td>1016.3</td><td>1018.6</td><td>5.7</td><td>89</td><td>75</td><td>2.5</td><td>1.0</td><td>17</td><td>3</td><td>0.3</td><td>0.7</td><td>3.3</td><td>-0.8</td><td>null</td><td>null</td><td>null</td><td>null</td><td>null</td><td>5</td></tr></tbody></table></div>"
      ],
      "text/plain": [
       "shape: (14, 22)\n",
       "┌───────────┬───────────┬───────────┬───────────┬───┬──────────┬───────────┬───────────┬───────────┐\n",
       "│ date      ┆ day_of_we ┆ mean_pres ┆ min_press ┆ … ┆ max_gust ┆ most_dire ┆ most_dire ┆ null_coun │\n",
       "│ ---       ┆ ek        ┆ s         ┆ _sea      ┆   ┆ ---      ┆ ction     ┆ ction_dum ┆ t         │\n",
       "│ date      ┆ ---       ┆ ---       ┆ ---       ┆   ┆ f64      ┆ ---       ┆ my        ┆ ---       │\n",
       "│           ┆ str       ┆ f64       ┆ f64       ┆   ┆          ┆ str       ┆ ---       ┆ u32       │\n",
       "│           ┆           ┆           ┆           ┆   ┆          ┆           ┆ i8        ┆           │\n",
       "╞═══════════╪═══════════╪═══════════╪═══════════╪═══╪══════════╪═══════════╪═══════════╪═══════════╡\n",
       "│ 2017-10-2 ┆ 日        ┆ 982.5     ┆ 991.7     ┆ … ┆ 3.6      ┆ 西南西    ┆ 11        ┆ 3         │\n",
       "│ 2         ┆           ┆           ┆           ┆   ┆          ┆           ┆           ┆           │\n",
       "│ 2017-10-2 ┆ 月        ┆ 971.3     ┆ 977.8     ┆ … ┆ 21.2     ┆ 西        ┆ 12        ┆ 3         │\n",
       "│ 3         ┆           ┆           ┆           ┆   ┆          ┆           ┆           ┆           │\n",
       "│ 2017-10-2 ┆ 火        ┆ 997.1     ┆ 1017.5    ┆ … ┆ 8.1      ┆ 西        ┆ 12        ┆ 3         │\n",
       "│ 4         ┆           ┆           ┆           ┆   ┆          ┆           ┆           ┆           │\n",
       "│ 2019-10-1 ┆ 火        ┆ 998.5     ┆ 1020.2    ┆ … ┆ 12.5     ┆ 西        ┆ 12        ┆ 2         │\n",
       "│ 5         ┆           ┆           ┆           ┆   ┆          ┆           ┆           ┆           │\n",
       "│ 2020-02-1 ┆ 木        ┆ 991.3     ┆ 1014.5    ┆ … ┆ 8.5      ┆ 北西      ┆ 14        ┆ 1         │\n",
       "│ 3         ┆           ┆           ┆           ┆   ┆          ┆           ┆           ┆           │\n",
       "│ …         ┆ …         ┆ …         ┆ …         ┆ … ┆ …        ┆ …         ┆ …         ┆ …         │\n",
       "│ 2020-06-0 ┆ 金        ┆ 981.4     ┆ 1002.4    ┆ … ┆ 10.7     ┆ 北        ┆ 16        ┆ 2         │\n",
       "│ 5         ┆           ┆           ┆           ┆   ┆          ┆           ┆           ┆           │\n",
       "│ 2021-01-0 ┆ 火        ┆ 993.5     ┆ 1015.5    ┆ … ┆ null     ┆ null      ┆ null      ┆ 5         │\n",
       "│ 5         ┆           ┆           ┆           ┆   ┆          ┆           ┆           ┆           │\n",
       "│ 2022-02-1 ┆ 金        ┆ 995.6     ┆ 1018.9    ┆ … ┆ null     ┆ null      ┆ null      ┆ 5         │\n",
       "│ 1         ┆           ┆           ┆           ┆   ┆          ┆           ┆           ┆           │\n",
       "│ 2022-10-0 ┆ 日        ┆ 996.9     ┆ 1019.5    ┆ … ┆ 4.7      ┆ 北北西    ┆ 15        ┆ 2         │\n",
       "│ 2         ┆           ┆           ┆           ┆   ┆          ┆           ┆           ┆           │\n",
       "│ 2024-02-0 ┆ 火        ┆ 992.0     ┆ 1016.3    ┆ … ┆ null     ┆ null      ┆ null      ┆ 5         │\n",
       "│ 6         ┆           ┆           ┆           ┆   ┆          ┆           ┆           ┆           │\n",
       "└───────────┴───────────┴───────────┴───────────┴───┴──────────┴───────────┴───────────┴───────────┘"
      ]
     },
     "execution_count": 19,
     "metadata": {},
     "output_type": "execute_result"
    }
   ],
   "source": [
    "display(df.null_count())\n",
    "df.hstack(df.transpose().select(pl.all().is_null().sum()).transpose().rename({\"column_0\": \"null_count\"})).filter(pl.col(\"null_count\") != 0)"
   ]
  },
  {
   "cell_type": "code",
   "execution_count": 21,
   "metadata": {},
   "outputs": [],
   "source": [
    "# df.write_csv(\"../../data/weather/weather.csv\")\n",
    "del df_hum, df_press, df_rain, df_snow, df_sun, df_temp, df_wind"
   ]
  }
 ],
 "metadata": {
  "kernelspec": {
   "display_name": "pystan",
   "language": "python",
   "name": "python3"
  },
  "language_info": {
   "codemirror_mode": {
    "name": "ipython",
    "version": 3
   },
   "file_extension": ".py",
   "mimetype": "text/x-python",
   "name": "python",
   "nbconvert_exporter": "python",
   "pygments_lexer": "ipython3",
   "version": "3.10.13"
  }
 },
 "nbformat": 4,
 "nbformat_minor": 2
}
