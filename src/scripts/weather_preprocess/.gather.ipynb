{
 "cells": [
  {
   "cell_type": "markdown",
   "metadata": {},
   "source": [
    "# Gather all data into one file"
   ]
  },
  {
   "cell_type": "code",
   "execution_count": 1,
   "metadata": {},
   "outputs": [],
   "source": [
    "import polars as pl"
   ]
  },
  {
   "cell_type": "markdown",
   "metadata": {},
   "source": [
    "## Humidity"
   ]
  },
  {
   "cell_type": "markdown",
   "metadata": {},
   "source": [
    "年月日, 曜日, 平均湿度(％), 最小相対湿度(％), 平均蒸気圧(hPa)"
   ]
  },
  {
   "cell_type": "code",
   "execution_count": 2,
   "metadata": {},
   "outputs": [
    {
     "data": {
      "text/html": [
       "<div><style>\n",
       ".dataframe > thead > tr,\n",
       ".dataframe > tbody > tr {\n",
       "  text-align: right;\n",
       "  white-space: pre-wrap;\n",
       "}\n",
       "</style>\n",
       "<small>shape: (5, 5)</small><table border=\"1\" class=\"dataframe\"><thead><tr><th>date</th><th>day_of_week</th><th>mean_hum</th><th>min_hum</th><th>mean_vapor</th></tr><tr><td>date</td><td>str</td><td>i64</td><td>i64</td><td>f64</td></tr></thead><tbody><tr><td>2017-07-01</td><td>&quot;土&quot;</td><td>88</td><td>63</td><td>23.8</td></tr><tr><td>2017-07-02</td><td>&quot;日&quot;</td><td>91</td><td>63</td><td>25.9</td></tr><tr><td>2017-07-03</td><td>&quot;月&quot;</td><td>89</td><td>56</td><td>26.3</td></tr><tr><td>2017-07-04</td><td>&quot;火&quot;</td><td>97</td><td>87</td><td>25.6</td></tr><tr><td>2017-07-05</td><td>&quot;水&quot;</td><td>82</td><td>62</td><td>23.7</td></tr></tbody></table></div>"
      ],
      "text/plain": [
       "shape: (5, 5)\n",
       "┌────────────┬─────────────┬──────────┬─────────┬────────────┐\n",
       "│ date       ┆ day_of_week ┆ mean_hum ┆ min_hum ┆ mean_vapor │\n",
       "│ ---        ┆ ---         ┆ ---      ┆ ---     ┆ ---        │\n",
       "│ date       ┆ str         ┆ i64      ┆ i64     ┆ f64        │\n",
       "╞════════════╪═════════════╪══════════╪═════════╪════════════╡\n",
       "│ 2017-07-01 ┆ 土          ┆ 88       ┆ 63      ┆ 23.8       │\n",
       "│ 2017-07-02 ┆ 日          ┆ 91       ┆ 63      ┆ 25.9       │\n",
       "│ 2017-07-03 ┆ 月          ┆ 89       ┆ 56      ┆ 26.3       │\n",
       "│ 2017-07-04 ┆ 火          ┆ 97       ┆ 87      ┆ 25.6       │\n",
       "│ 2017-07-05 ┆ 水          ┆ 82       ┆ 62      ┆ 23.7       │\n",
       "└────────────┴─────────────┴──────────┴─────────┴────────────┘"
      ]
     },
     "execution_count": 2,
     "metadata": {},
     "output_type": "execute_result"
    }
   ],
   "source": [
    "file_name = \"../../data/weather/humidity.csv\"\n",
    "df_hum = pl.read_csv(file_name, encoding=\"shift-jis\", skip_rows=4)\n",
    "df_hum.columns = [\"date\", \"day_of_week\", \"mean_hum\", \"min_hum\", \"mean_vapor\"] #, \"min_hum_time\"]\n",
    "# df_hum = df_hum.drop(\"mean_vapor\")\n",
    "df_hum = df_hum.with_columns(pl.col(\"date\").str.strptime(pl.Date, \"%Y/%m/%d\")) # convert day column data type into date type\n",
    "# df_hum = df_hum.with_columns(pl.col(\"min_hum_time\").str.strptime(pl.Datetime, \"%Y/%m/%d %H:%M\")) # convert time column data type into datetime\n",
    "df_hum.head()"
   ]
  },
  {
   "cell_type": "code",
   "execution_count": 3,
   "metadata": {},
   "outputs": [
    {
     "data": {
      "text/html": [
       "<div><style>\n",
       ".dataframe > thead > tr,\n",
       ".dataframe > tbody > tr {\n",
       "  text-align: right;\n",
       "  white-space: pre-wrap;\n",
       "}\n",
       "</style>\n",
       "<small>shape: (1, 5)</small><table border=\"1\" class=\"dataframe\"><thead><tr><th>date</th><th>day_of_week</th><th>mean_hum</th><th>min_hum</th><th>mean_vapor</th></tr><tr><td>u32</td><td>u32</td><td>u32</td><td>u32</td><td>u32</td></tr></thead><tbody><tr><td>0</td><td>0</td><td>3</td><td>3</td><td>3</td></tr></tbody></table></div>"
      ],
      "text/plain": [
       "shape: (1, 5)\n",
       "┌──────┬─────────────┬──────────┬─────────┬────────────┐\n",
       "│ date ┆ day_of_week ┆ mean_hum ┆ min_hum ┆ mean_vapor │\n",
       "│ ---  ┆ ---         ┆ ---      ┆ ---     ┆ ---        │\n",
       "│ u32  ┆ u32         ┆ u32      ┆ u32     ┆ u32        │\n",
       "╞══════╪═════════════╪══════════╪═════════╪════════════╡\n",
       "│ 0    ┆ 0           ┆ 3        ┆ 3       ┆ 3          │\n",
       "└──────┴─────────────┴──────────┴─────────┴────────────┘"
      ]
     },
     "metadata": {},
     "output_type": "display_data"
    },
    {
     "data": {
      "text/html": [
       "<div><style>\n",
       ".dataframe > thead > tr,\n",
       ".dataframe > tbody > tr {\n",
       "  text-align: right;\n",
       "  white-space: pre-wrap;\n",
       "}\n",
       "</style>\n",
       "<small>shape: (3, 6)</small><table border=\"1\" class=\"dataframe\"><thead><tr><th>date</th><th>day_of_week</th><th>mean_hum</th><th>min_hum</th><th>mean_vapor</th><th>null_count</th></tr><tr><td>date</td><td>str</td><td>i64</td><td>i64</td><td>f64</td><td>u32</td></tr></thead><tbody><tr><td>2017-10-22</td><td>&quot;日&quot;</td><td>null</td><td>null</td><td>null</td><td>3</td></tr><tr><td>2017-10-23</td><td>&quot;月&quot;</td><td>null</td><td>null</td><td>null</td><td>3</td></tr><tr><td>2017-10-24</td><td>&quot;火&quot;</td><td>null</td><td>null</td><td>null</td><td>3</td></tr></tbody></table></div>"
      ],
      "text/plain": [
       "shape: (3, 6)\n",
       "┌────────────┬─────────────┬──────────┬─────────┬────────────┬────────────┐\n",
       "│ date       ┆ day_of_week ┆ mean_hum ┆ min_hum ┆ mean_vapor ┆ null_count │\n",
       "│ ---        ┆ ---         ┆ ---      ┆ ---     ┆ ---        ┆ ---        │\n",
       "│ date       ┆ str         ┆ i64      ┆ i64     ┆ f64        ┆ u32        │\n",
       "╞════════════╪═════════════╪══════════╪═════════╪════════════╪════════════╡\n",
       "│ 2017-10-22 ┆ 日          ┆ null     ┆ null    ┆ null       ┆ 3          │\n",
       "│ 2017-10-23 ┆ 月          ┆ null     ┆ null    ┆ null       ┆ 3          │\n",
       "│ 2017-10-24 ┆ 火          ┆ null     ┆ null    ┆ null       ┆ 3          │\n",
       "└────────────┴─────────────┴──────────┴─────────┴────────────┴────────────┘"
      ]
     },
     "execution_count": 3,
     "metadata": {},
     "output_type": "execute_result"
    }
   ],
   "source": [
    "display(df_hum.null_count())\n",
    "df_hum.hstack(df_hum.transpose().select(pl.all().is_null().sum()).transpose().rename({\"column_0\": \"null_count\"})).filter(pl.col(\"null_count\") != 0)"
   ]
  },
  {
   "cell_type": "markdown",
   "metadata": {},
   "source": [
    "## Barometric pressure"
   ]
  },
  {
   "cell_type": "markdown",
   "metadata": {},
   "source": [
    "年月日, 曜日, 平均現地気圧(hPa), 平均海面気圧(hPa), 最低海面気圧(hPa), 最低海面気圧(hPa) info"
   ]
  },
  {
   "cell_type": "code",
   "execution_count": 4,
   "metadata": {},
   "outputs": [
    {
     "data": {
      "text/html": [
       "<div><style>\n",
       ".dataframe > thead > tr,\n",
       ".dataframe > tbody > tr {\n",
       "  text-align: right;\n",
       "  white-space: pre-wrap;\n",
       "}\n",
       "</style>\n",
       "<small>shape: (5, 5)</small><table border=\"1\" class=\"dataframe\"><thead><tr><th>date</th><th>day_of_week</th><th>mean_press</th><th>mean_press_sea</th><th>min_press_sea</th></tr><tr><td>date</td><td>str</td><td>f64</td><td>f64</td><td>f64</td></tr></thead><tbody><tr><td>2017-07-01</td><td>&quot;土&quot;</td><td>983.8</td><td>1008.1</td><td>1007.1</td></tr><tr><td>2017-07-02</td><td>&quot;日&quot;</td><td>985.0</td><td>1009.3</td><td>1007.5</td></tr><tr><td>2017-07-03</td><td>&quot;月&quot;</td><td>982.8</td><td>1006.9</td><td>1004.0</td></tr><tr><td>2017-07-04</td><td>&quot;火&quot;</td><td>982.3</td><td>1006.6</td><td>1004.7</td></tr><tr><td>2017-07-05</td><td>&quot;水&quot;</td><td>983.7</td><td>1007.9</td><td>1004.0</td></tr></tbody></table></div>"
      ],
      "text/plain": [
       "shape: (5, 5)\n",
       "┌────────────┬─────────────┬────────────┬────────────────┬───────────────┐\n",
       "│ date       ┆ day_of_week ┆ mean_press ┆ mean_press_sea ┆ min_press_sea │\n",
       "│ ---        ┆ ---         ┆ ---        ┆ ---            ┆ ---           │\n",
       "│ date       ┆ str         ┆ f64        ┆ f64            ┆ f64           │\n",
       "╞════════════╪═════════════╪════════════╪════════════════╪═══════════════╡\n",
       "│ 2017-07-01 ┆ 土          ┆ 983.8      ┆ 1008.1         ┆ 1007.1        │\n",
       "│ 2017-07-02 ┆ 日          ┆ 985.0      ┆ 1009.3         ┆ 1007.5        │\n",
       "│ 2017-07-03 ┆ 月          ┆ 982.8      ┆ 1006.9         ┆ 1004.0        │\n",
       "│ 2017-07-04 ┆ 火          ┆ 982.3      ┆ 1006.6         ┆ 1004.7        │\n",
       "│ 2017-07-05 ┆ 水          ┆ 983.7      ┆ 1007.9         ┆ 1004.0        │\n",
       "└────────────┴─────────────┴────────────┴────────────────┴───────────────┘"
      ]
     },
     "execution_count": 4,
     "metadata": {},
     "output_type": "execute_result"
    }
   ],
   "source": [
    "file_name = \"../../data/weather/pressure.csv\"\n",
    "df_press = pl.read_csv(file_name, encoding=\"shift-jis\", skip_rows=5)\n",
    "df_press.columns = [\"date\", \"day_of_week\", \"mean_press\", \"mean_press_sea\", \"min_press_sea\", \\\n",
    "                # \"min_press_sea_time\",\n",
    "                # \"min_press_time_info\",\n",
    "                \"min_press_sea_info\"]\n",
    "df_press = df_press.drop([\"min_press_sea_info\", \"min_press_time_info\"])\n",
    "df_press = df_press.with_columns(pl.col(\"date\").str.strptime(pl.Date, \"%Y/%m/%d\")) # convert day column data type into date type\n",
    "# df_press = df_press.with_columns(pl.col(\"min_press_sea_time\").str.strptime(pl.Datetime, \"%Y/%m/%d %H:%M\")) # convert time column data type into datetime\n",
    "df_press.head()"
   ]
  },
  {
   "cell_type": "code",
   "execution_count": 5,
   "metadata": {},
   "outputs": [
    {
     "data": {
      "text/html": [
       "<div><style>\n",
       ".dataframe > thead > tr,\n",
       ".dataframe > tbody > tr {\n",
       "  text-align: right;\n",
       "  white-space: pre-wrap;\n",
       "}\n",
       "</style>\n",
       "<small>shape: (1, 5)</small><table border=\"1\" class=\"dataframe\"><thead><tr><th>date</th><th>day_of_week</th><th>mean_press</th><th>mean_press_sea</th><th>min_press_sea</th></tr><tr><td>u32</td><td>u32</td><td>u32</td><td>u32</td><td>u32</td></tr></thead><tbody><tr><td>0</td><td>0</td><td>0</td><td>0</td><td>0</td></tr></tbody></table></div>"
      ],
      "text/plain": [
       "shape: (1, 5)\n",
       "┌──────┬─────────────┬────────────┬────────────────┬───────────────┐\n",
       "│ date ┆ day_of_week ┆ mean_press ┆ mean_press_sea ┆ min_press_sea │\n",
       "│ ---  ┆ ---         ┆ ---        ┆ ---            ┆ ---           │\n",
       "│ u32  ┆ u32         ┆ u32        ┆ u32            ┆ u32           │\n",
       "╞══════╪═════════════╪════════════╪════════════════╪═══════════════╡\n",
       "│ 0    ┆ 0           ┆ 0          ┆ 0              ┆ 0             │\n",
       "└──────┴─────────────┴────────────┴────────────────┴───────────────┘"
      ]
     },
     "metadata": {},
     "output_type": "display_data"
    },
    {
     "data": {
      "text/html": [
       "<div><style>\n",
       ".dataframe > thead > tr,\n",
       ".dataframe > tbody > tr {\n",
       "  text-align: right;\n",
       "  white-space: pre-wrap;\n",
       "}\n",
       "</style>\n",
       "<small>shape: (0, 6)</small><table border=\"1\" class=\"dataframe\"><thead><tr><th>date</th><th>day_of_week</th><th>mean_press</th><th>mean_press_sea</th><th>min_press_sea</th><th>null_count</th></tr><tr><td>date</td><td>str</td><td>f64</td><td>f64</td><td>f64</td><td>u32</td></tr></thead><tbody></tbody></table></div>"
      ],
      "text/plain": [
       "shape: (0, 6)\n",
       "┌──────┬─────────────┬────────────┬────────────────┬───────────────┬────────────┐\n",
       "│ date ┆ day_of_week ┆ mean_press ┆ mean_press_sea ┆ min_press_sea ┆ null_count │\n",
       "│ ---  ┆ ---         ┆ ---        ┆ ---            ┆ ---           ┆ ---        │\n",
       "│ date ┆ str         ┆ f64        ┆ f64            ┆ f64           ┆ u32        │\n",
       "╞══════╪═════════════╪════════════╪════════════════╪═══════════════╪════════════╡\n",
       "└──────┴─────────────┴────────────┴────────────────┴───────────────┴────────────┘"
      ]
     },
     "execution_count": 5,
     "metadata": {},
     "output_type": "execute_result"
    }
   ],
   "source": [
    "display(df_press.null_count())\n",
    "df_press.hstack(df_press.transpose().select(pl.all().is_null().sum()).transpose().rename({\"column_0\": \"null_count\"})).filter(pl.col(\"null_count\") != 0)"
   ]
  },
  {
   "cell_type": "markdown",
   "metadata": {},
   "source": [
    "## Rain"
   ]
  },
  {
   "cell_type": "markdown",
   "metadata": {},
   "source": [
    "年月日, 曜日, 降水量の合計(mm), 降水量の合計(mm) info, 1時間降水量の最大(mm), 1時間降水量の最大(mm) info"
   ]
  },
  {
   "cell_type": "code",
   "execution_count": 6,
   "metadata": {},
   "outputs": [
    {
     "data": {
      "text/html": [
       "<div><style>\n",
       ".dataframe > thead > tr,\n",
       ".dataframe > tbody > tr {\n",
       "  text-align: right;\n",
       "  white-space: pre-wrap;\n",
       "}\n",
       "</style>\n",
       "<small>shape: (5, 4)</small><table border=\"1\" class=\"dataframe\"><thead><tr><th>date</th><th>day_of_week</th><th>total_preci</th><th>hourly_max_preci</th></tr><tr><td>date</td><td>str</td><td>f64</td><td>f64</td></tr></thead><tbody><tr><td>2017-07-01</td><td>&quot;土&quot;</td><td>11.5</td><td>4.0</td></tr><tr><td>2017-07-02</td><td>&quot;日&quot;</td><td>34.0</td><td>14.0</td></tr><tr><td>2017-07-03</td><td>&quot;月&quot;</td><td>52.0</td><td>10.0</td></tr><tr><td>2017-07-04</td><td>&quot;火&quot;</td><td>37.0</td><td>11.0</td></tr><tr><td>2017-07-05</td><td>&quot;水&quot;</td><td>0.0</td><td>0.0</td></tr></tbody></table></div>"
      ],
      "text/plain": [
       "shape: (5, 4)\n",
       "┌────────────┬─────────────┬─────────────┬──────────────────┐\n",
       "│ date       ┆ day_of_week ┆ total_preci ┆ hourly_max_preci │\n",
       "│ ---        ┆ ---         ┆ ---         ┆ ---              │\n",
       "│ date       ┆ str         ┆ f64         ┆ f64              │\n",
       "╞════════════╪═════════════╪═════════════╪══════════════════╡\n",
       "│ 2017-07-01 ┆ 土          ┆ 11.5        ┆ 4.0              │\n",
       "│ 2017-07-02 ┆ 日          ┆ 34.0        ┆ 14.0             │\n",
       "│ 2017-07-03 ┆ 月          ┆ 52.0        ┆ 10.0             │\n",
       "│ 2017-07-04 ┆ 火          ┆ 37.0        ┆ 11.0             │\n",
       "│ 2017-07-05 ┆ 水          ┆ 0.0         ┆ 0.0              │\n",
       "└────────────┴─────────────┴─────────────┴──────────────────┘"
      ]
     },
     "execution_count": 6,
     "metadata": {},
     "output_type": "execute_result"
    }
   ],
   "source": [
    "file_name = \"../../data/weather/rain.csv\"\n",
    "df_rain = pl.read_csv(file_name, encoding=\"shift-jis\", skip_rows=5)\n",
    "df_rain.columns = [\"date\", \"day_of_week\", \"total_preci\", \"total_preci_info\", \"hourly_max_preci\", \\\n",
    "                \"hourly_max_preci_info\"] # , \"hourly_max_preci_time\", \"hourly_max_preci_time_info\"]\n",
    "df_rain = df_rain.drop([\"hourly_max_preci_info\", \"hourly_max_preci_time_info\", \"total_preci_info\"])\n",
    "df_rain = df_rain.with_columns(pl.col(\"date\").str.strptime(pl.Date, \"%Y/%m/%d\")) # convert day column data type into date type\n",
    "# df_rain = df_rain.with_columns(pl.col(\"hourly_max_preci_time\").str.strptime(pl.Datetime, \"%Y/%m/%d %H:%M\")) # convert time column data type into datetime\n",
    "df_rain.head()"
   ]
  },
  {
   "cell_type": "code",
   "execution_count": 7,
   "metadata": {},
   "outputs": [
    {
     "data": {
      "text/html": [
       "<div><style>\n",
       ".dataframe > thead > tr,\n",
       ".dataframe > tbody > tr {\n",
       "  text-align: right;\n",
       "  white-space: pre-wrap;\n",
       "}\n",
       "</style>\n",
       "<small>shape: (1, 4)</small><table border=\"1\" class=\"dataframe\"><thead><tr><th>date</th><th>day_of_week</th><th>total_preci</th><th>hourly_max_preci</th></tr><tr><td>u32</td><td>u32</td><td>u32</td><td>u32</td></tr></thead><tbody><tr><td>0</td><td>0</td><td>6</td><td>6</td></tr></tbody></table></div>"
      ],
      "text/plain": [
       "shape: (1, 4)\n",
       "┌──────┬─────────────┬─────────────┬──────────────────┐\n",
       "│ date ┆ day_of_week ┆ total_preci ┆ hourly_max_preci │\n",
       "│ ---  ┆ ---         ┆ ---         ┆ ---              │\n",
       "│ u32  ┆ u32         ┆ u32         ┆ u32              │\n",
       "╞══════╪═════════════╪═════════════╪══════════════════╡\n",
       "│ 0    ┆ 0           ┆ 6           ┆ 6                │\n",
       "└──────┴─────────────┴─────────────┴──────────────────┘"
      ]
     },
     "metadata": {},
     "output_type": "display_data"
    },
    {
     "data": {
      "text/html": [
       "<div><style>\n",
       ".dataframe > thead > tr,\n",
       ".dataframe > tbody > tr {\n",
       "  text-align: right;\n",
       "  white-space: pre-wrap;\n",
       "}\n",
       "</style>\n",
       "<small>shape: (6, 5)</small><table border=\"1\" class=\"dataframe\"><thead><tr><th>date</th><th>day_of_week</th><th>total_preci</th><th>hourly_max_preci</th><th>null_count</th></tr><tr><td>date</td><td>str</td><td>f64</td><td>f64</td><td>u32</td></tr></thead><tbody><tr><td>2019-10-15</td><td>&quot;火&quot;</td><td>null</td><td>null</td><td>2</td></tr><tr><td>2020-06-02</td><td>&quot;火&quot;</td><td>null</td><td>null</td><td>2</td></tr><tr><td>2020-06-03</td><td>&quot;水&quot;</td><td>null</td><td>null</td><td>2</td></tr><tr><td>2020-06-04</td><td>&quot;木&quot;</td><td>null</td><td>null</td><td>2</td></tr><tr><td>2020-06-05</td><td>&quot;金&quot;</td><td>null</td><td>null</td><td>2</td></tr><tr><td>2022-10-02</td><td>&quot;日&quot;</td><td>null</td><td>null</td><td>2</td></tr></tbody></table></div>"
      ],
      "text/plain": [
       "shape: (6, 5)\n",
       "┌────────────┬─────────────┬─────────────┬──────────────────┬────────────┐\n",
       "│ date       ┆ day_of_week ┆ total_preci ┆ hourly_max_preci ┆ null_count │\n",
       "│ ---        ┆ ---         ┆ ---         ┆ ---              ┆ ---        │\n",
       "│ date       ┆ str         ┆ f64         ┆ f64              ┆ u32        │\n",
       "╞════════════╪═════════════╪═════════════╪══════════════════╪════════════╡\n",
       "│ 2019-10-15 ┆ 火          ┆ null        ┆ null             ┆ 2          │\n",
       "│ 2020-06-02 ┆ 火          ┆ null        ┆ null             ┆ 2          │\n",
       "│ 2020-06-03 ┆ 水          ┆ null        ┆ null             ┆ 2          │\n",
       "│ 2020-06-04 ┆ 木          ┆ null        ┆ null             ┆ 2          │\n",
       "│ 2020-06-05 ┆ 金          ┆ null        ┆ null             ┆ 2          │\n",
       "│ 2022-10-02 ┆ 日          ┆ null        ┆ null             ┆ 2          │\n",
       "└────────────┴─────────────┴─────────────┴──────────────────┴────────────┘"
      ]
     },
     "execution_count": 7,
     "metadata": {},
     "output_type": "execute_result"
    }
   ],
   "source": [
    "display(df_rain.null_count())\n",
    "df_rain.hstack(df_rain.transpose().select(pl.all().is_null().sum()).transpose().rename({\"column_0\": \"null_count\"})).filter(pl.col(\"null_count\") != 0)"
   ]
  },
  {
   "cell_type": "markdown",
   "metadata": {},
   "source": [
    "## Snow"
   ]
  },
  {
   "cell_type": "markdown",
   "metadata": {},
   "source": [
    "年月日, 曜日, 最深積雪(cm), 最深積雪(cm) info, 降雪量合計(cm), 降雪量合計(cm) info"
   ]
  },
  {
   "cell_type": "code",
   "execution_count": 8,
   "metadata": {},
   "outputs": [
    {
     "data": {
      "text/html": [
       "<div><style>\n",
       ".dataframe > thead > tr,\n",
       ".dataframe > tbody > tr {\n",
       "  text-align: right;\n",
       "  white-space: pre-wrap;\n",
       "}\n",
       "</style>\n",
       "<small>shape: (5, 4)</small><table border=\"1\" class=\"dataframe\"><thead><tr><th>date</th><th>day_of_week</th><th>max_depth</th><th>total_snowfall</th></tr><tr><td>date</td><td>str</td><td>i64</td><td>i64</td></tr></thead><tbody><tr><td>2017-07-01</td><td>&quot;土&quot;</td><td>0</td><td>0</td></tr><tr><td>2017-07-02</td><td>&quot;日&quot;</td><td>0</td><td>0</td></tr><tr><td>2017-07-03</td><td>&quot;月&quot;</td><td>0</td><td>0</td></tr><tr><td>2017-07-04</td><td>&quot;火&quot;</td><td>0</td><td>0</td></tr><tr><td>2017-07-05</td><td>&quot;水&quot;</td><td>0</td><td>0</td></tr></tbody></table></div>"
      ],
      "text/plain": [
       "shape: (5, 4)\n",
       "┌────────────┬─────────────┬───────────┬────────────────┐\n",
       "│ date       ┆ day_of_week ┆ max_depth ┆ total_snowfall │\n",
       "│ ---        ┆ ---         ┆ ---       ┆ ---            │\n",
       "│ date       ┆ str         ┆ i64       ┆ i64            │\n",
       "╞════════════╪═════════════╪═══════════╪════════════════╡\n",
       "│ 2017-07-01 ┆ 土          ┆ 0         ┆ 0              │\n",
       "│ 2017-07-02 ┆ 日          ┆ 0         ┆ 0              │\n",
       "│ 2017-07-03 ┆ 月          ┆ 0         ┆ 0              │\n",
       "│ 2017-07-04 ┆ 火          ┆ 0         ┆ 0              │\n",
       "│ 2017-07-05 ┆ 水          ┆ 0         ┆ 0              │\n",
       "└────────────┴─────────────┴───────────┴────────────────┘"
      ]
     },
     "execution_count": 8,
     "metadata": {},
     "output_type": "execute_result"
    }
   ],
   "source": [
    "file_name = \"../../data/weather/snow.csv\"\n",
    "df_snow = pl.read_csv(file_name, encoding=\"shift-jis\", skip_rows=5)\n",
    "df_snow.columns = [\"date\", \"day_of_week\", \"max_depth\", \"max_depth_info\",  \\\n",
    "                    \"total_snowfall\", \"total_snowfall_info\"]\n",
    "df_snow = df_snow.drop([\"max_depth_time\", \"max_depth_time_info\", \"max_depth_info\", \"total_snowfall_info\"])\n",
    "df_snow = df_snow.with_columns(pl.col(\"date\").str.strptime(pl.Date, \"%Y/%m/%d\")) # convert day column data type into date type\n",
    "df_snow.head()"
   ]
  },
  {
   "cell_type": "code",
   "execution_count": 9,
   "metadata": {},
   "outputs": [
    {
     "data": {
      "text/html": [
       "<div><style>\n",
       ".dataframe > thead > tr,\n",
       ".dataframe > tbody > tr {\n",
       "  text-align: right;\n",
       "  white-space: pre-wrap;\n",
       "}\n",
       "</style>\n",
       "<small>shape: (1, 4)</small><table border=\"1\" class=\"dataframe\"><thead><tr><th>date</th><th>day_of_week</th><th>max_depth</th><th>total_snowfall</th></tr><tr><td>u32</td><td>u32</td><td>u32</td><td>u32</td></tr></thead><tbody><tr><td>0</td><td>0</td><td>0</td><td>0</td></tr></tbody></table></div>"
      ],
      "text/plain": [
       "shape: (1, 4)\n",
       "┌──────┬─────────────┬───────────┬────────────────┐\n",
       "│ date ┆ day_of_week ┆ max_depth ┆ total_snowfall │\n",
       "│ ---  ┆ ---         ┆ ---       ┆ ---            │\n",
       "│ u32  ┆ u32         ┆ u32       ┆ u32            │\n",
       "╞══════╪═════════════╪═══════════╪════════════════╡\n",
       "│ 0    ┆ 0           ┆ 0         ┆ 0              │\n",
       "└──────┴─────────────┴───────────┴────────────────┘"
      ]
     },
     "metadata": {},
     "output_type": "display_data"
    },
    {
     "data": {
      "text/html": [
       "<div><style>\n",
       ".dataframe > thead > tr,\n",
       ".dataframe > tbody > tr {\n",
       "  text-align: right;\n",
       "  white-space: pre-wrap;\n",
       "}\n",
       "</style>\n",
       "<small>shape: (0, 5)</small><table border=\"1\" class=\"dataframe\"><thead><tr><th>date</th><th>day_of_week</th><th>max_depth</th><th>total_snowfall</th><th>null_count</th></tr><tr><td>date</td><td>str</td><td>i64</td><td>i64</td><td>u32</td></tr></thead><tbody></tbody></table></div>"
      ],
      "text/plain": [
       "shape: (0, 5)\n",
       "┌──────┬─────────────┬───────────┬────────────────┬────────────┐\n",
       "│ date ┆ day_of_week ┆ max_depth ┆ total_snowfall ┆ null_count │\n",
       "│ ---  ┆ ---         ┆ ---       ┆ ---            ┆ ---        │\n",
       "│ date ┆ str         ┆ i64       ┆ i64            ┆ u32        │\n",
       "╞══════╪═════════════╪═══════════╪════════════════╪════════════╡\n",
       "└──────┴─────────────┴───────────┴────────────────┴────────────┘"
      ]
     },
     "execution_count": 9,
     "metadata": {},
     "output_type": "execute_result"
    }
   ],
   "source": [
    "display(df_snow.null_count())\n",
    "df_snow.hstack(df_snow.transpose().select(pl.all().is_null().sum()).transpose().rename({\"column_0\": \"null_count\"})).filter(pl.col(\"null_count\") != 0)"
   ]
  },
  {
   "cell_type": "markdown",
   "metadata": {},
   "source": [
    "## Sun"
   ]
  },
  {
   "cell_type": "markdown",
   "metadata": {},
   "source": [
    "年月日, 曜日, 日照時間(時間), 日照時間(時間) info"
   ]
  },
  {
   "cell_type": "code",
   "execution_count": 10,
   "metadata": {},
   "outputs": [
    {
     "data": {
      "text/html": [
       "<div><style>\n",
       ".dataframe > thead > tr,\n",
       ".dataframe > tbody > tr {\n",
       "  text-align: right;\n",
       "  white-space: pre-wrap;\n",
       "}\n",
       "</style>\n",
       "<small>shape: (5, 3)</small><table border=\"1\" class=\"dataframe\"><thead><tr><th>date</th><th>day_of_week</th><th>sun_hour</th></tr><tr><td>date</td><td>str</td><td>f64</td></tr></thead><tbody><tr><td>2017-07-01</td><td>&quot;土&quot;</td><td>0.3</td></tr><tr><td>2017-07-02</td><td>&quot;日&quot;</td><td>0.7</td></tr><tr><td>2017-07-03</td><td>&quot;月&quot;</td><td>2.4</td></tr><tr><td>2017-07-04</td><td>&quot;火&quot;</td><td>0.0</td></tr><tr><td>2017-07-05</td><td>&quot;水&quot;</td><td>5.5</td></tr></tbody></table></div>"
      ],
      "text/plain": [
       "shape: (5, 3)\n",
       "┌────────────┬─────────────┬──────────┐\n",
       "│ date       ┆ day_of_week ┆ sun_hour │\n",
       "│ ---        ┆ ---         ┆ ---      │\n",
       "│ date       ┆ str         ┆ f64      │\n",
       "╞════════════╪═════════════╪══════════╡\n",
       "│ 2017-07-01 ┆ 土          ┆ 0.3      │\n",
       "│ 2017-07-02 ┆ 日          ┆ 0.7      │\n",
       "│ 2017-07-03 ┆ 月          ┆ 2.4      │\n",
       "│ 2017-07-04 ┆ 火          ┆ 0.0      │\n",
       "│ 2017-07-05 ┆ 水          ┆ 5.5      │\n",
       "└────────────┴─────────────┴──────────┘"
      ]
     },
     "execution_count": 10,
     "metadata": {},
     "output_type": "execute_result"
    }
   ],
   "source": [
    "file_name = \"../../data/weather/sun.csv\"\n",
    "df_sun = pl.read_csv(file_name, encoding=\"shift-jis\", skip_rows=4)\n",
    "df_sun.columns = [\"date\", \"day_of_week\", \"sun_hour\", \"sun_hour_info\"]\n",
    "df_sun = df_sun.drop([\"sun_sphere\", \"sun_hour_info\"])\n",
    "df_sun = df_sun.with_columns(pl.col(\"date\").str.strptime(pl.Date, \"%Y/%m/%d\")) # convert day column data type into date type\n",
    "df_sun.head()"
   ]
  },
  {
   "cell_type": "code",
   "execution_count": 11,
   "metadata": {},
   "outputs": [
    {
     "data": {
      "text/html": [
       "<div><style>\n",
       ".dataframe > thead > tr,\n",
       ".dataframe > tbody > tr {\n",
       "  text-align: right;\n",
       "  white-space: pre-wrap;\n",
       "}\n",
       "</style>\n",
       "<small>shape: (1, 3)</small><table border=\"1\" class=\"dataframe\"><thead><tr><th>date</th><th>day_of_week</th><th>sun_hour</th></tr><tr><td>u32</td><td>u32</td><td>u32</td></tr></thead><tbody><tr><td>0</td><td>0</td><td>1</td></tr></tbody></table></div>"
      ],
      "text/plain": [
       "shape: (1, 3)\n",
       "┌──────┬─────────────┬──────────┐\n",
       "│ date ┆ day_of_week ┆ sun_hour │\n",
       "│ ---  ┆ ---         ┆ ---      │\n",
       "│ u32  ┆ u32         ┆ u32      │\n",
       "╞══════╪═════════════╪══════════╡\n",
       "│ 0    ┆ 0           ┆ 1        │\n",
       "└──────┴─────────────┴──────────┘"
      ]
     },
     "metadata": {},
     "output_type": "display_data"
    },
    {
     "data": {
      "text/html": [
       "<div><style>\n",
       ".dataframe > thead > tr,\n",
       ".dataframe > tbody > tr {\n",
       "  text-align: right;\n",
       "  white-space: pre-wrap;\n",
       "}\n",
       "</style>\n",
       "<small>shape: (1, 4)</small><table border=\"1\" class=\"dataframe\"><thead><tr><th>date</th><th>day_of_week</th><th>sun_hour</th><th>null_count</th></tr><tr><td>date</td><td>str</td><td>f64</td><td>u32</td></tr></thead><tbody><tr><td>2020-02-13</td><td>&quot;木&quot;</td><td>null</td><td>1</td></tr></tbody></table></div>"
      ],
      "text/plain": [
       "shape: (1, 4)\n",
       "┌────────────┬─────────────┬──────────┬────────────┐\n",
       "│ date       ┆ day_of_week ┆ sun_hour ┆ null_count │\n",
       "│ ---        ┆ ---         ┆ ---      ┆ ---        │\n",
       "│ date       ┆ str         ┆ f64      ┆ u32        │\n",
       "╞════════════╪═════════════╪══════════╪════════════╡\n",
       "│ 2020-02-13 ┆ 木          ┆ null     ┆ 1          │\n",
       "└────────────┴─────────────┴──────────┴────────────┘"
      ]
     },
     "execution_count": 11,
     "metadata": {},
     "output_type": "execute_result"
    }
   ],
   "source": [
    "display(df_sun.null_count())\n",
    "df_sun.hstack(df_sun.transpose().select(pl.all().is_null().sum()).transpose().rename({\"column_0\": \"null_count\"})).filter(pl.col(\"null_count\") != 0)"
   ]
  },
  {
   "cell_type": "markdown",
   "metadata": {},
   "source": [
    "## Temperature"
   ]
  },
  {
   "cell_type": "markdown",
   "metadata": {},
   "source": [
    "年月日, 曜日, 平均気温(℃), 最低気温(℃), 最高気温(℃)"
   ]
  },
  {
   "cell_type": "code",
   "execution_count": 12,
   "metadata": {},
   "outputs": [
    {
     "data": {
      "text/html": [
       "<div><style>\n",
       ".dataframe > thead > tr,\n",
       ".dataframe > tbody > tr {\n",
       "  text-align: right;\n",
       "  white-space: pre-wrap;\n",
       "}\n",
       "</style>\n",
       "<small>shape: (5, 5)</small><table border=\"1\" class=\"dataframe\"><thead><tr><th>date</th><th>day_of_week</th><th>mean_temp</th><th>min_temp</th><th>max_temp</th></tr><tr><td>date</td><td>str</td><td>f64</td><td>f64</td><td>f64</td></tr></thead><tbody><tr><td>2017-07-01</td><td>&quot;土&quot;</td><td>22.5</td><td>20.3</td><td>25.1</td></tr><tr><td>2017-07-02</td><td>&quot;日&quot;</td><td>23.3</td><td>20.3</td><td>29.2</td></tr><tr><td>2017-07-03</td><td>&quot;月&quot;</td><td>24.1</td><td>21.7</td><td>29.3</td></tr><tr><td>2017-07-04</td><td>&quot;火&quot;</td><td>22.0</td><td>20.1</td><td>24.2</td></tr><tr><td>2017-07-05</td><td>&quot;水&quot;</td><td>23.6</td><td>20.6</td><td>27.8</td></tr></tbody></table></div>"
      ],
      "text/plain": [
       "shape: (5, 5)\n",
       "┌────────────┬─────────────┬───────────┬──────────┬──────────┐\n",
       "│ date       ┆ day_of_week ┆ mean_temp ┆ min_temp ┆ max_temp │\n",
       "│ ---        ┆ ---         ┆ ---       ┆ ---      ┆ ---      │\n",
       "│ date       ┆ str         ┆ f64       ┆ f64      ┆ f64      │\n",
       "╞════════════╪═════════════╪═══════════╪══════════╪══════════╡\n",
       "│ 2017-07-01 ┆ 土          ┆ 22.5      ┆ 20.3     ┆ 25.1     │\n",
       "│ 2017-07-02 ┆ 日          ┆ 23.3      ┆ 20.3     ┆ 29.2     │\n",
       "│ 2017-07-03 ┆ 月          ┆ 24.1      ┆ 21.7     ┆ 29.3     │\n",
       "│ 2017-07-04 ┆ 火          ┆ 22.0      ┆ 20.1     ┆ 24.2     │\n",
       "│ 2017-07-05 ┆ 水          ┆ 23.6      ┆ 20.6     ┆ 27.8     │\n",
       "└────────────┴─────────────┴───────────┴──────────┴──────────┘"
      ]
     },
     "execution_count": 12,
     "metadata": {},
     "output_type": "execute_result"
    }
   ],
   "source": [
    "file_name = \"../../data/weather/temperature.csv\"\n",
    "df_temp = pl.read_csv(file_name, encoding=\"shift-jis\", skip_rows=4)\n",
    "df_temp.columns = [\"date\", \"day_of_week\", \"mean_temp\", \"min_temp\", \"max_temp\"]\n",
    "df_temp = df_temp.with_columns(pl.col(\"date\").str.strptime(pl.Date, \"%Y/%m/%d\")) # convert day column data type into date type\n",
    "# df_temp = (\n",
    "#     df_temp.with_columns(pl.col([\"max_temp_time\", \"min_temp_time\"]).str\n",
    "#                     .strptime(pl.Datetime, \"%Y/%m/%d %H:%M\")) # convert time column data type into datetime\n",
    "# )\n",
    "df_temp.head()"
   ]
  },
  {
   "cell_type": "code",
   "execution_count": 13,
   "metadata": {},
   "outputs": [
    {
     "data": {
      "text/html": [
       "<div><style>\n",
       ".dataframe > thead > tr,\n",
       ".dataframe > tbody > tr {\n",
       "  text-align: right;\n",
       "  white-space: pre-wrap;\n",
       "}\n",
       "</style>\n",
       "<small>shape: (1, 5)</small><table border=\"1\" class=\"dataframe\"><thead><tr><th>date</th><th>day_of_week</th><th>mean_temp</th><th>min_temp</th><th>max_temp</th></tr><tr><td>u32</td><td>u32</td><td>u32</td><td>u32</td><td>u32</td></tr></thead><tbody><tr><td>0</td><td>0</td><td>0</td><td>0</td><td>0</td></tr></tbody></table></div>"
      ],
      "text/plain": [
       "shape: (1, 5)\n",
       "┌──────┬─────────────┬───────────┬──────────┬──────────┐\n",
       "│ date ┆ day_of_week ┆ mean_temp ┆ min_temp ┆ max_temp │\n",
       "│ ---  ┆ ---         ┆ ---       ┆ ---      ┆ ---      │\n",
       "│ u32  ┆ u32         ┆ u32       ┆ u32      ┆ u32      │\n",
       "╞══════╪═════════════╪═══════════╪══════════╪══════════╡\n",
       "│ 0    ┆ 0           ┆ 0         ┆ 0        ┆ 0        │\n",
       "└──────┴─────────────┴───────────┴──────────┴──────────┘"
      ]
     },
     "metadata": {},
     "output_type": "display_data"
    },
    {
     "data": {
      "text/html": [
       "<div><style>\n",
       ".dataframe > thead > tr,\n",
       ".dataframe > tbody > tr {\n",
       "  text-align: right;\n",
       "  white-space: pre-wrap;\n",
       "}\n",
       "</style>\n",
       "<small>shape: (0, 6)</small><table border=\"1\" class=\"dataframe\"><thead><tr><th>date</th><th>day_of_week</th><th>mean_temp</th><th>min_temp</th><th>max_temp</th><th>null_count</th></tr><tr><td>date</td><td>str</td><td>f64</td><td>f64</td><td>f64</td><td>u32</td></tr></thead><tbody></tbody></table></div>"
      ],
      "text/plain": [
       "shape: (0, 6)\n",
       "┌──────┬─────────────┬───────────┬──────────┬──────────┬────────────┐\n",
       "│ date ┆ day_of_week ┆ mean_temp ┆ min_temp ┆ max_temp ┆ null_count │\n",
       "│ ---  ┆ ---         ┆ ---       ┆ ---      ┆ ---      ┆ ---        │\n",
       "│ date ┆ str         ┆ f64       ┆ f64      ┆ f64      ┆ u32        │\n",
       "╞══════╪═════════════╪═══════════╪══════════╪══════════╪════════════╡\n",
       "└──────┴─────────────┴───────────┴──────────┴──────────┴────────────┘"
      ]
     },
     "execution_count": 13,
     "metadata": {},
     "output_type": "execute_result"
    }
   ],
   "source": [
    "display(df_temp.null_count())\n",
    "df_temp.hstack(df_temp.transpose().select(pl.all().is_null().sum()).transpose().rename({\"column_0\": \"null_count\"})).filter(pl.col(\"null_count\") != 0)"
   ]
  },
  {
   "cell_type": "markdown",
   "metadata": {},
   "source": [
    "## Wind"
   ]
  },
  {
   "cell_type": "markdown",
   "metadata": {},
   "source": [
    "年月日, 曜日, 平均風速(m/s), 最多風向(16方位), 最大風速(m/s), 最大風速(m/s) direction, 最大瞬間風速(m/s), 最大瞬間風速(m/s) direction"
   ]
  },
  {
   "cell_type": "code",
   "execution_count": 14,
   "metadata": {},
   "outputs": [
    {
     "data": {
      "text/html": [
       "<div><style>\n",
       ".dataframe > thead > tr,\n",
       ".dataframe > tbody > tr {\n",
       "  text-align: right;\n",
       "  white-space: pre-wrap;\n",
       "}\n",
       "</style>\n",
       "<small>shape: (5, 6)</small><table border=\"1\" class=\"dataframe\"><thead><tr><th>date</th><th>day_of_week</th><th>mean_wind_speed</th><th>most_direction</th><th>max_wind_speed</th><th>max_gust</th></tr><tr><td>date</td><td>str</td><td>f64</td><td>str</td><td>f64</td><td>f64</td></tr></thead><tbody><tr><td>2017-07-01</td><td>&quot;土&quot;</td><td>1.5</td><td>&quot;南南東&quot;</td><td>3.8</td><td>6.2</td></tr><tr><td>2017-07-02</td><td>&quot;日&quot;</td><td>1.8</td><td>&quot;北東&quot;</td><td>5.7</td><td>9.6</td></tr><tr><td>2017-07-03</td><td>&quot;月&quot;</td><td>2.2</td><td>&quot;北&quot;</td><td>6.3</td><td>11.3</td></tr><tr><td>2017-07-04</td><td>&quot;火&quot;</td><td>1.2</td><td>&quot;北&quot;</td><td>3.6</td><td>5.3</td></tr><tr><td>2017-07-05</td><td>&quot;水&quot;</td><td>2.8</td><td>&quot;北西&quot;</td><td>6.7</td><td>9.8</td></tr></tbody></table></div>"
      ],
      "text/plain": [
       "shape: (5, 6)\n",
       "┌────────────┬─────────────┬─────────────────┬────────────────┬────────────────┬──────────┐\n",
       "│ date       ┆ day_of_week ┆ mean_wind_speed ┆ most_direction ┆ max_wind_speed ┆ max_gust │\n",
       "│ ---        ┆ ---         ┆ ---             ┆ ---            ┆ ---            ┆ ---      │\n",
       "│ date       ┆ str         ┆ f64             ┆ str            ┆ f64            ┆ f64      │\n",
       "╞════════════╪═════════════╪═════════════════╪════════════════╪════════════════╪══════════╡\n",
       "│ 2017-07-01 ┆ 土          ┆ 1.5             ┆ 南南東         ┆ 3.8            ┆ 6.2      │\n",
       "│ 2017-07-02 ┆ 日          ┆ 1.8             ┆ 北東           ┆ 5.7            ┆ 9.6      │\n",
       "│ 2017-07-03 ┆ 月          ┆ 2.2             ┆ 北             ┆ 6.3            ┆ 11.3     │\n",
       "│ 2017-07-04 ┆ 火          ┆ 1.2             ┆ 北             ┆ 3.6            ┆ 5.3      │\n",
       "│ 2017-07-05 ┆ 水          ┆ 2.8             ┆ 北西           ┆ 6.7            ┆ 9.8      │\n",
       "└────────────┴─────────────┴─────────────────┴────────────────┴────────────────┴──────────┘"
      ]
     },
     "execution_count": 14,
     "metadata": {},
     "output_type": "execute_result"
    }
   ],
   "source": [
    "file_name = \"../../data/weather/wind.csv\"\n",
    "df_wind = pl.read_csv(file_name, encoding=\"shift-jis\", skip_rows=4)\n",
    "df_wind.columns = [\"date\", \"day_of_week\", \"mean_wind_speed\", \"most_direction\", \"max_wind_speed\", \\\n",
    "                \"max_wind_speed_direction\", \"max_gust\", \"max_gust_direction\"]\n",
    "df_wind = df_wind.with_columns(pl.col(\"date\").str.strptime(pl.Date, \"%Y/%m/%d\")) # convert day column data type into date type\n",
    "# df_wind = (\n",
    "#     df_wind.with_columns(pl.col([\"max_wind_speed_time\", \"max_gust_time\"]).str\n",
    "#                     .strptime(pl.Datetime, \"%Y/%m/%d %H:%M\")) # convert time column data type into datetime\n",
    "# )\n",
    "df_wind = df_wind.drop([\"max_wind_speed_direction\", \"max_gust_direction\"])\n",
    "df_wind.head()"
   ]
  },
  {
   "cell_type": "code",
   "execution_count": 15,
   "metadata": {},
   "outputs": [],
   "source": [
    "direction = [\"北北東\", \"北東\", \"東北東\", \"東\", \"東南東\", \"南東\", \"南南東\", \"南\", \\\n",
    "                \"南南西\", \"南西\", \"西南西\", \"西\", \"西北西\", \"北西\", \"北北西\", \"北\"]\n",
    "direction = {dire: idx+1 for idx, dire in enumerate(direction)}\n",
    "df_wind = df_wind.with_columns(\n",
    "    pl.col(\"most_direction\").replace(direction, return_dtype=pl.Int8).alias(\"most_direction_dummy\")\n",
    ")"
   ]
  },
  {
   "cell_type": "code",
   "execution_count": 16,
   "metadata": {},
   "outputs": [
    {
     "data": {
      "text/html": [
       "<div><style>\n",
       ".dataframe > thead > tr,\n",
       ".dataframe > tbody > tr {\n",
       "  text-align: right;\n",
       "  white-space: pre-wrap;\n",
       "}\n",
       "</style>\n",
       "<small>shape: (1, 7)</small><table border=\"1\" class=\"dataframe\"><thead><tr><th>date</th><th>day_of_week</th><th>mean_wind_speed</th><th>most_direction</th><th>max_wind_speed</th><th>max_gust</th><th>most_direction_dummy</th></tr><tr><td>u32</td><td>u32</td><td>u32</td><td>u32</td><td>u32</td><td>u32</td><td>u32</td></tr></thead><tbody><tr><td>0</td><td>0</td><td>4</td><td>4</td><td>4</td><td>4</td><td>4</td></tr></tbody></table></div>"
      ],
      "text/plain": [
       "shape: (1, 7)\n",
       "┌──────┬─────────────┬────────────────┬────────────────┬────────────────┬──────────┬───────────────┐\n",
       "│ date ┆ day_of_week ┆ mean_wind_spee ┆ most_direction ┆ max_wind_speed ┆ max_gust ┆ most_directio │\n",
       "│ ---  ┆ ---         ┆ d              ┆ ---            ┆ ---            ┆ ---      ┆ n_dummy       │\n",
       "│ u32  ┆ u32         ┆ ---            ┆ u32            ┆ u32            ┆ u32      ┆ ---           │\n",
       "│      ┆             ┆ u32            ┆                ┆                ┆          ┆ u32           │\n",
       "╞══════╪═════════════╪════════════════╪════════════════╪════════════════╪══════════╪═══════════════╡\n",
       "│ 0    ┆ 0           ┆ 4              ┆ 4              ┆ 4              ┆ 4        ┆ 4             │\n",
       "└──────┴─────────────┴────────────────┴────────────────┴────────────────┴──────────┴───────────────┘"
      ]
     },
     "metadata": {},
     "output_type": "display_data"
    },
    {
     "data": {
      "text/html": [
       "<div><style>\n",
       ".dataframe > thead > tr,\n",
       ".dataframe > tbody > tr {\n",
       "  text-align: right;\n",
       "  white-space: pre-wrap;\n",
       "}\n",
       "</style>\n",
       "<small>shape: (4, 8)</small><table border=\"1\" class=\"dataframe\"><thead><tr><th>date</th><th>day_of_week</th><th>mean_wind_speed</th><th>most_direction</th><th>max_wind_speed</th><th>max_gust</th><th>most_direction_dummy</th><th>null_count</th></tr><tr><td>date</td><td>str</td><td>f64</td><td>str</td><td>f64</td><td>f64</td><td>i8</td><td>u32</td></tr></thead><tbody><tr><td>2020-03-29</td><td>&quot;日&quot;</td><td>null</td><td>null</td><td>null</td><td>null</td><td>null</td><td>5</td></tr><tr><td>2021-01-05</td><td>&quot;火&quot;</td><td>null</td><td>null</td><td>null</td><td>null</td><td>null</td><td>5</td></tr><tr><td>2022-02-11</td><td>&quot;金&quot;</td><td>null</td><td>null</td><td>null</td><td>null</td><td>null</td><td>5</td></tr><tr><td>2024-02-06</td><td>&quot;火&quot;</td><td>null</td><td>null</td><td>null</td><td>null</td><td>null</td><td>5</td></tr></tbody></table></div>"
      ],
      "text/plain": [
       "shape: (4, 8)\n",
       "┌────────────┬────────────┬────────────┬────────────┬───────────┬──────────┬───────────┬───────────┐\n",
       "│ date       ┆ day_of_wee ┆ mean_wind_ ┆ most_direc ┆ max_wind_ ┆ max_gust ┆ most_dire ┆ null_coun │\n",
       "│ ---        ┆ k          ┆ speed      ┆ tion       ┆ speed     ┆ ---      ┆ ction_dum ┆ t         │\n",
       "│ date       ┆ ---        ┆ ---        ┆ ---        ┆ ---       ┆ f64      ┆ my        ┆ ---       │\n",
       "│            ┆ str        ┆ f64        ┆ str        ┆ f64       ┆          ┆ ---       ┆ u32       │\n",
       "│            ┆            ┆            ┆            ┆           ┆          ┆ i8        ┆           │\n",
       "╞════════════╪════════════╪════════════╪════════════╪═══════════╪══════════╪═══════════╪═══════════╡\n",
       "│ 2020-03-29 ┆ 日         ┆ null       ┆ null       ┆ null      ┆ null     ┆ null      ┆ 5         │\n",
       "│ 2021-01-05 ┆ 火         ┆ null       ┆ null       ┆ null      ┆ null     ┆ null      ┆ 5         │\n",
       "│ 2022-02-11 ┆ 金         ┆ null       ┆ null       ┆ null      ┆ null     ┆ null      ┆ 5         │\n",
       "│ 2024-02-06 ┆ 火         ┆ null       ┆ null       ┆ null      ┆ null     ┆ null      ┆ 5         │\n",
       "└────────────┴────────────┴────────────┴────────────┴───────────┴──────────┴───────────┴───────────┘"
      ]
     },
     "execution_count": 16,
     "metadata": {},
     "output_type": "execute_result"
    }
   ],
   "source": [
    "display(df_wind.null_count())\n",
    "df_wind.hstack(df_wind.transpose().select(pl.all().is_null().sum()).transpose().rename({\"column_0\": \"null_count\"})).filter(pl.col(\"null_count\") != 0)"
   ]
  },
  {
   "cell_type": "markdown",
   "metadata": {},
   "source": [
    "---\n",
    "## Gather'em"
   ]
  },
  {
   "cell_type": "markdown",
   "metadata": {},
   "source": [
    "Combine dataframe into barometric pressure dataframe because it doesn't have any null values."
   ]
  },
  {
   "cell_type": "code",
   "execution_count": 17,
   "metadata": {},
   "outputs": [
    {
     "data": {
      "text/html": [
       "<div><style>\n",
       ".dataframe > thead > tr,\n",
       ".dataframe > tbody > tr {\n",
       "  text-align: right;\n",
       "  white-space: pre-wrap;\n",
       "}\n",
       "</style>\n",
       "<small>shape: (2_588, 21)</small><table border=\"1\" class=\"dataframe\"><thead><tr><th>date</th><th>day_of_week</th><th>mean_press</th><th>mean_press_sea</th><th>min_press_sea</th><th>mean_hum</th><th>min_hum</th><th>mean_vapor</th><th>total_preci</th><th>hourly_max_preci</th><th>max_depth</th><th>total_snowfall</th><th>sun_hour</th><th>mean_temp</th><th>min_temp</th><th>max_temp</th><th>mean_wind_speed</th><th>most_direction</th><th>max_wind_speed</th><th>max_gust</th><th>most_direction_dummy</th></tr><tr><td>date</td><td>str</td><td>f64</td><td>f64</td><td>f64</td><td>i64</td><td>i64</td><td>f64</td><td>f64</td><td>f64</td><td>i64</td><td>i64</td><td>f64</td><td>f64</td><td>f64</td><td>f64</td><td>f64</td><td>str</td><td>f64</td><td>f64</td><td>i8</td></tr></thead><tbody><tr><td>2017-07-01</td><td>&quot;土&quot;</td><td>983.8</td><td>1008.1</td><td>1007.1</td><td>88</td><td>63</td><td>23.8</td><td>11.5</td><td>4.0</td><td>0</td><td>0</td><td>0.3</td><td>22.5</td><td>20.3</td><td>25.1</td><td>1.5</td><td>&quot;南南東&quot;</td><td>3.8</td><td>6.2</td><td>7</td></tr><tr><td>2017-07-02</td><td>&quot;日&quot;</td><td>985.0</td><td>1009.3</td><td>1007.5</td><td>91</td><td>63</td><td>25.9</td><td>34.0</td><td>14.0</td><td>0</td><td>0</td><td>0.7</td><td>23.3</td><td>20.3</td><td>29.2</td><td>1.8</td><td>&quot;北東&quot;</td><td>5.7</td><td>9.6</td><td>2</td></tr><tr><td>2017-07-03</td><td>&quot;月&quot;</td><td>982.8</td><td>1006.9</td><td>1004.0</td><td>89</td><td>56</td><td>26.3</td><td>52.0</td><td>10.0</td><td>0</td><td>0</td><td>2.4</td><td>24.1</td><td>21.7</td><td>29.3</td><td>2.2</td><td>&quot;北&quot;</td><td>6.3</td><td>11.3</td><td>16</td></tr><tr><td>2017-07-04</td><td>&quot;火&quot;</td><td>982.3</td><td>1006.6</td><td>1004.7</td><td>97</td><td>87</td><td>25.6</td><td>37.0</td><td>11.0</td><td>0</td><td>0</td><td>0.0</td><td>22.0</td><td>20.1</td><td>24.2</td><td>1.2</td><td>&quot;北&quot;</td><td>3.6</td><td>5.3</td><td>16</td></tr><tr><td>2017-07-05</td><td>&quot;水&quot;</td><td>983.7</td><td>1007.9</td><td>1004.0</td><td>82</td><td>62</td><td>23.7</td><td>0.0</td><td>0.0</td><td>0</td><td>0</td><td>5.5</td><td>23.6</td><td>20.6</td><td>27.8</td><td>2.8</td><td>&quot;北西&quot;</td><td>6.7</td><td>9.8</td><td>14</td></tr><tr><td>&hellip;</td><td>&hellip;</td><td>&hellip;</td><td>&hellip;</td><td>&hellip;</td><td>&hellip;</td><td>&hellip;</td><td>&hellip;</td><td>&hellip;</td><td>&hellip;</td><td>&hellip;</td><td>&hellip;</td><td>&hellip;</td><td>&hellip;</td><td>&hellip;</td><td>&hellip;</td><td>&hellip;</td><td>&hellip;</td><td>&hellip;</td><td>&hellip;</td><td>&hellip;</td></tr><tr><td>2024-07-27</td><td>&quot;土&quot;</td><td>993.4</td><td>1017.5</td><td>1015.7</td><td>85</td><td>60</td><td>31.8</td><td>0.5</td><td>0.5</td><td>0</td><td>0</td><td>3.3</td><td>28.0</td><td>25.0</td><td>33.6</td><td>1.8</td><td>&quot;北&quot;</td><td>5.4</td><td>9.2</td><td>16</td></tr><tr><td>2024-07-28</td><td>&quot;日&quot;</td><td>988.5</td><td>1012.4</td><td>1009.7</td><td>84</td><td>69</td><td>30.9</td><td>0.5</td><td>0.5</td><td>0</td><td>0</td><td>1.0</td><td>27.5</td><td>25.4</td><td>31.3</td><td>2.0</td><td>&quot;北西&quot;</td><td>5.0</td><td>8.2</td><td>14</td></tr><tr><td>2024-07-29</td><td>&quot;月&quot;</td><td>981.8</td><td>1005.6</td><td>1002.4</td><td>78</td><td>57</td><td>28.5</td><td>1.0</td><td>1.0</td><td>0</td><td>0</td><td>1.4</td><td>27.4</td><td>24.6</td><td>32.5</td><td>2.5</td><td>&quot;北西&quot;</td><td>6.0</td><td>10.1</td><td>14</td></tr><tr><td>2024-07-30</td><td>&quot;火&quot;</td><td>978.2</td><td>1001.9</td><td>1000.7</td><td>80</td><td>64</td><td>29.8</td><td>1.5</td><td>1.0</td><td>0</td><td>0</td><td>6.3</td><td>27.8</td><td>24.4</td><td>31.9</td><td>3.5</td><td>&quot;西北西&quot;</td><td>6.4</td><td>10.7</td><td>13</td></tr><tr><td>2024-07-31</td><td>&quot;水&quot;</td><td>980.9</td><td>1004.8</td><td>1002.6</td><td>83</td><td>62</td><td>27.9</td><td>6.0</td><td>5.0</td><td>0</td><td>0</td><td>5.4</td><td>26.3</td><td>23.4</td><td>30.9</td><td>2.4</td><td>&quot;西北西&quot;</td><td>6.6</td><td>11.1</td><td>13</td></tr></tbody></table></div>"
      ],
      "text/plain": [
       "shape: (2_588, 21)\n",
       "┌───────────┬───────────┬───────────┬───────────┬───┬───────────┬───────────┬──────────┬───────────┐\n",
       "│ date      ┆ day_of_we ┆ mean_pres ┆ mean_pres ┆ … ┆ most_dire ┆ max_wind_ ┆ max_gust ┆ most_dire │\n",
       "│ ---       ┆ ek        ┆ s         ┆ s_sea     ┆   ┆ ction     ┆ speed     ┆ ---      ┆ ction_dum │\n",
       "│ date      ┆ ---       ┆ ---       ┆ ---       ┆   ┆ ---       ┆ ---       ┆ f64      ┆ my        │\n",
       "│           ┆ str       ┆ f64       ┆ f64       ┆   ┆ str       ┆ f64       ┆          ┆ ---       │\n",
       "│           ┆           ┆           ┆           ┆   ┆           ┆           ┆          ┆ i8        │\n",
       "╞═══════════╪═══════════╪═══════════╪═══════════╪═══╪═══════════╪═══════════╪══════════╪═══════════╡\n",
       "│ 2017-07-0 ┆ 土        ┆ 983.8     ┆ 1008.1    ┆ … ┆ 南南東    ┆ 3.8       ┆ 6.2      ┆ 7         │\n",
       "│ 1         ┆           ┆           ┆           ┆   ┆           ┆           ┆          ┆           │\n",
       "│ 2017-07-0 ┆ 日        ┆ 985.0     ┆ 1009.3    ┆ … ┆ 北東      ┆ 5.7       ┆ 9.6      ┆ 2         │\n",
       "│ 2         ┆           ┆           ┆           ┆   ┆           ┆           ┆          ┆           │\n",
       "│ 2017-07-0 ┆ 月        ┆ 982.8     ┆ 1006.9    ┆ … ┆ 北        ┆ 6.3       ┆ 11.3     ┆ 16        │\n",
       "│ 3         ┆           ┆           ┆           ┆   ┆           ┆           ┆          ┆           │\n",
       "│ 2017-07-0 ┆ 火        ┆ 982.3     ┆ 1006.6    ┆ … ┆ 北        ┆ 3.6       ┆ 5.3      ┆ 16        │\n",
       "│ 4         ┆           ┆           ┆           ┆   ┆           ┆           ┆          ┆           │\n",
       "│ 2017-07-0 ┆ 水        ┆ 983.7     ┆ 1007.9    ┆ … ┆ 北西      ┆ 6.7       ┆ 9.8      ┆ 14        │\n",
       "│ 5         ┆           ┆           ┆           ┆   ┆           ┆           ┆          ┆           │\n",
       "│ …         ┆ …         ┆ …         ┆ …         ┆ … ┆ …         ┆ …         ┆ …        ┆ …         │\n",
       "│ 2024-07-2 ┆ 土        ┆ 993.4     ┆ 1017.5    ┆ … ┆ 北        ┆ 5.4       ┆ 9.2      ┆ 16        │\n",
       "│ 7         ┆           ┆           ┆           ┆   ┆           ┆           ┆          ┆           │\n",
       "│ 2024-07-2 ┆ 日        ┆ 988.5     ┆ 1012.4    ┆ … ┆ 北西      ┆ 5.0       ┆ 8.2      ┆ 14        │\n",
       "│ 8         ┆           ┆           ┆           ┆   ┆           ┆           ┆          ┆           │\n",
       "│ 2024-07-2 ┆ 月        ┆ 981.8     ┆ 1005.6    ┆ … ┆ 北西      ┆ 6.0       ┆ 10.1     ┆ 14        │\n",
       "│ 9         ┆           ┆           ┆           ┆   ┆           ┆           ┆          ┆           │\n",
       "│ 2024-07-3 ┆ 火        ┆ 978.2     ┆ 1001.9    ┆ … ┆ 西北西    ┆ 6.4       ┆ 10.7     ┆ 13        │\n",
       "│ 0         ┆           ┆           ┆           ┆   ┆           ┆           ┆          ┆           │\n",
       "│ 2024-07-3 ┆ 水        ┆ 980.9     ┆ 1004.8    ┆ … ┆ 西北西    ┆ 6.6       ┆ 11.1     ┆ 13        │\n",
       "│ 1         ┆           ┆           ┆           ┆   ┆           ┆           ┆          ┆           │\n",
       "└───────────┴───────────┴───────────┴───────────┴───┴───────────┴───────────┴──────────┴───────────┘"
      ]
     },
     "execution_count": 17,
     "metadata": {},
     "output_type": "execute_result"
    }
   ],
   "source": [
    "df = (\n",
    "    df_press\n",
    "    .join(df_hum, on=[\"date\", \"day_of_week\"], how=\"left\")\n",
    "    .join(df_rain, on=[\"date\", \"day_of_week\"], how=\"left\")\n",
    "    .join(df_snow, on=[\"date\", \"day_of_week\"], how=\"left\")\n",
    "    .join(df_sun, on=[\"date\", \"day_of_week\"], how=\"left\")\n",
    "    .join(df_temp, on=[\"date\", \"day_of_week\"], how=\"left\")\n",
    "    .join(df_wind, on=[\"date\", \"day_of_week\"], how=\"left\")\n",
    ")\n",
    "df"
   ]
  },
  {
   "cell_type": "markdown",
   "metadata": {},
   "source": [
    "---\n",
    "## Remove occurrence time columns"
   ]
  },
  {
   "cell_type": "code",
   "execution_count": 18,
   "metadata": {},
   "outputs": [],
   "source": [
    "use_col = []\n",
    "for col in df.columns:\n",
    "    if \"time\" not in col:\n",
    "        use_col.append(col)\n",
    "df = df[use_col] # select columns which not including \"time\""
   ]
  },
  {
   "cell_type": "code",
   "execution_count": 19,
   "metadata": {},
   "outputs": [
    {
     "data": {
      "text/html": [
       "<div><style>\n",
       ".dataframe > thead > tr,\n",
       ".dataframe > tbody > tr {\n",
       "  text-align: right;\n",
       "  white-space: pre-wrap;\n",
       "}\n",
       "</style>\n",
       "<small>shape: (1, 21)</small><table border=\"1\" class=\"dataframe\"><thead><tr><th>date</th><th>day_of_week</th><th>mean_press</th><th>mean_press_sea</th><th>min_press_sea</th><th>mean_hum</th><th>min_hum</th><th>mean_vapor</th><th>total_preci</th><th>hourly_max_preci</th><th>max_depth</th><th>total_snowfall</th><th>sun_hour</th><th>mean_temp</th><th>min_temp</th><th>max_temp</th><th>mean_wind_speed</th><th>most_direction</th><th>max_wind_speed</th><th>max_gust</th><th>most_direction_dummy</th></tr><tr><td>u32</td><td>u32</td><td>u32</td><td>u32</td><td>u32</td><td>u32</td><td>u32</td><td>u32</td><td>u32</td><td>u32</td><td>u32</td><td>u32</td><td>u32</td><td>u32</td><td>u32</td><td>u32</td><td>u32</td><td>u32</td><td>u32</td><td>u32</td><td>u32</td></tr></thead><tbody><tr><td>0</td><td>0</td><td>0</td><td>0</td><td>0</td><td>3</td><td>3</td><td>3</td><td>6</td><td>6</td><td>0</td><td>0</td><td>1</td><td>0</td><td>0</td><td>0</td><td>4</td><td>4</td><td>4</td><td>4</td><td>4</td></tr></tbody></table></div>"
      ],
      "text/plain": [
       "shape: (1, 21)\n",
       "┌──────┬────────────┬────────────┬────────────┬───┬────────────┬────────────┬──────────┬───────────┐\n",
       "│ date ┆ day_of_wee ┆ mean_press ┆ mean_press ┆ … ┆ most_direc ┆ max_wind_s ┆ max_gust ┆ most_dire │\n",
       "│ ---  ┆ k          ┆ ---        ┆ _sea       ┆   ┆ tion       ┆ peed       ┆ ---      ┆ ction_dum │\n",
       "│ u32  ┆ ---        ┆ u32        ┆ ---        ┆   ┆ ---        ┆ ---        ┆ u32      ┆ my        │\n",
       "│      ┆ u32        ┆            ┆ u32        ┆   ┆ u32        ┆ u32        ┆          ┆ ---       │\n",
       "│      ┆            ┆            ┆            ┆   ┆            ┆            ┆          ┆ u32       │\n",
       "╞══════╪════════════╪════════════╪════════════╪═══╪════════════╪════════════╪══════════╪═══════════╡\n",
       "│ 0    ┆ 0          ┆ 0          ┆ 0          ┆ … ┆ 4          ┆ 4          ┆ 4        ┆ 4         │\n",
       "└──────┴────────────┴────────────┴────────────┴───┴────────────┴────────────┴──────────┴───────────┘"
      ]
     },
     "metadata": {},
     "output_type": "display_data"
    },
    {
     "data": {
      "text/html": [
       "<div><style>\n",
       ".dataframe > thead > tr,\n",
       ".dataframe > tbody > tr {\n",
       "  text-align: right;\n",
       "  white-space: pre-wrap;\n",
       "}\n",
       "</style>\n",
       "<small>shape: (14, 22)</small><table border=\"1\" class=\"dataframe\"><thead><tr><th>date</th><th>day_of_week</th><th>mean_press</th><th>mean_press_sea</th><th>min_press_sea</th><th>mean_hum</th><th>min_hum</th><th>mean_vapor</th><th>total_preci</th><th>hourly_max_preci</th><th>max_depth</th><th>total_snowfall</th><th>sun_hour</th><th>mean_temp</th><th>min_temp</th><th>max_temp</th><th>mean_wind_speed</th><th>most_direction</th><th>max_wind_speed</th><th>max_gust</th><th>most_direction_dummy</th><th>null_count</th></tr><tr><td>date</td><td>str</td><td>f64</td><td>f64</td><td>f64</td><td>i64</td><td>i64</td><td>f64</td><td>f64</td><td>f64</td><td>i64</td><td>i64</td><td>f64</td><td>f64</td><td>f64</td><td>f64</td><td>f64</td><td>str</td><td>f64</td><td>f64</td><td>i8</td><td>u32</td></tr></thead><tbody><tr><td>2017-10-22</td><td>&quot;日&quot;</td><td>982.5</td><td>1007.5</td><td>991.7</td><td>null</td><td>null</td><td>null</td><td>63.5</td><td>8.0</td><td>0</td><td>0</td><td>0.0</td><td>15.6</td><td>14.9</td><td>16.6</td><td>0.8</td><td>&quot;西南西&quot;</td><td>2.4</td><td>3.6</td><td>11</td><td>3</td></tr><tr><td>2017-10-23</td><td>&quot;月&quot;</td><td>971.3</td><td>996.2</td><td>977.8</td><td>null</td><td>null</td><td>null</td><td>54.0</td><td>11.0</td><td>0</td><td>0</td><td>0.4</td><td>13.1</td><td>10.6</td><td>17.6</td><td>7.0</td><td>&quot;西&quot;</td><td>12.5</td><td>21.2</td><td>12</td><td>3</td></tr><tr><td>2017-10-24</td><td>&quot;火&quot;</td><td>997.1</td><td>1022.8</td><td>1017.5</td><td>null</td><td>null</td><td>null</td><td>0.0</td><td>0.0</td><td>0</td><td>0</td><td>6.0</td><td>11.7</td><td>7.5</td><td>16.4</td><td>1.6</td><td>&quot;西&quot;</td><td>5.5</td><td>8.1</td><td>12</td><td>3</td></tr><tr><td>2019-10-15</td><td>&quot;火&quot;</td><td>998.5</td><td>1024.1</td><td>1020.2</td><td>79</td><td>58</td><td>11.9</td><td>null</td><td>null</td><td>0</td><td>0</td><td>2.8</td><td>13.0</td><td>7.8</td><td>16.2</td><td>3.0</td><td>&quot;西&quot;</td><td>6.7</td><td>12.5</td><td>12</td><td>2</td></tr><tr><td>2020-02-13</td><td>&quot;木&quot;</td><td>991.3</td><td>1017.6</td><td>1014.5</td><td>86</td><td>72</td><td>7.4</td><td>1.0</td><td>0.5</td><td>0</td><td>0</td><td>null</td><td>4.6</td><td>0.5</td><td>9.5</td><td>1.5</td><td>&quot;北西&quot;</td><td>5.2</td><td>8.5</td><td>14</td><td>1</td></tr><tr><td>&hellip;</td><td>&hellip;</td><td>&hellip;</td><td>&hellip;</td><td>&hellip;</td><td>&hellip;</td><td>&hellip;</td><td>&hellip;</td><td>&hellip;</td><td>&hellip;</td><td>&hellip;</td><td>&hellip;</td><td>&hellip;</td><td>&hellip;</td><td>&hellip;</td><td>&hellip;</td><td>&hellip;</td><td>&hellip;</td><td>&hellip;</td><td>&hellip;</td><td>&hellip;</td><td>&hellip;</td></tr><tr><td>2020-06-05</td><td>&quot;金&quot;</td><td>981.4</td><td>1005.6</td><td>1002.4</td><td>66</td><td>42</td><td>19.6</td><td>null</td><td>null</td><td>0</td><td>0</td><td>11.9</td><td>24.3</td><td>18.0</td><td>32.1</td><td>2.1</td><td>&quot;北&quot;</td><td>6.6</td><td>10.7</td><td>16</td><td>2</td></tr><tr><td>2021-01-05</td><td>&quot;火&quot;</td><td>993.5</td><td>1020.1</td><td>1015.5</td><td>96</td><td>88</td><td>6.3</td><td>5.0</td><td>1.0</td><td>14</td><td>2</td><td>0.2</td><td>0.9</td><td>0.1</td><td>2.5</td><td>null</td><td>null</td><td>null</td><td>null</td><td>null</td><td>5</td></tr><tr><td>2022-02-11</td><td>&quot;金&quot;</td><td>995.6</td><td>1022.3</td><td>1018.9</td><td>84</td><td>57</td><td>5.5</td><td>1.0</td><td>0.5</td><td>48</td><td>1</td><td>5.0</td><td>1.1</td><td>-1.8</td><td>5.4</td><td>null</td><td>null</td><td>null</td><td>null</td><td>null</td><td>5</td></tr><tr><td>2022-10-02</td><td>&quot;日&quot;</td><td>996.9</td><td>1021.9</td><td>1019.5</td><td>76</td><td>38</td><td>16.1</td><td>null</td><td>null</td><td>0</td><td>0</td><td>8.4</td><td>19.2</td><td>12.2</td><td>28.2</td><td>1.2</td><td>&quot;北北西&quot;</td><td>2.8</td><td>4.7</td><td>15</td><td>2</td></tr><tr><td>2024-02-06</td><td>&quot;火&quot;</td><td>992.0</td><td>1018.6</td><td>1016.3</td><td>89</td><td>75</td><td>5.7</td><td>2.5</td><td>1.0</td><td>17</td><td>3</td><td>0.3</td><td>0.7</td><td>-0.8</td><td>3.3</td><td>null</td><td>null</td><td>null</td><td>null</td><td>null</td><td>5</td></tr></tbody></table></div>"
      ],
      "text/plain": [
       "shape: (14, 22)\n",
       "┌───────────┬───────────┬───────────┬───────────┬───┬───────────┬──────────┬───────────┬───────────┐\n",
       "│ date      ┆ day_of_we ┆ mean_pres ┆ mean_pres ┆ … ┆ max_wind_ ┆ max_gust ┆ most_dire ┆ null_coun │\n",
       "│ ---       ┆ ek        ┆ s         ┆ s_sea     ┆   ┆ speed     ┆ ---      ┆ ction_dum ┆ t         │\n",
       "│ date      ┆ ---       ┆ ---       ┆ ---       ┆   ┆ ---       ┆ f64      ┆ my        ┆ ---       │\n",
       "│           ┆ str       ┆ f64       ┆ f64       ┆   ┆ f64       ┆          ┆ ---       ┆ u32       │\n",
       "│           ┆           ┆           ┆           ┆   ┆           ┆          ┆ i8        ┆           │\n",
       "╞═══════════╪═══════════╪═══════════╪═══════════╪═══╪═══════════╪══════════╪═══════════╪═══════════╡\n",
       "│ 2017-10-2 ┆ 日        ┆ 982.5     ┆ 1007.5    ┆ … ┆ 2.4       ┆ 3.6      ┆ 11        ┆ 3         │\n",
       "│ 2         ┆           ┆           ┆           ┆   ┆           ┆          ┆           ┆           │\n",
       "│ 2017-10-2 ┆ 月        ┆ 971.3     ┆ 996.2     ┆ … ┆ 12.5      ┆ 21.2     ┆ 12        ┆ 3         │\n",
       "│ 3         ┆           ┆           ┆           ┆   ┆           ┆          ┆           ┆           │\n",
       "│ 2017-10-2 ┆ 火        ┆ 997.1     ┆ 1022.8    ┆ … ┆ 5.5       ┆ 8.1      ┆ 12        ┆ 3         │\n",
       "│ 4         ┆           ┆           ┆           ┆   ┆           ┆          ┆           ┆           │\n",
       "│ 2019-10-1 ┆ 火        ┆ 998.5     ┆ 1024.1    ┆ … ┆ 6.7       ┆ 12.5     ┆ 12        ┆ 2         │\n",
       "│ 5         ┆           ┆           ┆           ┆   ┆           ┆          ┆           ┆           │\n",
       "│ 2020-02-1 ┆ 木        ┆ 991.3     ┆ 1017.6    ┆ … ┆ 5.2       ┆ 8.5      ┆ 14        ┆ 1         │\n",
       "│ 3         ┆           ┆           ┆           ┆   ┆           ┆          ┆           ┆           │\n",
       "│ …         ┆ …         ┆ …         ┆ …         ┆ … ┆ …         ┆ …        ┆ …         ┆ …         │\n",
       "│ 2020-06-0 ┆ 金        ┆ 981.4     ┆ 1005.6    ┆ … ┆ 6.6       ┆ 10.7     ┆ 16        ┆ 2         │\n",
       "│ 5         ┆           ┆           ┆           ┆   ┆           ┆          ┆           ┆           │\n",
       "│ 2021-01-0 ┆ 火        ┆ 993.5     ┆ 1020.1    ┆ … ┆ null      ┆ null     ┆ null      ┆ 5         │\n",
       "│ 5         ┆           ┆           ┆           ┆   ┆           ┆          ┆           ┆           │\n",
       "│ 2022-02-1 ┆ 金        ┆ 995.6     ┆ 1022.3    ┆ … ┆ null      ┆ null     ┆ null      ┆ 5         │\n",
       "│ 1         ┆           ┆           ┆           ┆   ┆           ┆          ┆           ┆           │\n",
       "│ 2022-10-0 ┆ 日        ┆ 996.9     ┆ 1021.9    ┆ … ┆ 2.8       ┆ 4.7      ┆ 15        ┆ 2         │\n",
       "│ 2         ┆           ┆           ┆           ┆   ┆           ┆          ┆           ┆           │\n",
       "│ 2024-02-0 ┆ 火        ┆ 992.0     ┆ 1018.6    ┆ … ┆ null      ┆ null     ┆ null      ┆ 5         │\n",
       "│ 6         ┆           ┆           ┆           ┆   ┆           ┆          ┆           ┆           │\n",
       "└───────────┴───────────┴───────────┴───────────┴───┴───────────┴──────────┴───────────┴───────────┘"
      ]
     },
     "execution_count": 19,
     "metadata": {},
     "output_type": "execute_result"
    }
   ],
   "source": [
    "display(df.null_count())\n",
    "df.hstack(df.transpose().select(pl.all().is_null().sum()).transpose().rename({\"column_0\": \"null_count\"})).filter(pl.col(\"null_count\") != 0)"
   ]
  },
  {
   "cell_type": "code",
   "execution_count": 20,
   "metadata": {},
   "outputs": [
    {
     "data": {
      "text/html": [
       "<div><style>\n",
       ".dataframe > thead > tr,\n",
       ".dataframe > tbody > tr {\n",
       "  text-align: right;\n",
       "  white-space: pre-wrap;\n",
       "}\n",
       "</style>\n",
       "<small>shape: (2_588, 21)</small><table border=\"1\" class=\"dataframe\"><thead><tr><th>date</th><th>day_of_week</th><th>mean_press</th><th>mean_press_sea</th><th>min_press_sea</th><th>mean_hum</th><th>min_hum</th><th>mean_vapor</th><th>total_preci</th><th>hourly_max_preci</th><th>max_depth</th><th>total_snowfall</th><th>sun_hour</th><th>mean_temp</th><th>min_temp</th><th>max_temp</th><th>mean_wind_speed</th><th>most_direction</th><th>max_wind_speed</th><th>max_gust</th><th>most_direction_dummy</th></tr><tr><td>date</td><td>str</td><td>f64</td><td>f64</td><td>f64</td><td>i64</td><td>i64</td><td>f64</td><td>f64</td><td>f64</td><td>i64</td><td>i64</td><td>f64</td><td>f64</td><td>f64</td><td>f64</td><td>f64</td><td>str</td><td>f64</td><td>f64</td><td>i8</td></tr></thead><tbody><tr><td>2017-07-01</td><td>&quot;土&quot;</td><td>983.8</td><td>1008.1</td><td>1007.1</td><td>88</td><td>63</td><td>23.8</td><td>11.5</td><td>4.0</td><td>0</td><td>0</td><td>0.3</td><td>22.5</td><td>20.3</td><td>25.1</td><td>1.5</td><td>&quot;南南東&quot;</td><td>3.8</td><td>6.2</td><td>7</td></tr><tr><td>2017-07-02</td><td>&quot;日&quot;</td><td>985.0</td><td>1009.3</td><td>1007.5</td><td>91</td><td>63</td><td>25.9</td><td>34.0</td><td>14.0</td><td>0</td><td>0</td><td>0.7</td><td>23.3</td><td>20.3</td><td>29.2</td><td>1.8</td><td>&quot;北東&quot;</td><td>5.7</td><td>9.6</td><td>2</td></tr><tr><td>2017-07-03</td><td>&quot;月&quot;</td><td>982.8</td><td>1006.9</td><td>1004.0</td><td>89</td><td>56</td><td>26.3</td><td>52.0</td><td>10.0</td><td>0</td><td>0</td><td>2.4</td><td>24.1</td><td>21.7</td><td>29.3</td><td>2.2</td><td>&quot;北&quot;</td><td>6.3</td><td>11.3</td><td>16</td></tr><tr><td>2017-07-04</td><td>&quot;火&quot;</td><td>982.3</td><td>1006.6</td><td>1004.7</td><td>97</td><td>87</td><td>25.6</td><td>37.0</td><td>11.0</td><td>0</td><td>0</td><td>0.0</td><td>22.0</td><td>20.1</td><td>24.2</td><td>1.2</td><td>&quot;北&quot;</td><td>3.6</td><td>5.3</td><td>16</td></tr><tr><td>2017-07-05</td><td>&quot;水&quot;</td><td>983.7</td><td>1007.9</td><td>1004.0</td><td>82</td><td>62</td><td>23.7</td><td>0.0</td><td>0.0</td><td>0</td><td>0</td><td>5.5</td><td>23.6</td><td>20.6</td><td>27.8</td><td>2.8</td><td>&quot;北西&quot;</td><td>6.7</td><td>9.8</td><td>14</td></tr><tr><td>&hellip;</td><td>&hellip;</td><td>&hellip;</td><td>&hellip;</td><td>&hellip;</td><td>&hellip;</td><td>&hellip;</td><td>&hellip;</td><td>&hellip;</td><td>&hellip;</td><td>&hellip;</td><td>&hellip;</td><td>&hellip;</td><td>&hellip;</td><td>&hellip;</td><td>&hellip;</td><td>&hellip;</td><td>&hellip;</td><td>&hellip;</td><td>&hellip;</td><td>&hellip;</td></tr><tr><td>2024-07-27</td><td>&quot;土&quot;</td><td>993.4</td><td>1017.5</td><td>1015.7</td><td>85</td><td>60</td><td>31.8</td><td>0.5</td><td>0.5</td><td>0</td><td>0</td><td>3.3</td><td>28.0</td><td>25.0</td><td>33.6</td><td>1.8</td><td>&quot;北&quot;</td><td>5.4</td><td>9.2</td><td>16</td></tr><tr><td>2024-07-28</td><td>&quot;日&quot;</td><td>988.5</td><td>1012.4</td><td>1009.7</td><td>84</td><td>69</td><td>30.9</td><td>0.5</td><td>0.5</td><td>0</td><td>0</td><td>1.0</td><td>27.5</td><td>25.4</td><td>31.3</td><td>2.0</td><td>&quot;北西&quot;</td><td>5.0</td><td>8.2</td><td>14</td></tr><tr><td>2024-07-29</td><td>&quot;月&quot;</td><td>981.8</td><td>1005.6</td><td>1002.4</td><td>78</td><td>57</td><td>28.5</td><td>1.0</td><td>1.0</td><td>0</td><td>0</td><td>1.4</td><td>27.4</td><td>24.6</td><td>32.5</td><td>2.5</td><td>&quot;北西&quot;</td><td>6.0</td><td>10.1</td><td>14</td></tr><tr><td>2024-07-30</td><td>&quot;火&quot;</td><td>978.2</td><td>1001.9</td><td>1000.7</td><td>80</td><td>64</td><td>29.8</td><td>1.5</td><td>1.0</td><td>0</td><td>0</td><td>6.3</td><td>27.8</td><td>24.4</td><td>31.9</td><td>3.5</td><td>&quot;西北西&quot;</td><td>6.4</td><td>10.7</td><td>13</td></tr><tr><td>2024-07-31</td><td>&quot;水&quot;</td><td>980.9</td><td>1004.8</td><td>1002.6</td><td>83</td><td>62</td><td>27.9</td><td>6.0</td><td>5.0</td><td>0</td><td>0</td><td>5.4</td><td>26.3</td><td>23.4</td><td>30.9</td><td>2.4</td><td>&quot;西北西&quot;</td><td>6.6</td><td>11.1</td><td>13</td></tr></tbody></table></div>"
      ],
      "text/plain": [
       "shape: (2_588, 21)\n",
       "┌───────────┬───────────┬───────────┬───────────┬───┬───────────┬───────────┬──────────┬───────────┐\n",
       "│ date      ┆ day_of_we ┆ mean_pres ┆ mean_pres ┆ … ┆ most_dire ┆ max_wind_ ┆ max_gust ┆ most_dire │\n",
       "│ ---       ┆ ek        ┆ s         ┆ s_sea     ┆   ┆ ction     ┆ speed     ┆ ---      ┆ ction_dum │\n",
       "│ date      ┆ ---       ┆ ---       ┆ ---       ┆   ┆ ---       ┆ ---       ┆ f64      ┆ my        │\n",
       "│           ┆ str       ┆ f64       ┆ f64       ┆   ┆ str       ┆ f64       ┆          ┆ ---       │\n",
       "│           ┆           ┆           ┆           ┆   ┆           ┆           ┆          ┆ i8        │\n",
       "╞═══════════╪═══════════╪═══════════╪═══════════╪═══╪═══════════╪═══════════╪══════════╪═══════════╡\n",
       "│ 2017-07-0 ┆ 土        ┆ 983.8     ┆ 1008.1    ┆ … ┆ 南南東    ┆ 3.8       ┆ 6.2      ┆ 7         │\n",
       "│ 1         ┆           ┆           ┆           ┆   ┆           ┆           ┆          ┆           │\n",
       "│ 2017-07-0 ┆ 日        ┆ 985.0     ┆ 1009.3    ┆ … ┆ 北東      ┆ 5.7       ┆ 9.6      ┆ 2         │\n",
       "│ 2         ┆           ┆           ┆           ┆   ┆           ┆           ┆          ┆           │\n",
       "│ 2017-07-0 ┆ 月        ┆ 982.8     ┆ 1006.9    ┆ … ┆ 北        ┆ 6.3       ┆ 11.3     ┆ 16        │\n",
       "│ 3         ┆           ┆           ┆           ┆   ┆           ┆           ┆          ┆           │\n",
       "│ 2017-07-0 ┆ 火        ┆ 982.3     ┆ 1006.6    ┆ … ┆ 北        ┆ 3.6       ┆ 5.3      ┆ 16        │\n",
       "│ 4         ┆           ┆           ┆           ┆   ┆           ┆           ┆          ┆           │\n",
       "│ 2017-07-0 ┆ 水        ┆ 983.7     ┆ 1007.9    ┆ … ┆ 北西      ┆ 6.7       ┆ 9.8      ┆ 14        │\n",
       "│ 5         ┆           ┆           ┆           ┆   ┆           ┆           ┆          ┆           │\n",
       "│ …         ┆ …         ┆ …         ┆ …         ┆ … ┆ …         ┆ …         ┆ …        ┆ …         │\n",
       "│ 2024-07-2 ┆ 土        ┆ 993.4     ┆ 1017.5    ┆ … ┆ 北        ┆ 5.4       ┆ 9.2      ┆ 16        │\n",
       "│ 7         ┆           ┆           ┆           ┆   ┆           ┆           ┆          ┆           │\n",
       "│ 2024-07-2 ┆ 日        ┆ 988.5     ┆ 1012.4    ┆ … ┆ 北西      ┆ 5.0       ┆ 8.2      ┆ 14        │\n",
       "│ 8         ┆           ┆           ┆           ┆   ┆           ┆           ┆          ┆           │\n",
       "│ 2024-07-2 ┆ 月        ┆ 981.8     ┆ 1005.6    ┆ … ┆ 北西      ┆ 6.0       ┆ 10.1     ┆ 14        │\n",
       "│ 9         ┆           ┆           ┆           ┆   ┆           ┆           ┆          ┆           │\n",
       "│ 2024-07-3 ┆ 火        ┆ 978.2     ┆ 1001.9    ┆ … ┆ 西北西    ┆ 6.4       ┆ 10.7     ┆ 13        │\n",
       "│ 0         ┆           ┆           ┆           ┆   ┆           ┆           ┆          ┆           │\n",
       "│ 2024-07-3 ┆ 水        ┆ 980.9     ┆ 1004.8    ┆ … ┆ 西北西    ┆ 6.6       ┆ 11.1     ┆ 13        │\n",
       "│ 1         ┆           ┆           ┆           ┆   ┆           ┆           ┆          ┆           │\n",
       "└───────────┴───────────┴───────────┴───────────┴───┴───────────┴───────────┴──────────┴───────────┘"
      ]
     },
     "execution_count": 20,
     "metadata": {},
     "output_type": "execute_result"
    }
   ],
   "source": [
    "df"
   ]
  },
  {
   "cell_type": "code",
   "execution_count": 20,
   "metadata": {},
   "outputs": [],
   "source": [
    "df.write_csv(\"../../data/weather/tmp.csv\")\n",
    "# del df_hum, df_press, df_rain, df_snow, df_sun, df_temp, df_wind"
   ]
  }
 ],
 "metadata": {
  "kernelspec": {
   "display_name": "pystan",
   "language": "python",
   "name": "python3"
  },
  "language_info": {
   "codemirror_mode": {
    "name": "ipython",
    "version": 3
   },
   "file_extension": ".py",
   "mimetype": "text/x-python",
   "name": "python",
   "nbconvert_exporter": "python",
   "pygments_lexer": "ipython3",
   "version": "3.10.13"
  }
 },
 "nbformat": 4,
 "nbformat_minor": 2
}
