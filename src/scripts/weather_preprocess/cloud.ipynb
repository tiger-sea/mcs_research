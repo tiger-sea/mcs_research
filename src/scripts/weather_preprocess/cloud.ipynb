{
 "cells": [
  {
   "cell_type": "markdown",
   "metadata": {},
   "source": [
    "# Cloud data"
   ]
  },
  {
   "cell_type": "markdown",
   "metadata": {},
   "source": [
    "## Import libraries"
   ]
  },
  {
   "cell_type": "code",
   "execution_count": 1,
   "metadata": {},
   "outputs": [],
   "source": [
    "\"\"\"Basic ones\"\"\"\n",
    "import polars as pl\n",
    "from plotnine import *\n",
    "import matplotlib.pyplot as plt\n",
    "plt.show()  # for display figures after ggplot\n",
    "# plt.rcParams['axes.grid'] = True\n",
    "import numpy as np\n",
    "import seaborn as sns\n",
    "import pandas\n",
    "import statsmodels.api as sm\n",
    "from datetime import datetime\n",
    "\n",
    "import warnings\n",
    "warnings.simplefilter(\"ignore\")"
   ]
  },
  {
   "cell_type": "markdown",
   "metadata": {},
   "source": [
    "## Load data"
   ]
  },
  {
   "cell_type": "code",
   "execution_count": 2,
   "metadata": {},
   "outputs": [
    {
     "data": {
      "text/html": [
       "<div><style>\n",
       ".dataframe > thead > tr,\n",
       ".dataframe > tbody > tr {\n",
       "  text-align: right;\n",
       "  white-space: pre-wrap;\n",
       "}\n",
       "</style>\n",
       "<small>shape: (5, 5)</small><table border=\"1\" class=\"dataframe\"><thead><tr><th>年月日</th><th>曜日</th><th>平均雲量(10分比)</th><th>天気概況(昼：06時〜18時)</th><th>天気概況(夜：18時〜翌日06時)</th></tr><tr><td>str</td><td>str</td><td>str</td><td>str</td><td>str</td></tr></thead><tbody><tr><td>&quot;2017/7/1&quot;</td><td>&quot;土&quot;</td><td>null</td><td>null</td><td>null</td></tr><tr><td>&quot;2017/7/2&quot;</td><td>&quot;日&quot;</td><td>null</td><td>null</td><td>null</td></tr><tr><td>&quot;2017/7/3&quot;</td><td>&quot;月&quot;</td><td>null</td><td>null</td><td>null</td></tr><tr><td>&quot;2017/7/4&quot;</td><td>&quot;火&quot;</td><td>null</td><td>null</td><td>null</td></tr><tr><td>&quot;2017/7/5&quot;</td><td>&quot;水&quot;</td><td>null</td><td>null</td><td>null</td></tr></tbody></table></div>"
      ],
      "text/plain": [
       "shape: (5, 5)\n",
       "┌──────────┬──────┬──────────────────┬──────────────────────────┬──────────────────────────────┐\n",
       "│ 年月日   ┆ 曜日 ┆ 平均雲量(10分比) ┆ 天気概況(昼：06時〜18時) ┆ 天気概況(夜：18時〜翌日06時) │\n",
       "│ ---      ┆ ---  ┆ ---              ┆ ---                      ┆ ---                          │\n",
       "│ str      ┆ str  ┆ str              ┆ str                      ┆ str                          │\n",
       "╞══════════╪══════╪══════════════════╪══════════════════════════╪══════════════════════════════╡\n",
       "│ 2017/7/1 ┆ 土   ┆ null             ┆ null                     ┆ null                         │\n",
       "│ 2017/7/2 ┆ 日   ┆ null             ┆ null                     ┆ null                         │\n",
       "│ 2017/7/3 ┆ 月   ┆ null             ┆ null                     ┆ null                         │\n",
       "│ 2017/7/4 ┆ 火   ┆ null             ┆ null                     ┆ null                         │\n",
       "│ 2017/7/5 ┆ 水   ┆ null             ┆ null                     ┆ null                         │\n",
       "└──────────┴──────┴──────────────────┴──────────────────────────┴──────────────────────────────┘"
      ]
     },
     "execution_count": 2,
     "metadata": {},
     "output_type": "execute_result"
    }
   ],
   "source": [
    "file_name = \"../../data/weather/cloud.csv\"\n",
    "df = pl.read_csv(file_name, encoding=\"shift-jis\", skip_rows=3)\n",
    "df.head()"
   ]
  },
  {
   "cell_type": "markdown",
   "metadata": {},
   "source": [
    "## Check nulls"
   ]
  },
  {
   "cell_type": "code",
   "execution_count": 3,
   "metadata": {},
   "outputs": [
    {
     "data": {
      "text/html": [
       "<div><style>\n",
       ".dataframe > thead > tr,\n",
       ".dataframe > tbody > tr {\n",
       "  text-align: right;\n",
       "  white-space: pre-wrap;\n",
       "}\n",
       "</style>\n",
       "<small>shape: (1, 5)</small><table border=\"1\" class=\"dataframe\"><thead><tr><th>年月日</th><th>曜日</th><th>平均雲量(10分比)</th><th>天気概況(昼：06時〜18時)</th><th>天気概況(夜：18時〜翌日06時)</th></tr><tr><td>u32</td><td>u32</td><td>u32</td><td>u32</td><td>u32</td></tr></thead><tbody><tr><td>0</td><td>0</td><td>2527</td><td>2527</td><td>2527</td></tr></tbody></table></div>"
      ],
      "text/plain": [
       "shape: (1, 5)\n",
       "┌────────┬──────┬──────────────────┬──────────────────────────┬──────────────────────────────┐\n",
       "│ 年月日 ┆ 曜日 ┆ 平均雲量(10分比) ┆ 天気概況(昼：06時〜18時) ┆ 天気概況(夜：18時〜翌日06時) │\n",
       "│ ---    ┆ ---  ┆ ---              ┆ ---                      ┆ ---                          │\n",
       "│ u32    ┆ u32  ┆ u32              ┆ u32                      ┆ u32                          │\n",
       "╞════════╪══════╪══════════════════╪══════════════════════════╪══════════════════════════════╡\n",
       "│ 0      ┆ 0    ┆ 2527             ┆ 2527                     ┆ 2527                         │\n",
       "└────────┴──────┴──────────────────┴──────────────────────────┴──────────────────────────────┘"
      ]
     },
     "execution_count": 3,
     "metadata": {},
     "output_type": "execute_result"
    }
   ],
   "source": [
    "df.null_count()"
   ]
  },
  {
   "cell_type": "markdown",
   "metadata": {},
   "source": [
    "All of the data are null. Useless."
   ]
  }
 ],
 "metadata": {
  "kernelspec": {
   "display_name": "pystan",
   "language": "python",
   "name": "python3"
  },
  "language_info": {
   "codemirror_mode": {
    "name": "ipython",
    "version": 3
   },
   "file_extension": ".py",
   "mimetype": "text/x-python",
   "name": "python",
   "nbconvert_exporter": "python",
   "pygments_lexer": "ipython3",
   "version": "3.11.8"
  }
 },
 "nbformat": 4,
 "nbformat_minor": 2
}
