{
 "cells": [
  {
   "cell_type": "markdown",
   "metadata": {},
   "source": [
    "# Sun data"
   ]
  },
  {
   "cell_type": "markdown",
   "metadata": {},
   "source": [
    "## Import libraries"
   ]
  },
  {
   "cell_type": "code",
   "execution_count": 1,
   "metadata": {},
   "outputs": [],
   "source": [
    "\"\"\"Basic ones\"\"\"\n",
    "import polars as pl\n",
    "from plotnine import *\n",
    "import matplotlib.pyplot as plt\n",
    "plt.show()  # for display figures after ggplot\n",
    "# plt.rcParams['axes.grid'] = True\n",
    "import numpy as np\n",
    "import seaborn as sns\n",
    "import pandas\n",
    "import statsmodels.api as sm\n",
    "from datetime import datetime\n",
    "\n",
    "import warnings\n",
    "warnings.simplefilter(\"ignore\")"
   ]
  },
  {
   "cell_type": "markdown",
   "metadata": {},
   "source": [
    "## Load data"
   ]
  },
  {
   "cell_type": "markdown",
   "metadata": {},
   "source": [
    "- ~~合計全天日射量(MJ/㎡)~~\n",
    "- 日照時間(時間)\n",
    "- ~~日照時間(時間)現象なし情報~~"
   ]
  },
  {
   "cell_type": "code",
   "execution_count": 2,
   "metadata": {},
   "outputs": [
    {
     "data": {
      "text/plain": [
       "['年月日', '曜日', '合計全天日射量(MJ/㎡)', '日照時間(時間)', '日照時間(時間)現象なし情報']"
      ]
     },
     "metadata": {},
     "output_type": "display_data"
    },
    {
     "data": {
      "text/html": [
       "<div><style>\n",
       ".dataframe > thead > tr,\n",
       ".dataframe > tbody > tr {\n",
       "  text-align: right;\n",
       "  white-space: pre-wrap;\n",
       "}\n",
       "</style>\n",
       "<small>shape: (5, 4)</small><table border=\"1\" class=\"dataframe\"><thead><tr><th>date</th><th>day_of_week</th><th>sun_hour</th><th>sun_hour_info</th></tr><tr><td>date</td><td>str</td><td>f64</td><td>i64</td></tr></thead><tbody><tr><td>2017-07-01</td><td>&quot;土&quot;</td><td>0.3</td><td>0</td></tr><tr><td>2017-07-02</td><td>&quot;日&quot;</td><td>0.7</td><td>0</td></tr><tr><td>2017-07-03</td><td>&quot;月&quot;</td><td>2.4</td><td>0</td></tr><tr><td>2017-07-04</td><td>&quot;火&quot;</td><td>0.0</td><td>0</td></tr><tr><td>2017-07-05</td><td>&quot;水&quot;</td><td>5.5</td><td>0</td></tr></tbody></table></div>"
      ],
      "text/plain": [
       "shape: (5, 4)\n",
       "┌────────────┬─────────────┬──────────┬───────────────┐\n",
       "│ date       ┆ day_of_week ┆ sun_hour ┆ sun_hour_info │\n",
       "│ ---        ┆ ---         ┆ ---      ┆ ---           │\n",
       "│ date       ┆ str         ┆ f64      ┆ i64           │\n",
       "╞════════════╪═════════════╪══════════╪═══════════════╡\n",
       "│ 2017-07-01 ┆ 土          ┆ 0.3      ┆ 0             │\n",
       "│ 2017-07-02 ┆ 日          ┆ 0.7      ┆ 0             │\n",
       "│ 2017-07-03 ┆ 月          ┆ 2.4      ┆ 0             │\n",
       "│ 2017-07-04 ┆ 火          ┆ 0.0      ┆ 0             │\n",
       "│ 2017-07-05 ┆ 水          ┆ 5.5      ┆ 0             │\n",
       "└────────────┴─────────────┴──────────┴───────────────┘"
      ]
     },
     "execution_count": 2,
     "metadata": {},
     "output_type": "execute_result"
    }
   ],
   "source": [
    "file_name = \"../../data/weather/sun.csv\"\n",
    "df = pl.read_csv(file_name, encoding=\"cp932\", skip_rows=3)\n",
    "display(df.columns)\n",
    "df.columns = [\"date\", \"day_of_week\", \"sun_sphere\", \"sun_hour\", \"sun_hour_info\"]\n",
    "df = df.drop([\"sun_sphere\"])\n",
    "df = df.with_columns(pl.col(\"date\").str.strptime(pl.Date, \"%Y/%m/%d\")) # convert day column data type into date type\n",
    "df.head()"
   ]
  },
  {
   "cell_type": "markdown",
   "metadata": {},
   "source": [
    "## Check nulls"
   ]
  },
  {
   "cell_type": "code",
   "execution_count": 3,
   "metadata": {},
   "outputs": [
    {
     "data": {
      "text/html": [
       "<div><style>\n",
       ".dataframe > thead > tr,\n",
       ".dataframe > tbody > tr {\n",
       "  text-align: right;\n",
       "  white-space: pre-wrap;\n",
       "}\n",
       "</style>\n",
       "<small>shape: (1, 4)</small><table border=\"1\" class=\"dataframe\"><thead><tr><th>date</th><th>day_of_week</th><th>sun_hour</th><th>sun_hour_info</th></tr><tr><td>u32</td><td>u32</td><td>u32</td><td>u32</td></tr></thead><tbody><tr><td>0</td><td>0</td><td>1</td><td>0</td></tr></tbody></table></div>"
      ],
      "text/plain": [
       "shape: (1, 4)\n",
       "┌──────┬─────────────┬──────────┬───────────────┐\n",
       "│ date ┆ day_of_week ┆ sun_hour ┆ sun_hour_info │\n",
       "│ ---  ┆ ---         ┆ ---      ┆ ---           │\n",
       "│ u32  ┆ u32         ┆ u32      ┆ u32           │\n",
       "╞══════╪═════════════╪══════════╪═══════════════╡\n",
       "│ 0    ┆ 0           ┆ 1        ┆ 0             │\n",
       "└──────┴─────────────┴──────────┴───────────────┘"
      ]
     },
     "metadata": {},
     "output_type": "display_data"
    },
    {
     "data": {
      "text/html": [
       "<div><style>\n",
       ".dataframe > thead > tr,\n",
       ".dataframe > tbody > tr {\n",
       "  text-align: right;\n",
       "  white-space: pre-wrap;\n",
       "}\n",
       "</style>\n",
       "<small>shape: (1, 5)</small><table border=\"1\" class=\"dataframe\"><thead><tr><th>date</th><th>day_of_week</th><th>sun_hour</th><th>sun_hour_info</th><th>null_count</th></tr><tr><td>date</td><td>str</td><td>f64</td><td>i64</td><td>u32</td></tr></thead><tbody><tr><td>2020-02-13</td><td>&quot;木&quot;</td><td>null</td><td>0</td><td>1</td></tr></tbody></table></div>"
      ],
      "text/plain": [
       "shape: (1, 5)\n",
       "┌────────────┬─────────────┬──────────┬───────────────┬────────────┐\n",
       "│ date       ┆ day_of_week ┆ sun_hour ┆ sun_hour_info ┆ null_count │\n",
       "│ ---        ┆ ---         ┆ ---      ┆ ---           ┆ ---        │\n",
       "│ date       ┆ str         ┆ f64      ┆ i64           ┆ u32        │\n",
       "╞════════════╪═════════════╪══════════╪═══════════════╪════════════╡\n",
       "│ 2020-02-13 ┆ 木          ┆ null     ┆ 0             ┆ 1          │\n",
       "└────────────┴─────────────┴──────────┴───────────────┴────────────┘"
      ]
     },
     "execution_count": 3,
     "metadata": {},
     "output_type": "execute_result"
    }
   ],
   "source": [
    "display(df.null_count())\n",
    "\n",
    "nulls = df.hstack(df.transpose().select(pl.all().is_null().sum()).transpose().rename({\"column_0\": \"null_count\"}))\n",
    "nulls.filter(pl.col(\"null_count\") != 0)"
   ]
  },
  {
   "cell_type": "markdown",
   "metadata": {},
   "source": [
    "## Visualization"
   ]
  },
  {
   "cell_type": "code",
   "execution_count": 4,
   "metadata": {},
   "outputs": [],
   "source": [
    "(\n",
    "    ggplot(data=df, mapping=aes(x=\"date\"))\n",
    "    + geom_line(aes(y=\"sun_hour\"))\n",
    "    + labs(title=\"Total sun hour (hour)\", x=\"Date\", y=\"\")\n",
    "    + theme(figure_size=(12, 4))\n",
    "    + scale_x_date(\n",
    "    #     limits=(\n",
    "    #         datetime(year=2018, month=1, day=1),\n",
    "    #         datetime(year=2022, month=1, day=1)\n",
    "    #     ),\n",
    "        date_labels=\"%Y-%m\",\n",
    "        date_breaks=\"6 month\",\n",
    "    #     # expand=(0, 1),\n",
    "    #     date_minor_breaks=\"1 month\",\n",
    "    )\n",
    ")# .save(filename=\"../../fig/weather/sun.png\")"
   ]
  }
 ],
 "metadata": {
  "kernelspec": {
   "display_name": "pystan",
   "language": "python",
   "name": "python3"
  },
  "language_info": {
   "codemirror_mode": {
    "name": "ipython",
    "version": 3
   },
   "file_extension": ".py",
   "mimetype": "text/x-python",
   "name": "python",
   "nbconvert_exporter": "python",
   "pygments_lexer": "ipython3",
   "version": "3.11.8"
  }
 },
 "nbformat": 4,
 "nbformat_minor": 2
}
