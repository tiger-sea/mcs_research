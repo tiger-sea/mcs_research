{
 "cells": [
  {
   "cell_type": "markdown",
   "metadata": {},
   "source": [
    "# Impute missing values in weather data"
   ]
  },
  {
   "cell_type": "code",
   "execution_count": 1,
   "metadata": {},
   "outputs": [],
   "source": [
    "import polars as pl"
   ]
  },
  {
   "cell_type": "markdown",
   "metadata": {},
   "source": [
    "### Test"
   ]
  },
  {
   "cell_type": "code",
   "execution_count": 2,
   "metadata": {},
   "outputs": [
    {
     "data": {
      "text/html": [
       "<div><style>\n",
       ".dataframe > thead > tr,\n",
       ".dataframe > tbody > tr {\n",
       "  text-align: right;\n",
       "  white-space: pre-wrap;\n",
       "}\n",
       "</style>\n",
       "<small>shape: (14, 22)</small><table border=\"1\" class=\"dataframe\"><thead><tr><th>date</th><th>day_of_week</th><th>mean_press</th><th>mean_press_sea</th><th>min_press_sea</th><th>mean_hum</th><th>min_hum</th><th>mean_vapor</th><th>total_preci</th><th>hourly_max_preci</th><th>max_depth</th><th>total_snowfall</th><th>sun_hour</th><th>mean_temp</th><th>min_temp</th><th>max_temp</th><th>mean_wind_speed</th><th>most_direction</th><th>max_wind_speed</th><th>max_gust</th><th>most_direction_dummy</th><th>null_count</th></tr><tr><td>date</td><td>str</td><td>f64</td><td>f64</td><td>f64</td><td>i64</td><td>i64</td><td>f64</td><td>f64</td><td>f64</td><td>i64</td><td>i64</td><td>f64</td><td>f64</td><td>f64</td><td>f64</td><td>f64</td><td>str</td><td>f64</td><td>f64</td><td>i64</td><td>u32</td></tr></thead><tbody><tr><td>2017-10-22</td><td>&quot;日&quot;</td><td>982.5</td><td>1007.5</td><td>991.7</td><td>null</td><td>null</td><td>null</td><td>63.5</td><td>8.0</td><td>0</td><td>0</td><td>0.0</td><td>15.6</td><td>14.9</td><td>16.6</td><td>0.8</td><td>&quot;西南西&quot;</td><td>2.4</td><td>3.6</td><td>11</td><td>3</td></tr><tr><td>2017-10-23</td><td>&quot;月&quot;</td><td>971.3</td><td>996.2</td><td>977.8</td><td>null</td><td>null</td><td>null</td><td>54.0</td><td>11.0</td><td>0</td><td>0</td><td>0.4</td><td>13.1</td><td>10.6</td><td>17.6</td><td>7.0</td><td>&quot;西&quot;</td><td>12.5</td><td>21.2</td><td>12</td><td>3</td></tr><tr><td>2017-10-24</td><td>&quot;火&quot;</td><td>997.1</td><td>1022.8</td><td>1017.5</td><td>null</td><td>null</td><td>null</td><td>0.0</td><td>0.0</td><td>0</td><td>0</td><td>6.0</td><td>11.7</td><td>7.5</td><td>16.4</td><td>1.6</td><td>&quot;西&quot;</td><td>5.5</td><td>8.1</td><td>12</td><td>3</td></tr><tr><td>2019-10-15</td><td>&quot;火&quot;</td><td>998.5</td><td>1024.1</td><td>1020.2</td><td>79</td><td>58</td><td>11.9</td><td>null</td><td>null</td><td>0</td><td>0</td><td>2.8</td><td>13.0</td><td>7.8</td><td>16.2</td><td>3.0</td><td>&quot;西&quot;</td><td>6.7</td><td>12.5</td><td>12</td><td>2</td></tr><tr><td>2020-02-13</td><td>&quot;木&quot;</td><td>991.3</td><td>1017.6</td><td>1014.5</td><td>86</td><td>72</td><td>7.4</td><td>1.0</td><td>0.5</td><td>0</td><td>0</td><td>null</td><td>4.6</td><td>0.5</td><td>9.5</td><td>1.5</td><td>&quot;北西&quot;</td><td>5.2</td><td>8.5</td><td>14</td><td>1</td></tr><tr><td>&hellip;</td><td>&hellip;</td><td>&hellip;</td><td>&hellip;</td><td>&hellip;</td><td>&hellip;</td><td>&hellip;</td><td>&hellip;</td><td>&hellip;</td><td>&hellip;</td><td>&hellip;</td><td>&hellip;</td><td>&hellip;</td><td>&hellip;</td><td>&hellip;</td><td>&hellip;</td><td>&hellip;</td><td>&hellip;</td><td>&hellip;</td><td>&hellip;</td><td>&hellip;</td><td>&hellip;</td></tr><tr><td>2020-06-05</td><td>&quot;金&quot;</td><td>981.4</td><td>1005.6</td><td>1002.4</td><td>66</td><td>42</td><td>19.6</td><td>null</td><td>null</td><td>0</td><td>0</td><td>11.9</td><td>24.3</td><td>18.0</td><td>32.1</td><td>2.1</td><td>&quot;北&quot;</td><td>6.6</td><td>10.7</td><td>16</td><td>2</td></tr><tr><td>2021-01-05</td><td>&quot;火&quot;</td><td>993.5</td><td>1020.1</td><td>1015.5</td><td>96</td><td>88</td><td>6.3</td><td>5.0</td><td>1.0</td><td>14</td><td>2</td><td>0.2</td><td>0.9</td><td>0.1</td><td>2.5</td><td>null</td><td>null</td><td>null</td><td>null</td><td>null</td><td>5</td></tr><tr><td>2022-02-11</td><td>&quot;金&quot;</td><td>995.6</td><td>1022.3</td><td>1018.9</td><td>84</td><td>57</td><td>5.5</td><td>1.0</td><td>0.5</td><td>48</td><td>1</td><td>5.0</td><td>1.1</td><td>-1.8</td><td>5.4</td><td>null</td><td>null</td><td>null</td><td>null</td><td>null</td><td>5</td></tr><tr><td>2022-10-02</td><td>&quot;日&quot;</td><td>996.9</td><td>1021.9</td><td>1019.5</td><td>76</td><td>38</td><td>16.1</td><td>null</td><td>null</td><td>0</td><td>0</td><td>8.4</td><td>19.2</td><td>12.2</td><td>28.2</td><td>1.2</td><td>&quot;北北西&quot;</td><td>2.8</td><td>4.7</td><td>15</td><td>2</td></tr><tr><td>2024-02-06</td><td>&quot;火&quot;</td><td>992.0</td><td>1018.6</td><td>1016.3</td><td>89</td><td>75</td><td>5.7</td><td>2.5</td><td>1.0</td><td>17</td><td>3</td><td>0.3</td><td>0.7</td><td>-0.8</td><td>3.3</td><td>null</td><td>null</td><td>null</td><td>null</td><td>null</td><td>5</td></tr></tbody></table></div>"
      ],
      "text/plain": [
       "shape: (14, 22)\n",
       "┌───────────┬───────────┬───────────┬───────────┬───┬───────────┬──────────┬───────────┬───────────┐\n",
       "│ date      ┆ day_of_we ┆ mean_pres ┆ mean_pres ┆ … ┆ max_wind_ ┆ max_gust ┆ most_dire ┆ null_coun │\n",
       "│ ---       ┆ ek        ┆ s         ┆ s_sea     ┆   ┆ speed     ┆ ---      ┆ ction_dum ┆ t         │\n",
       "│ date      ┆ ---       ┆ ---       ┆ ---       ┆   ┆ ---       ┆ f64      ┆ my        ┆ ---       │\n",
       "│           ┆ str       ┆ f64       ┆ f64       ┆   ┆ f64       ┆          ┆ ---       ┆ u32       │\n",
       "│           ┆           ┆           ┆           ┆   ┆           ┆          ┆ i64       ┆           │\n",
       "╞═══════════╪═══════════╪═══════════╪═══════════╪═══╪═══════════╪══════════╪═══════════╪═══════════╡\n",
       "│ 2017-10-2 ┆ 日        ┆ 982.5     ┆ 1007.5    ┆ … ┆ 2.4       ┆ 3.6      ┆ 11        ┆ 3         │\n",
       "│ 2         ┆           ┆           ┆           ┆   ┆           ┆          ┆           ┆           │\n",
       "│ 2017-10-2 ┆ 月        ┆ 971.3     ┆ 996.2     ┆ … ┆ 12.5      ┆ 21.2     ┆ 12        ┆ 3         │\n",
       "│ 3         ┆           ┆           ┆           ┆   ┆           ┆          ┆           ┆           │\n",
       "│ 2017-10-2 ┆ 火        ┆ 997.1     ┆ 1022.8    ┆ … ┆ 5.5       ┆ 8.1      ┆ 12        ┆ 3         │\n",
       "│ 4         ┆           ┆           ┆           ┆   ┆           ┆          ┆           ┆           │\n",
       "│ 2019-10-1 ┆ 火        ┆ 998.5     ┆ 1024.1    ┆ … ┆ 6.7       ┆ 12.5     ┆ 12        ┆ 2         │\n",
       "│ 5         ┆           ┆           ┆           ┆   ┆           ┆          ┆           ┆           │\n",
       "│ 2020-02-1 ┆ 木        ┆ 991.3     ┆ 1017.6    ┆ … ┆ 5.2       ┆ 8.5      ┆ 14        ┆ 1         │\n",
       "│ 3         ┆           ┆           ┆           ┆   ┆           ┆          ┆           ┆           │\n",
       "│ …         ┆ …         ┆ …         ┆ …         ┆ … ┆ …         ┆ …        ┆ …         ┆ …         │\n",
       "│ 2020-06-0 ┆ 金        ┆ 981.4     ┆ 1005.6    ┆ … ┆ 6.6       ┆ 10.7     ┆ 16        ┆ 2         │\n",
       "│ 5         ┆           ┆           ┆           ┆   ┆           ┆          ┆           ┆           │\n",
       "│ 2021-01-0 ┆ 火        ┆ 993.5     ┆ 1020.1    ┆ … ┆ null      ┆ null     ┆ null      ┆ 5         │\n",
       "│ 5         ┆           ┆           ┆           ┆   ┆           ┆          ┆           ┆           │\n",
       "│ 2022-02-1 ┆ 金        ┆ 995.6     ┆ 1022.3    ┆ … ┆ null      ┆ null     ┆ null      ┆ 5         │\n",
       "│ 1         ┆           ┆           ┆           ┆   ┆           ┆          ┆           ┆           │\n",
       "│ 2022-10-0 ┆ 日        ┆ 996.9     ┆ 1021.9    ┆ … ┆ 2.8       ┆ 4.7      ┆ 15        ┆ 2         │\n",
       "│ 2         ┆           ┆           ┆           ┆   ┆           ┆          ┆           ┆           │\n",
       "│ 2024-02-0 ┆ 火        ┆ 992.0     ┆ 1018.6    ┆ … ┆ null      ┆ null     ┆ null      ┆ 5         │\n",
       "│ 6         ┆           ┆           ┆           ┆   ┆           ┆          ┆           ┆           │\n",
       "└───────────┴───────────┴───────────┴───────────┴───┴───────────┴──────────┴───────────┴───────────┘"
      ]
     },
     "execution_count": 2,
     "metadata": {},
     "output_type": "execute_result"
    }
   ],
   "source": [
    "df = pl.read_csv(\"../../data/weather/weather.csv\")[23:] # [23:] is for from July 24th, [16:] is for 7th lag variable\n",
    "df = df.with_columns(pl.col(\"date\").str.strptime(pl.Date, \"%Y-%m-%d\"))\n",
    "\n",
    "# display(df.null_count())\n",
    "\n",
    "nulls = df.hstack(df.transpose().select(pl.all().is_null().sum()).transpose().rename({\"column_0\": \"null_count\"}))\n",
    "nulls = nulls.filter(pl.col(\"null_count\") != 0)\n",
    "nulls"
   ]
  },
  {
   "cell_type": "code",
   "execution_count": 7,
   "metadata": {},
   "outputs": [
    {
     "data": {
      "text/html": [
       "<div><style>\n",
       ".dataframe > thead > tr,\n",
       ".dataframe > tbody > tr {\n",
       "  text-align: right;\n",
       "  white-space: pre-wrap;\n",
       "}\n",
       "</style>\n",
       "<small>shape: (366, 2)</small><table border=\"1\" class=\"dataframe\"><thead><tr><th>month_day</th><th>mean_hum</th></tr><tr><td>str</td><td>f64</td></tr></thead><tbody><tr><td>&quot;07-24&quot;</td><td>80.375</td></tr><tr><td>&quot;07-25&quot;</td><td>78.875</td></tr><tr><td>&quot;07-26&quot;</td><td>73.625</td></tr><tr><td>&quot;07-27&quot;</td><td>77.375</td></tr><tr><td>&quot;07-28&quot;</td><td>82.25</td></tr><tr><td>&hellip;</td><td>&hellip;</td></tr><tr><td>&quot;07-20&quot;</td><td>77.571429</td></tr><tr><td>&quot;07-21&quot;</td><td>76.571429</td></tr><tr><td>&quot;07-22&quot;</td><td>77.571429</td></tr><tr><td>&quot;07-23&quot;</td><td>76.714286</td></tr><tr><td>&quot;02-29&quot;</td><td>76.0</td></tr></tbody></table></div>"
      ],
      "text/plain": [
       "shape: (366, 2)\n",
       "┌───────────┬───────────┐\n",
       "│ month_day ┆ mean_hum  │\n",
       "│ ---       ┆ ---       │\n",
       "│ str       ┆ f64       │\n",
       "╞═══════════╪═══════════╡\n",
       "│ 07-24     ┆ 80.375    │\n",
       "│ 07-25     ┆ 78.875    │\n",
       "│ 07-26     ┆ 73.625    │\n",
       "│ 07-27     ┆ 77.375    │\n",
       "│ 07-28     ┆ 82.25     │\n",
       "│ …         ┆ …         │\n",
       "│ 07-20     ┆ 77.571429 │\n",
       "│ 07-21     ┆ 76.571429 │\n",
       "│ 07-22     ┆ 77.571429 │\n",
       "│ 07-23     ┆ 76.714286 │\n",
       "│ 02-29     ┆ 76.0      │\n",
       "└───────────┴───────────┘"
      ]
     },
     "execution_count": 7,
     "metadata": {},
     "output_type": "execute_result"
    }
   ],
   "source": [
    "df = df.with_columns(pl.col(\"date\").dt.strftime(\"%m-%d\").alias(\"month_day\"))\n",
    "df.group_by(\"month_day\", maintain_order=True).agg([\n",
    "    pl.col(\"mean_hum\").mean()\n",
    "])"
   ]
  },
  {
   "cell_type": "code",
   "execution_count": 8,
   "metadata": {},
   "outputs": [
    {
     "data": {
      "text/html": [
       "<div><style>\n",
       ".dataframe > thead > tr,\n",
       ".dataframe > tbody > tr {\n",
       "  text-align: right;\n",
       "  white-space: pre-wrap;\n",
       "}\n",
       "</style>\n",
       "<small>shape: (5, 22)</small><table border=\"1\" class=\"dataframe\"><thead><tr><th>date</th><th>day_of_week</th><th>mean_press</th><th>mean_press_sea</th><th>min_press_sea</th><th>mean_hum</th><th>min_hum</th><th>mean_vapor</th><th>total_preci</th><th>hourly_max_preci</th><th>max_depth</th><th>total_snowfall</th><th>sun_hour</th><th>mean_temp</th><th>min_temp</th><th>max_temp</th><th>mean_wind_speed</th><th>most_direction</th><th>max_wind_speed</th><th>max_gust</th><th>most_direction_dummy</th><th>month_day</th></tr><tr><td>date</td><td>str</td><td>f64</td><td>f64</td><td>f64</td><td>i64</td><td>i64</td><td>f64</td><td>f64</td><td>f64</td><td>i64</td><td>i64</td><td>f64</td><td>f64</td><td>f64</td><td>f64</td><td>f64</td><td>str</td><td>f64</td><td>f64</td><td>i64</td><td>str</td></tr></thead><tbody><tr><td>2017-07-24</td><td>&quot;月&quot;</td><td>978.5</td><td>1002.5</td><td>1000.6</td><td>99</td><td>93</td><td>29.1</td><td>50.5</td><td>8.0</td><td>0</td><td>0</td><td>0.0</td><td>23.7</td><td>23.1</td><td>25.1</td><td>0.9</td><td>&quot;北北西&quot;</td><td>2.9</td><td>4.0</td><td>15</td><td>&quot;07-24&quot;</td></tr><tr><td>2017-07-25</td><td>&quot;火&quot;</td><td>979.6</td><td>1003.6</td><td>1002.1</td><td>95</td><td>85</td><td>28.6</td><td>8.0</td><td>1.5</td><td>0</td><td>0</td><td>0.0</td><td>24.1</td><td>22.3</td><td>25.7</td><td>0.9</td><td>&quot;北北西&quot;</td><td>2.2</td><td>3.2</td><td>15</td><td>&quot;07-25&quot;</td></tr><tr><td>2017-07-26</td><td>&quot;水&quot;</td><td>983.1</td><td>1007.2</td><td>1004.9</td><td>73</td><td>51</td><td>24.0</td><td>0.0</td><td>0.0</td><td>0</td><td>0</td><td>10.2</td><td>25.9</td><td>22.0</td><td>31.5</td><td>2.1</td><td>&quot;東南東&quot;</td><td>5.3</td><td>9.7</td><td>5</td><td>&quot;07-26&quot;</td></tr><tr><td>2017-07-27</td><td>&quot;木&quot;</td><td>986.1</td><td>1010.2</td><td>1008.8</td><td>68</td><td>54</td><td>21.9</td><td>0.0</td><td>0.0</td><td>0</td><td>0</td><td>4.7</td><td>25.4</td><td>21.0</td><td>30.3</td><td>2.7</td><td>&quot;東&quot;</td><td>5.0</td><td>7.9</td><td>4</td><td>&quot;07-27&quot;</td></tr><tr><td>2017-07-28</td><td>&quot;金&quot;</td><td>984.8</td><td>1008.8</td><td>1006.4</td><td>84</td><td>57</td><td>28.0</td><td>39.5</td><td>27.5</td><td>0</td><td>0</td><td>2.5</td><td>26.1</td><td>22.6</td><td>32.1</td><td>1.5</td><td>&quot;北西&quot;</td><td>6.4</td><td>10.0</td><td>14</td><td>&quot;07-28&quot;</td></tr></tbody></table></div>"
      ],
      "text/plain": [
       "shape: (5, 22)\n",
       "┌───────────┬───────────┬───────────┬───────────┬───┬───────────┬──────────┬───────────┬───────────┐\n",
       "│ date      ┆ day_of_we ┆ mean_pres ┆ mean_pres ┆ … ┆ max_wind_ ┆ max_gust ┆ most_dire ┆ month_day │\n",
       "│ ---       ┆ ek        ┆ s         ┆ s_sea     ┆   ┆ speed     ┆ ---      ┆ ction_dum ┆ ---       │\n",
       "│ date      ┆ ---       ┆ ---       ┆ ---       ┆   ┆ ---       ┆ f64      ┆ my        ┆ str       │\n",
       "│           ┆ str       ┆ f64       ┆ f64       ┆   ┆ f64       ┆          ┆ ---       ┆           │\n",
       "│           ┆           ┆           ┆           ┆   ┆           ┆          ┆ i64       ┆           │\n",
       "╞═══════════╪═══════════╪═══════════╪═══════════╪═══╪═══════════╪══════════╪═══════════╪═══════════╡\n",
       "│ 2017-07-2 ┆ 月        ┆ 978.5     ┆ 1002.5    ┆ … ┆ 2.9       ┆ 4.0      ┆ 15        ┆ 07-24     │\n",
       "│ 4         ┆           ┆           ┆           ┆   ┆           ┆          ┆           ┆           │\n",
       "│ 2017-07-2 ┆ 火        ┆ 979.6     ┆ 1003.6    ┆ … ┆ 2.2       ┆ 3.2      ┆ 15        ┆ 07-25     │\n",
       "│ 5         ┆           ┆           ┆           ┆   ┆           ┆          ┆           ┆           │\n",
       "│ 2017-07-2 ┆ 水        ┆ 983.1     ┆ 1007.2    ┆ … ┆ 5.3       ┆ 9.7      ┆ 5         ┆ 07-26     │\n",
       "│ 6         ┆           ┆           ┆           ┆   ┆           ┆          ┆           ┆           │\n",
       "│ 2017-07-2 ┆ 木        ┆ 986.1     ┆ 1010.2    ┆ … ┆ 5.0       ┆ 7.9      ┆ 4         ┆ 07-27     │\n",
       "│ 7         ┆           ┆           ┆           ┆   ┆           ┆          ┆           ┆           │\n",
       "│ 2017-07-2 ┆ 金        ┆ 984.8     ┆ 1008.8    ┆ … ┆ 6.4       ┆ 10.0     ┆ 14        ┆ 07-28     │\n",
       "│ 8         ┆           ┆           ┆           ┆   ┆           ┆          ┆           ┆           │\n",
       "└───────────┴───────────┴───────────┴───────────┴───┴───────────┴──────────┴───────────┴───────────┘"
      ]
     },
     "execution_count": 8,
     "metadata": {},
     "output_type": "execute_result"
    }
   ],
   "source": [
    "df.head()"
   ]
  },
  {
   "cell_type": "markdown",
   "metadata": {},
   "source": [
    "---"
   ]
  },
  {
   "cell_type": "markdown",
   "metadata": {},
   "source": [
    "## Write imputed weather data into csv file"
   ]
  },
  {
   "cell_type": "code",
   "execution_count": 9,
   "metadata": {},
   "outputs": [],
   "source": [
    "df = pl.read_csv(\"../../data/weather/weather.csv\")[23:]\n",
    "df = df.with_columns(pl.col(\"date\").str.strptime(pl.Date, \"%Y-%m-%d\"))\n",
    "\n",
    "columns_to_fill = [col for col in df.columns if col not in [\"date\", \"month_day\", \"day_of_week\", \"most_direction\", \"most_direction_dumy\"]]\n",
    "\n",
    "df = df.with_columns(pl.col(\"date\").dt.strftime(\"%m-%d\").alias(\"month_day\"))\n",
    "\n",
    "daily_mean = df.group_by(\"month_day\", maintain_order=True).agg([\n",
    "    pl.col(col).mean().alias(f\"{col}_mean\") for col in columns_to_fill\n",
    "])\n",
    "\n",
    "for col in columns_to_fill:\n",
    "    df = df.join(daily_mean.select([pl.col(\"month_day\"), pl.col(f\"{col}_mean\")]), on=\"month_day\", how=\"left\")\n",
    "    df = df.with_columns(pl.when(pl.col(col).is_null()).then(pl.col(f\"{col}_mean\")).otherwise(pl.col(col)).alias(col))\n",
    "\n",
    "df = df.drop([f\"{col}_mean\" for col in columns_to_fill])\n",
    "df = df.drop(\"month_day\")\n",
    "df.write_csv(\"../../data/weather/weather_imputed.csv\")"
   ]
  },
  {
   "cell_type": "code",
   "execution_count": null,
   "metadata": {},
   "outputs": [],
   "source": [
    "# test\n",
    "import polars as pl\n",
    "\n",
    "# サンプルデータフレーム作成\n",
    "df = pl.DataFrame({\n",
    "    \"date\": [\n",
    "        \"2017-01-01\", \"2017-01-02\", \"2017-01-03\",\n",
    "        \"2018-01-01\", \"2018-01-02\", \"2018-01-03\",\n",
    "        \"2019-01-01\", \"2019-01-02\", \"2019-01-03\",\n",
    "        \"2020-01-01\", \"2020-01-02\", \"2020-01-03\",\n",
    "        \"2021-01-01\", \"2021-01-02\", \"2021-01-03\"\n",
    "    ],\n",
    "    \"temp\": [10.0, None, 12.0, None, 15.0, 14.0, 11.0, None, 16.0, 10.5, 14.5, None, 9.0, None, 17.0],\n",
    "    \"humidity\": [50, None, 55, 48, None, 52, 49, 54, None, None, 50, 56, 53, None, 58]\n",
    "}).with_columns(pl.col(\"date\").str.strptime(pl.Date, \"%Y-%m-%d\"))\n",
    "# 月日だけを抽出して新しい列を作成\n",
    "df = df.with_columns(pl.col(\"date\").dt.strftime(\"%m-%d\").alias(\"month_day\"))\n",
    "\n",
    "# 補完するカラムリスト\n",
    "columns_to_fill = [col for col in df.columns if col not in [\"date\", \"month_day\"]]\n",
    "\n",
    "# nullを月日でグループ化した平均で埋める\n",
    "df_filled = df.group_by(\"month_day\").agg([\n",
    "    pl.col(col).mean().alias(f\"{col}_mean\") for col in columns_to_fill  # 各グループの平均を計算\n",
    "])\n",
    "\n",
    "# 平均値でnullを埋める\n",
    "for col in columns_to_fill:\n",
    "    df = df.join(df_filled.select([pl.col(\"month_day\"), pl.col(f\"{col}_mean\")]), on=\"month_day\", how=\"left\")\n",
    "    df = df.with_columns(pl.when(pl.col(col).is_null()).then(pl.col(f\"{col}_mean\")).otherwise(pl.col(col)).alias(col))\n",
    "\n",
    "# 不要な平均値のカラムを削除\n",
    "df = df.drop([f\"{col}_mean\" for col in columns_to_fill])\n",
    "\n",
    "# 結果を表示\n",
    "df"
   ]
  },
  {
   "cell_type": "code",
   "execution_count": 27,
   "metadata": {},
   "outputs": [],
   "source": [
    "df = pl.read_csv(\"../../data/weather/weather_imputed.csv\")\n",
    "# df.null_count()"
   ]
  }
 ],
 "metadata": {
  "kernelspec": {
   "display_name": "bayes",
   "language": "python",
   "name": "python3"
  },
  "language_info": {
   "codemirror_mode": {
    "name": "ipython",
    "version": 3
   },
   "file_extension": ".py",
   "mimetype": "text/x-python",
   "name": "python",
   "nbconvert_exporter": "python",
   "pygments_lexer": "ipython3",
   "version": "3.10.13"
  }
 },
 "nbformat": 4,
 "nbformat_minor": 2
}
