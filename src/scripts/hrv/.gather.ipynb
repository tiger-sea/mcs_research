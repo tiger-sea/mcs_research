{
 "cells": [
  {
   "cell_type": "code",
   "execution_count": 1,
   "metadata": {},
   "outputs": [],
   "source": [
    "import polars as pl"
   ]
  },
  {
   "cell_type": "code",
   "execution_count": 2,
   "metadata": {},
   "outputs": [
    {
     "data": {
      "text/html": [
       "<div><style>\n",
       ".dataframe > thead > tr,\n",
       ".dataframe > tbody > tr {\n",
       "  text-align: right;\n",
       "  white-space: pre-wrap;\n",
       "}\n",
       "</style>\n",
       "<small>shape: (2_274, 5)</small><table border=\"1\" class=\"dataframe\"><thead><tr><th>date</th><th>VLF</th><th>LF</th><th>HF</th><th>LFHFratio</th></tr><tr><td>date</td><td>f64</td><td>f64</td><td>f64</td><td>f64</td></tr></thead><tbody><tr><td>2017-07-24</td><td>913.842047</td><td>177.708136</td><td>108.16432</td><td>1.642946</td></tr><tr><td>2017-07-25</td><td>1018.846236</td><td>394.14207</td><td>641.380865</td><td>0.614521</td></tr><tr><td>2017-07-26</td><td>773.38881</td><td>172.343543</td><td>127.298165</td><td>1.353857</td></tr><tr><td>2017-07-27</td><td>1651.465762</td><td>434.661557</td><td>454.407444</td><td>0.956546</td></tr><tr><td>2017-07-28</td><td>924.845655</td><td>336.934271</td><td>440.677408</td><td>0.764583</td></tr><tr><td>&hellip;</td><td>&hellip;</td><td>&hellip;</td><td>&hellip;</td><td>&hellip;</td></tr><tr><td>2024-05-27</td><td>427.220944</td><td>168.204588</td><td>187.357655</td><td>0.897773</td></tr><tr><td>2024-05-28</td><td>668.467264</td><td>128.472557</td><td>68.97968</td><td>1.86247</td></tr><tr><td>2024-05-29</td><td>727.382904</td><td>329.544831</td><td>422.800507</td><td>0.779433</td></tr><tr><td>2024-05-30</td><td>1216.435587</td><td>141.533145</td><td>62.329616</td><td>2.270721</td></tr><tr><td>2024-05-31</td><td>389.902923</td><td>43.594404</td><td>28.334708</td><td>1.538551</td></tr></tbody></table></div>"
      ],
      "text/plain": [
       "shape: (2_274, 5)\n",
       "┌────────────┬─────────────┬────────────┬────────────┬───────────┐\n",
       "│ date       ┆ VLF         ┆ LF         ┆ HF         ┆ LFHFratio │\n",
       "│ ---        ┆ ---         ┆ ---        ┆ ---        ┆ ---       │\n",
       "│ date       ┆ f64         ┆ f64        ┆ f64        ┆ f64       │\n",
       "╞════════════╪═════════════╪════════════╪════════════╪═══════════╡\n",
       "│ 2017-07-24 ┆ 913.842047  ┆ 177.708136 ┆ 108.16432  ┆ 1.642946  │\n",
       "│ 2017-07-25 ┆ 1018.846236 ┆ 394.14207  ┆ 641.380865 ┆ 0.614521  │\n",
       "│ 2017-07-26 ┆ 773.38881   ┆ 172.343543 ┆ 127.298165 ┆ 1.353857  │\n",
       "│ 2017-07-27 ┆ 1651.465762 ┆ 434.661557 ┆ 454.407444 ┆ 0.956546  │\n",
       "│ 2017-07-28 ┆ 924.845655  ┆ 336.934271 ┆ 440.677408 ┆ 0.764583  │\n",
       "│ …          ┆ …           ┆ …          ┆ …          ┆ …         │\n",
       "│ 2024-05-27 ┆ 427.220944  ┆ 168.204588 ┆ 187.357655 ┆ 0.897773  │\n",
       "│ 2024-05-28 ┆ 668.467264  ┆ 128.472557 ┆ 68.97968   ┆ 1.86247   │\n",
       "│ 2024-05-29 ┆ 727.382904  ┆ 329.544831 ┆ 422.800507 ┆ 0.779433  │\n",
       "│ 2024-05-30 ┆ 1216.435587 ┆ 141.533145 ┆ 62.329616  ┆ 2.270721  │\n",
       "│ 2024-05-31 ┆ 389.902923  ┆ 43.594404  ┆ 28.334708  ┆ 1.538551  │\n",
       "└────────────┴─────────────┴────────────┴────────────┴───────────┘"
      ]
     },
     "execution_count": 2,
     "metadata": {},
     "output_type": "execute_result"
    }
   ],
   "source": [
    "hrv_freq = pl.read_csv(\"../../data/HRV/freqency_domain.csv\")\n",
    "hrv_freq = hrv_freq.with_columns(pl.col(\"date\").str.strptime(pl.Date, \"%Y/%m/%d\"))\n",
    "hrv_freq = hrv_freq.with_columns((pl.col(\"LF\") / pl.col(\"HF\")).alias(\"LFHFratio\"))\n",
    "hrv_freq"
   ]
  },
  {
   "cell_type": "code",
   "execution_count": 3,
   "metadata": {},
   "outputs": [
    {
     "data": {
      "text/html": [
       "<div><style>\n",
       ".dataframe > thead > tr,\n",
       ".dataframe > tbody > tr {\n",
       "  text-align: right;\n",
       "  white-space: pre-wrap;\n",
       "}\n",
       "</style>\n",
       "<small>shape: (1, 5)</small><table border=\"1\" class=\"dataframe\"><thead><tr><th>date</th><th>VLF</th><th>LF</th><th>HF</th><th>LFHFratio</th></tr><tr><td>u32</td><td>u32</td><td>u32</td><td>u32</td><td>u32</td></tr></thead><tbody><tr><td>0</td><td>0</td><td>0</td><td>0</td><td>0</td></tr></tbody></table></div>"
      ],
      "text/plain": [
       "shape: (1, 5)\n",
       "┌──────┬─────┬─────┬─────┬───────────┐\n",
       "│ date ┆ VLF ┆ LF  ┆ HF  ┆ LFHFratio │\n",
       "│ ---  ┆ --- ┆ --- ┆ --- ┆ ---       │\n",
       "│ u32  ┆ u32 ┆ u32 ┆ u32 ┆ u32       │\n",
       "╞══════╪═════╪═════╪═════╪═══════════╡\n",
       "│ 0    ┆ 0   ┆ 0   ┆ 0   ┆ 0         │\n",
       "└──────┴─────┴─────┴─────┴───────────┘"
      ]
     },
     "execution_count": 3,
     "metadata": {},
     "output_type": "execute_result"
    }
   ],
   "source": [
    "hrv_freq.null_count()"
   ]
  },
  {
   "cell_type": "code",
   "execution_count": 4,
   "metadata": {},
   "outputs": [
    {
     "data": {
      "text/html": [
       "<div><style>\n",
       ".dataframe > thead > tr,\n",
       ".dataframe > tbody > tr {\n",
       "  text-align: right;\n",
       "  white-space: pre-wrap;\n",
       "}\n",
       "</style>\n",
       "<small>shape: (2_274, 11)</small><table border=\"1\" class=\"dataframe\"><thead><tr><th>date</th><th>HR</th><th>SDNN</th><th>RMSSD</th><th>pNN50</th><th>TINN</th><th>CD</th><th>ApEn</th><th>SD1</th><th>SD2</th><th>SD1SD2ratio</th></tr><tr><td>date</td><td>f64</td><td>f64</td><td>f64</td><td>f64</td><td>f64</td><td>f64</td><td>f64</td><td>f64</td><td>f64</td><td>f64</td></tr></thead><tbody><tr><td>2017-07-24</td><td>89.321964</td><td>52.894815</td><td>20.591987</td><td>0.024171</td><td>234.375</td><td>0.213721</td><td>0.927847</td><td>14.560645</td><td>73.323424</td><td>0.198581</td></tr><tr><td>2017-07-25</td><td>88.282913</td><td>62.74772</td><td>55.808486</td><td>0.125557</td><td>164.0625</td><td>0.210653</td><td>0.935861</td><td>39.462559</td><td>79.128983</td><td>0.498712</td></tr><tr><td>2017-07-26</td><td>93.05086</td><td>54.273659</td><td>26.396446</td><td>0.031929</td><td>195.3125</td><td>0.152075</td><td>0.670139</td><td>18.664854</td><td>74.382503</td><td>0.250931</td></tr><tr><td>2017-07-27</td><td>83.701138</td><td>79.776541</td><td>49.102926</td><td>0.082737</td><td>320.3125</td><td>0.169796</td><td>0.753026</td><td>34.721011</td><td>107.329912</td><td>0.323498</td></tr><tr><td>2017-07-28</td><td>89.753526</td><td>61.681043</td><td>40.591486</td><td>0.050658</td><td>179.6875</td><td>0.145027</td><td>0.526856</td><td>28.702329</td><td>82.269306</td><td>0.348883</td></tr><tr><td>&hellip;</td><td>&hellip;</td><td>&hellip;</td><td>&hellip;</td><td>&hellip;</td><td>&hellip;</td><td>&hellip;</td><td>&hellip;</td><td>&hellip;</td><td>&hellip;</td><td>&hellip;</td></tr><tr><td>2024-05-27</td><td>91.809885</td><td>59.696794</td><td>39.110882</td><td>0.02551</td><td>250.0</td><td>0.169781</td><td>0.832959</td><td>27.65458</td><td>78.696026</td><td>0.35141</td></tr><tr><td>2024-05-28</td><td>90.356429</td><td>59.317445</td><td>17.588495</td><td>0.006845</td><td>257.8125</td><td>0.15222</td><td>0.844507</td><td>12.436939</td><td>82.818568</td><td>0.150171</td></tr><tr><td>2024-05-29</td><td>90.024804</td><td>85.52715</td><td>41.034579</td><td>0.016426</td><td>273.4375</td><td>0.134591</td><td>0.474263</td><td>29.007911</td><td>110.369776</td><td>0.262825</td></tr><tr><td>2024-05-30</td><td>86.99616</td><td>60.524224</td><td>19.112264</td><td>0.0125</td><td>234.375</td><td>0.198711</td><td>0.779242</td><td>13.513696</td><td>84.385686</td><td>0.160142</td></tr><tr><td>2024-05-31</td><td>104.002715</td><td>44.560423</td><td>6.182296</td><td>0.0</td><td>171.875</td><td>0.092806</td><td>0.403516</td><td>4.371468</td><td>62.876138</td><td>0.069525</td></tr></tbody></table></div>"
      ],
      "text/plain": [
       "shape: (2_274, 11)\n",
       "┌───────────┬───────────┬───────────┬───────────┬───┬──────────┬───────────┬───────────┬───────────┐\n",
       "│ date      ┆ HR        ┆ SDNN      ┆ RMSSD     ┆ … ┆ ApEn     ┆ SD1       ┆ SD2       ┆ SD1SD2rat │\n",
       "│ ---       ┆ ---       ┆ ---       ┆ ---       ┆   ┆ ---      ┆ ---       ┆ ---       ┆ io        │\n",
       "│ date      ┆ f64       ┆ f64       ┆ f64       ┆   ┆ f64      ┆ f64       ┆ f64       ┆ ---       │\n",
       "│           ┆           ┆           ┆           ┆   ┆          ┆           ┆           ┆ f64       │\n",
       "╞═══════════╪═══════════╪═══════════╪═══════════╪═══╪══════════╪═══════════╪═══════════╪═══════════╡\n",
       "│ 2017-07-2 ┆ 89.321964 ┆ 52.894815 ┆ 20.591987 ┆ … ┆ 0.927847 ┆ 14.560645 ┆ 73.323424 ┆ 0.198581  │\n",
       "│ 4         ┆           ┆           ┆           ┆   ┆          ┆           ┆           ┆           │\n",
       "│ 2017-07-2 ┆ 88.282913 ┆ 62.74772  ┆ 55.808486 ┆ … ┆ 0.935861 ┆ 39.462559 ┆ 79.128983 ┆ 0.498712  │\n",
       "│ 5         ┆           ┆           ┆           ┆   ┆          ┆           ┆           ┆           │\n",
       "│ 2017-07-2 ┆ 93.05086  ┆ 54.273659 ┆ 26.396446 ┆ … ┆ 0.670139 ┆ 18.664854 ┆ 74.382503 ┆ 0.250931  │\n",
       "│ 6         ┆           ┆           ┆           ┆   ┆          ┆           ┆           ┆           │\n",
       "│ 2017-07-2 ┆ 83.701138 ┆ 79.776541 ┆ 49.102926 ┆ … ┆ 0.753026 ┆ 34.721011 ┆ 107.32991 ┆ 0.323498  │\n",
       "│ 7         ┆           ┆           ┆           ┆   ┆          ┆           ┆ 2         ┆           │\n",
       "│ 2017-07-2 ┆ 89.753526 ┆ 61.681043 ┆ 40.591486 ┆ … ┆ 0.526856 ┆ 28.702329 ┆ 82.269306 ┆ 0.348883  │\n",
       "│ 8         ┆           ┆           ┆           ┆   ┆          ┆           ┆           ┆           │\n",
       "│ …         ┆ …         ┆ …         ┆ …         ┆ … ┆ …        ┆ …         ┆ …         ┆ …         │\n",
       "│ 2024-05-2 ┆ 91.809885 ┆ 59.696794 ┆ 39.110882 ┆ … ┆ 0.832959 ┆ 27.65458  ┆ 78.696026 ┆ 0.35141   │\n",
       "│ 7         ┆           ┆           ┆           ┆   ┆          ┆           ┆           ┆           │\n",
       "│ 2024-05-2 ┆ 90.356429 ┆ 59.317445 ┆ 17.588495 ┆ … ┆ 0.844507 ┆ 12.436939 ┆ 82.818568 ┆ 0.150171  │\n",
       "│ 8         ┆           ┆           ┆           ┆   ┆          ┆           ┆           ┆           │\n",
       "│ 2024-05-2 ┆ 90.024804 ┆ 85.52715  ┆ 41.034579 ┆ … ┆ 0.474263 ┆ 29.007911 ┆ 110.36977 ┆ 0.262825  │\n",
       "│ 9         ┆           ┆           ┆           ┆   ┆          ┆           ┆ 6         ┆           │\n",
       "│ 2024-05-3 ┆ 86.99616  ┆ 60.524224 ┆ 19.112264 ┆ … ┆ 0.779242 ┆ 13.513696 ┆ 84.385686 ┆ 0.160142  │\n",
       "│ 0         ┆           ┆           ┆           ┆   ┆          ┆           ┆           ┆           │\n",
       "│ 2024-05-3 ┆ 104.00271 ┆ 44.560423 ┆ 6.182296  ┆ … ┆ 0.403516 ┆ 4.371468  ┆ 62.876138 ┆ 0.069525  │\n",
       "│ 1         ┆ 5         ┆           ┆           ┆   ┆          ┆           ┆           ┆           │\n",
       "└───────────┴───────────┴───────────┴───────────┴───┴──────────┴───────────┴───────────┴───────────┘"
      ]
     },
     "execution_count": 4,
     "metadata": {},
     "output_type": "execute_result"
    }
   ],
   "source": [
    "hrv_tnl = pl.read_csv(\"../../data/HRV/time_nonlinear_domain.csv\")\n",
    "hrv_tnl = hrv_tnl.with_columns(pl.col(\"date\").str.strptime(pl.Date, \"%Y/%m/%d\"))\n",
    "hrv_tnl = hrv_tnl.drop(\"mean_RRI\")\n",
    "hrv_tnl"
   ]
  },
  {
   "cell_type": "code",
   "execution_count": 5,
   "metadata": {},
   "outputs": [
    {
     "data": {
      "text/html": [
       "<div><style>\n",
       ".dataframe > thead > tr,\n",
       ".dataframe > tbody > tr {\n",
       "  text-align: right;\n",
       "  white-space: pre-wrap;\n",
       "}\n",
       "</style>\n",
       "<small>shape: (1, 11)</small><table border=\"1\" class=\"dataframe\"><thead><tr><th>date</th><th>HR</th><th>SDNN</th><th>RMSSD</th><th>pNN50</th><th>TINN</th><th>CD</th><th>ApEn</th><th>SD1</th><th>SD2</th><th>SD1SD2ratio</th></tr><tr><td>u32</td><td>u32</td><td>u32</td><td>u32</td><td>u32</td><td>u32</td><td>u32</td><td>u32</td><td>u32</td><td>u32</td><td>u32</td></tr></thead><tbody><tr><td>0</td><td>0</td><td>0</td><td>0</td><td>0</td><td>0</td><td>0</td><td>0</td><td>0</td><td>0</td><td>0</td></tr></tbody></table></div>"
      ],
      "text/plain": [
       "shape: (1, 11)\n",
       "┌──────┬─────┬──────┬───────┬───┬──────┬─────┬─────┬─────────────┐\n",
       "│ date ┆ HR  ┆ SDNN ┆ RMSSD ┆ … ┆ ApEn ┆ SD1 ┆ SD2 ┆ SD1SD2ratio │\n",
       "│ ---  ┆ --- ┆ ---  ┆ ---   ┆   ┆ ---  ┆ --- ┆ --- ┆ ---         │\n",
       "│ u32  ┆ u32 ┆ u32  ┆ u32   ┆   ┆ u32  ┆ u32 ┆ u32 ┆ u32         │\n",
       "╞══════╪═════╪══════╪═══════╪═══╪══════╪═════╪═════╪═════════════╡\n",
       "│ 0    ┆ 0   ┆ 0    ┆ 0     ┆ … ┆ 0    ┆ 0   ┆ 0   ┆ 0           │\n",
       "└──────┴─────┴──────┴───────┴───┴──────┴─────┴─────┴─────────────┘"
      ]
     },
     "execution_count": 5,
     "metadata": {},
     "output_type": "execute_result"
    }
   ],
   "source": [
    "hrv_tnl.null_count()"
   ]
  },
  {
   "cell_type": "code",
   "execution_count": 6,
   "metadata": {},
   "outputs": [
    {
     "data": {
      "text/html": [
       "<div><style>\n",
       ".dataframe > thead > tr,\n",
       ".dataframe > tbody > tr {\n",
       "  text-align: right;\n",
       "  white-space: pre-wrap;\n",
       "}\n",
       "</style>\n",
       "<small>shape: (2_274, 15)</small><table border=\"1\" class=\"dataframe\"><thead><tr><th>date</th><th>VLF</th><th>LF</th><th>HF</th><th>LFHFratio</th><th>HR</th><th>SDNN</th><th>RMSSD</th><th>pNN50</th><th>TINN</th><th>CD</th><th>ApEn</th><th>SD1</th><th>SD2</th><th>SD1SD2ratio</th></tr><tr><td>date</td><td>f64</td><td>f64</td><td>f64</td><td>f64</td><td>f64</td><td>f64</td><td>f64</td><td>f64</td><td>f64</td><td>f64</td><td>f64</td><td>f64</td><td>f64</td><td>f64</td></tr></thead><tbody><tr><td>2017-07-24</td><td>913.842047</td><td>177.708136</td><td>108.16432</td><td>1.642946</td><td>89.321964</td><td>52.894815</td><td>20.591987</td><td>0.024171</td><td>234.375</td><td>0.213721</td><td>0.927847</td><td>14.560645</td><td>73.323424</td><td>0.198581</td></tr><tr><td>2017-07-25</td><td>1018.846236</td><td>394.14207</td><td>641.380865</td><td>0.614521</td><td>88.282913</td><td>62.74772</td><td>55.808486</td><td>0.125557</td><td>164.0625</td><td>0.210653</td><td>0.935861</td><td>39.462559</td><td>79.128983</td><td>0.498712</td></tr><tr><td>2017-07-26</td><td>773.38881</td><td>172.343543</td><td>127.298165</td><td>1.353857</td><td>93.05086</td><td>54.273659</td><td>26.396446</td><td>0.031929</td><td>195.3125</td><td>0.152075</td><td>0.670139</td><td>18.664854</td><td>74.382503</td><td>0.250931</td></tr><tr><td>2017-07-27</td><td>1651.465762</td><td>434.661557</td><td>454.407444</td><td>0.956546</td><td>83.701138</td><td>79.776541</td><td>49.102926</td><td>0.082737</td><td>320.3125</td><td>0.169796</td><td>0.753026</td><td>34.721011</td><td>107.329912</td><td>0.323498</td></tr><tr><td>2017-07-28</td><td>924.845655</td><td>336.934271</td><td>440.677408</td><td>0.764583</td><td>89.753526</td><td>61.681043</td><td>40.591486</td><td>0.050658</td><td>179.6875</td><td>0.145027</td><td>0.526856</td><td>28.702329</td><td>82.269306</td><td>0.348883</td></tr><tr><td>&hellip;</td><td>&hellip;</td><td>&hellip;</td><td>&hellip;</td><td>&hellip;</td><td>&hellip;</td><td>&hellip;</td><td>&hellip;</td><td>&hellip;</td><td>&hellip;</td><td>&hellip;</td><td>&hellip;</td><td>&hellip;</td><td>&hellip;</td><td>&hellip;</td></tr><tr><td>2024-05-27</td><td>427.220944</td><td>168.204588</td><td>187.357655</td><td>0.897773</td><td>91.809885</td><td>59.696794</td><td>39.110882</td><td>0.02551</td><td>250.0</td><td>0.169781</td><td>0.832959</td><td>27.65458</td><td>78.696026</td><td>0.35141</td></tr><tr><td>2024-05-28</td><td>668.467264</td><td>128.472557</td><td>68.97968</td><td>1.86247</td><td>90.356429</td><td>59.317445</td><td>17.588495</td><td>0.006845</td><td>257.8125</td><td>0.15222</td><td>0.844507</td><td>12.436939</td><td>82.818568</td><td>0.150171</td></tr><tr><td>2024-05-29</td><td>727.382904</td><td>329.544831</td><td>422.800507</td><td>0.779433</td><td>90.024804</td><td>85.52715</td><td>41.034579</td><td>0.016426</td><td>273.4375</td><td>0.134591</td><td>0.474263</td><td>29.007911</td><td>110.369776</td><td>0.262825</td></tr><tr><td>2024-05-30</td><td>1216.435587</td><td>141.533145</td><td>62.329616</td><td>2.270721</td><td>86.99616</td><td>60.524224</td><td>19.112264</td><td>0.0125</td><td>234.375</td><td>0.198711</td><td>0.779242</td><td>13.513696</td><td>84.385686</td><td>0.160142</td></tr><tr><td>2024-05-31</td><td>389.902923</td><td>43.594404</td><td>28.334708</td><td>1.538551</td><td>104.002715</td><td>44.560423</td><td>6.182296</td><td>0.0</td><td>171.875</td><td>0.092806</td><td>0.403516</td><td>4.371468</td><td>62.876138</td><td>0.069525</td></tr></tbody></table></div>"
      ],
      "text/plain": [
       "shape: (2_274, 15)\n",
       "┌───────────┬───────────┬───────────┬───────────┬───┬──────────┬───────────┬───────────┬───────────┐\n",
       "│ date      ┆ VLF       ┆ LF        ┆ HF        ┆ … ┆ ApEn     ┆ SD1       ┆ SD2       ┆ SD1SD2rat │\n",
       "│ ---       ┆ ---       ┆ ---       ┆ ---       ┆   ┆ ---      ┆ ---       ┆ ---       ┆ io        │\n",
       "│ date      ┆ f64       ┆ f64       ┆ f64       ┆   ┆ f64      ┆ f64       ┆ f64       ┆ ---       │\n",
       "│           ┆           ┆           ┆           ┆   ┆          ┆           ┆           ┆ f64       │\n",
       "╞═══════════╪═══════════╪═══════════╪═══════════╪═══╪══════════╪═══════════╪═══════════╪═══════════╡\n",
       "│ 2017-07-2 ┆ 913.84204 ┆ 177.70813 ┆ 108.16432 ┆ … ┆ 0.927847 ┆ 14.560645 ┆ 73.323424 ┆ 0.198581  │\n",
       "│ 4         ┆ 7         ┆ 6         ┆           ┆   ┆          ┆           ┆           ┆           │\n",
       "│ 2017-07-2 ┆ 1018.8462 ┆ 394.14207 ┆ 641.38086 ┆ … ┆ 0.935861 ┆ 39.462559 ┆ 79.128983 ┆ 0.498712  │\n",
       "│ 5         ┆ 36        ┆           ┆ 5         ┆   ┆          ┆           ┆           ┆           │\n",
       "│ 2017-07-2 ┆ 773.38881 ┆ 172.34354 ┆ 127.29816 ┆ … ┆ 0.670139 ┆ 18.664854 ┆ 74.382503 ┆ 0.250931  │\n",
       "│ 6         ┆           ┆ 3         ┆ 5         ┆   ┆          ┆           ┆           ┆           │\n",
       "│ 2017-07-2 ┆ 1651.4657 ┆ 434.66155 ┆ 454.40744 ┆ … ┆ 0.753026 ┆ 34.721011 ┆ 107.32991 ┆ 0.323498  │\n",
       "│ 7         ┆ 62        ┆ 7         ┆ 4         ┆   ┆          ┆           ┆ 2         ┆           │\n",
       "│ 2017-07-2 ┆ 924.84565 ┆ 336.93427 ┆ 440.67740 ┆ … ┆ 0.526856 ┆ 28.702329 ┆ 82.269306 ┆ 0.348883  │\n",
       "│ 8         ┆ 5         ┆ 1         ┆ 8         ┆   ┆          ┆           ┆           ┆           │\n",
       "│ …         ┆ …         ┆ …         ┆ …         ┆ … ┆ …        ┆ …         ┆ …         ┆ …         │\n",
       "│ 2024-05-2 ┆ 427.22094 ┆ 168.20458 ┆ 187.35765 ┆ … ┆ 0.832959 ┆ 27.65458  ┆ 78.696026 ┆ 0.35141   │\n",
       "│ 7         ┆ 4         ┆ 8         ┆ 5         ┆   ┆          ┆           ┆           ┆           │\n",
       "│ 2024-05-2 ┆ 668.46726 ┆ 128.47255 ┆ 68.97968  ┆ … ┆ 0.844507 ┆ 12.436939 ┆ 82.818568 ┆ 0.150171  │\n",
       "│ 8         ┆ 4         ┆ 7         ┆           ┆   ┆          ┆           ┆           ┆           │\n",
       "│ 2024-05-2 ┆ 727.38290 ┆ 329.54483 ┆ 422.80050 ┆ … ┆ 0.474263 ┆ 29.007911 ┆ 110.36977 ┆ 0.262825  │\n",
       "│ 9         ┆ 4         ┆ 1         ┆ 7         ┆   ┆          ┆           ┆ 6         ┆           │\n",
       "│ 2024-05-3 ┆ 1216.4355 ┆ 141.53314 ┆ 62.329616 ┆ … ┆ 0.779242 ┆ 13.513696 ┆ 84.385686 ┆ 0.160142  │\n",
       "│ 0         ┆ 87        ┆ 5         ┆           ┆   ┆          ┆           ┆           ┆           │\n",
       "│ 2024-05-3 ┆ 389.90292 ┆ 43.594404 ┆ 28.334708 ┆ … ┆ 0.403516 ┆ 4.371468  ┆ 62.876138 ┆ 0.069525  │\n",
       "│ 1         ┆ 3         ┆           ┆           ┆   ┆          ┆           ┆           ┆           │\n",
       "└───────────┴───────────┴───────────┴───────────┴───┴──────────┴───────────┴───────────┴───────────┘"
      ]
     },
     "execution_count": 6,
     "metadata": {},
     "output_type": "execute_result"
    }
   ],
   "source": [
    "hrv = hrv_freq.join(hrv_tnl, on=\"date\")\n",
    "hrv"
   ]
  },
  {
   "cell_type": "code",
   "execution_count": 7,
   "metadata": {},
   "outputs": [],
   "source": [
    "# hrv.write_csv(\"../../data/HRV/hrv.csv\")"
   ]
  },
  {
   "cell_type": "markdown",
   "metadata": {},
   "source": [
    "---\n",
    "## Check missing date"
   ]
  },
  {
   "cell_type": "code",
   "execution_count": 8,
   "metadata": {},
   "outputs": [
    {
     "data": {
      "text/html": [
       "<div><style>\n",
       ".dataframe > thead > tr,\n",
       ".dataframe > tbody > tr {\n",
       "  text-align: right;\n",
       "  white-space: pre-wrap;\n",
       "}\n",
       "</style>\n",
       "<small>shape: (230, 1)</small><table border=\"1\" class=\"dataframe\"><thead><tr><th>date</th></tr><tr><td>date</td></tr></thead><tbody><tr><td>2017-08-25</td></tr><tr><td>2017-09-01</td></tr><tr><td>2017-09-02</td></tr><tr><td>2017-09-03</td></tr><tr><td>2017-09-04</td></tr><tr><td>&hellip;</td></tr><tr><td>2024-02-12</td></tr><tr><td>2024-02-17</td></tr><tr><td>2024-05-03</td></tr><tr><td>2024-05-04</td></tr><tr><td>2024-05-05</td></tr></tbody></table></div>"
      ],
      "text/plain": [
       "shape: (230, 1)\n",
       "┌────────────┐\n",
       "│ date       │\n",
       "│ ---        │\n",
       "│ date       │\n",
       "╞════════════╡\n",
       "│ 2017-08-25 │\n",
       "│ 2017-09-01 │\n",
       "│ 2017-09-02 │\n",
       "│ 2017-09-03 │\n",
       "│ 2017-09-04 │\n",
       "│ …          │\n",
       "│ 2024-02-12 │\n",
       "│ 2024-02-17 │\n",
       "│ 2024-05-03 │\n",
       "│ 2024-05-04 │\n",
       "│ 2024-05-05 │\n",
       "└────────────┘"
      ]
     },
     "execution_count": 8,
     "metadata": {},
     "output_type": "execute_result"
    }
   ],
   "source": [
    "from datetime import date\n",
    "d = pl.DataFrame(pl.date_range(date(2017, 7, 24), date(2024, 5, 31), eager=True).alias(\"date\"))\n",
    "missing_d = d.join(hrv, on=\"date\", how=\"anti\")\n",
    "missing_d"
   ]
  }
 ],
 "metadata": {
  "kernelspec": {
   "display_name": "pystan",
   "language": "python",
   "name": "python3"
  },
  "language_info": {
   "codemirror_mode": {
    "name": "ipython",
    "version": 3
   },
   "file_extension": ".py",
   "mimetype": "text/x-python",
   "name": "python",
   "nbconvert_exporter": "python",
   "pygments_lexer": "ipython3",
   "version": "3.11.8"
  }
 },
 "nbformat": 4,
 "nbformat_minor": 2
}
