{
 "cells": [
  {
   "cell_type": "code",
   "execution_count": 9,
   "metadata": {},
   "outputs": [],
   "source": [
    "import polars as pl"
   ]
  },
  {
   "cell_type": "code",
   "execution_count": 10,
   "metadata": {},
   "outputs": [
    {
     "data": {
      "text/html": [
       "<div><style>\n",
       ".dataframe > thead > tr,\n",
       ".dataframe > tbody > tr {\n",
       "  text-align: right;\n",
       "  white-space: pre-wrap;\n",
       "}\n",
       "</style>\n",
       "<small>shape: (2_274, 5)</small><table border=\"1\" class=\"dataframe\"><thead><tr><th>date</th><th>VLF</th><th>LF</th><th>HF</th><th>LFHFratio</th></tr><tr><td>date</td><td>f64</td><td>f64</td><td>f64</td><td>f64</td></tr></thead><tbody><tr><td>2017-07-24</td><td>884.554467</td><td>176.079683</td><td>98.624315</td><td>1.785358</td></tr><tr><td>2017-07-25</td><td>1077.163019</td><td>409.565229</td><td>692.82705</td><td>0.591151</td></tr><tr><td>2017-07-26</td><td>833.683813</td><td>284.855324</td><td>167.546255</td><td>1.700159</td></tr><tr><td>2017-07-27</td><td>1636.069588</td><td>293.085583</td><td>222.901403</td><td>1.314866</td></tr><tr><td>2017-07-28</td><td>994.366727</td><td>335.918425</td><td>517.969574</td><td>0.648529</td></tr><tr><td>&hellip;</td><td>&hellip;</td><td>&hellip;</td><td>&hellip;</td><td>&hellip;</td></tr><tr><td>2024-05-27</td><td>546.676301</td><td>131.966282</td><td>175.335502</td><td>0.75265</td></tr><tr><td>2024-05-28</td><td>507.299106</td><td>106.736518</td><td>61.719957</td><td>1.729368</td></tr><tr><td>2024-05-29</td><td>959.257511</td><td>210.958493</td><td>314.956597</td><td>0.669802</td></tr><tr><td>2024-05-30</td><td>881.446294</td><td>131.858725</td><td>66.318176</td><td>1.988274</td></tr><tr><td>2024-05-31</td><td>678.403158</td><td>41.215759</td><td>14.464839</td><td>2.849376</td></tr></tbody></table></div>"
      ],
      "text/plain": [
       "shape: (2_274, 5)\n",
       "┌────────────┬─────────────┬────────────┬────────────┬───────────┐\n",
       "│ date       ┆ VLF         ┆ LF         ┆ HF         ┆ LFHFratio │\n",
       "│ ---        ┆ ---         ┆ ---        ┆ ---        ┆ ---       │\n",
       "│ date       ┆ f64         ┆ f64        ┆ f64        ┆ f64       │\n",
       "╞════════════╪═════════════╪════════════╪════════════╪═══════════╡\n",
       "│ 2017-07-24 ┆ 884.554467  ┆ 176.079683 ┆ 98.624315  ┆ 1.785358  │\n",
       "│ 2017-07-25 ┆ 1077.163019 ┆ 409.565229 ┆ 692.82705  ┆ 0.591151  │\n",
       "│ 2017-07-26 ┆ 833.683813  ┆ 284.855324 ┆ 167.546255 ┆ 1.700159  │\n",
       "│ 2017-07-27 ┆ 1636.069588 ┆ 293.085583 ┆ 222.901403 ┆ 1.314866  │\n",
       "│ 2017-07-28 ┆ 994.366727  ┆ 335.918425 ┆ 517.969574 ┆ 0.648529  │\n",
       "│ …          ┆ …           ┆ …          ┆ …          ┆ …         │\n",
       "│ 2024-05-27 ┆ 546.676301  ┆ 131.966282 ┆ 175.335502 ┆ 0.75265   │\n",
       "│ 2024-05-28 ┆ 507.299106  ┆ 106.736518 ┆ 61.719957  ┆ 1.729368  │\n",
       "│ 2024-05-29 ┆ 959.257511  ┆ 210.958493 ┆ 314.956597 ┆ 0.669802  │\n",
       "│ 2024-05-30 ┆ 881.446294  ┆ 131.858725 ┆ 66.318176  ┆ 1.988274  │\n",
       "│ 2024-05-31 ┆ 678.403158  ┆ 41.215759  ┆ 14.464839  ┆ 2.849376  │\n",
       "└────────────┴─────────────┴────────────┴────────────┴───────────┘"
      ]
     },
     "execution_count": 10,
     "metadata": {},
     "output_type": "execute_result"
    }
   ],
   "source": [
    "hrv_freq = pl.read_csv(\"../../data/HRV/freqency_domain.csv\")\n",
    "hrv_freq = hrv_freq.with_columns(pl.col(\"date\").str.strptime(pl.Date, \"%Y/%m/%d\"))\n",
    "hrv_freq = hrv_freq.with_columns((pl.col(\"LF\") / pl.col(\"HF\")).alias(\"LFHFratio\"))\n",
    "hrv_freq"
   ]
  },
  {
   "cell_type": "code",
   "execution_count": 11,
   "metadata": {},
   "outputs": [
    {
     "data": {
      "text/html": [
       "<div><style>\n",
       ".dataframe > thead > tr,\n",
       ".dataframe > tbody > tr {\n",
       "  text-align: right;\n",
       "  white-space: pre-wrap;\n",
       "}\n",
       "</style>\n",
       "<small>shape: (1, 5)</small><table border=\"1\" class=\"dataframe\"><thead><tr><th>date</th><th>VLF</th><th>LF</th><th>HF</th><th>LFHFratio</th></tr><tr><td>u32</td><td>u32</td><td>u32</td><td>u32</td><td>u32</td></tr></thead><tbody><tr><td>0</td><td>0</td><td>0</td><td>0</td><td>0</td></tr></tbody></table></div>"
      ],
      "text/plain": [
       "shape: (1, 5)\n",
       "┌──────┬─────┬─────┬─────┬───────────┐\n",
       "│ date ┆ VLF ┆ LF  ┆ HF  ┆ LFHFratio │\n",
       "│ ---  ┆ --- ┆ --- ┆ --- ┆ ---       │\n",
       "│ u32  ┆ u32 ┆ u32 ┆ u32 ┆ u32       │\n",
       "╞══════╪═════╪═════╪═════╪═══════════╡\n",
       "│ 0    ┆ 0   ┆ 0   ┆ 0   ┆ 0         │\n",
       "└──────┴─────┴─────┴─────┴───────────┘"
      ]
     },
     "execution_count": 11,
     "metadata": {},
     "output_type": "execute_result"
    }
   ],
   "source": [
    "hrv_freq.null_count()"
   ]
  },
  {
   "cell_type": "code",
   "execution_count": 12,
   "metadata": {},
   "outputs": [
    {
     "data": {
      "text/html": [
       "<div><style>\n",
       ".dataframe > thead > tr,\n",
       ".dataframe > tbody > tr {\n",
       "  text-align: right;\n",
       "  white-space: pre-wrap;\n",
       "}\n",
       "</style>\n",
       "<small>shape: (2_274, 11)</small><table border=\"1\" class=\"dataframe\"><thead><tr><th>date</th><th>HR</th><th>SDNN</th><th>RMSSD</th><th>pNN50</th><th>TINN</th><th>CD</th><th>ApEn</th><th>SD1</th><th>SD2</th><th>SD1SD2ratio</th></tr><tr><td>date</td><td>f64</td><td>f64</td><td>f64</td><td>f64</td><td>f64</td><td>f64</td><td>f64</td><td>f64</td><td>f64</td><td>f64</td></tr></thead><tbody><tr><td>2017-07-24</td><td>89.918794</td><td>50.293799</td><td>20.861884</td><td>0.024854</td><td>226.5625</td><td>0.208329</td><td>0.922786</td><td>14.75156</td><td>69.499062</td><td>0.212256</td></tr><tr><td>2017-07-25</td><td>88.932674</td><td>60.827421</td><td>57.237082</td><td>0.122433</td><td>156.25</td><td>0.207682</td><td>0.901482</td><td>40.472728</td><td>75.529353</td><td>0.535854</td></tr><tr><td>2017-07-26</td><td>93.593945</td><td>51.727819</td><td>27.178771</td><td>0.031002</td><td>195.3125</td><td>0.145424</td><td>0.634698</td><td>19.218055</td><td>70.521594</td><td>0.272513</td></tr><tr><td>2017-07-27</td><td>83.92394</td><td>75.542652</td><td>38.155843</td><td>0.062075</td><td>304.6875</td><td>0.16728</td><td>0.728771</td><td>26.979802</td><td>102.905323</td><td>0.262181</td></tr><tr><td>2017-07-28</td><td>90.402819</td><td>59.249159</td><td>41.522311</td><td>0.053435</td><td>171.875</td><td>0.140829</td><td>0.58117</td><td>29.360692</td><td>78.456813</td><td>0.374227</td></tr><tr><td>&hellip;</td><td>&hellip;</td><td>&hellip;</td><td>&hellip;</td><td>&hellip;</td><td>&hellip;</td><td>&hellip;</td><td>&hellip;</td><td>&hellip;</td><td>&hellip;</td><td>&hellip;</td></tr><tr><td>2024-05-27</td><td>92.190444</td><td>58.001563</td><td>38.307472</td><td>0.025624</td><td>234.375</td><td>0.16321</td><td>0.823067</td><td>27.087459</td><td>77.440066</td><td>0.349786</td></tr><tr><td>2024-05-28</td><td>91.105591</td><td>55.534079</td><td>15.998736</td><td>0.006512</td><td>234.375</td><td>0.148263</td><td>0.82495</td><td>11.312079</td><td>77.598669</td><td>0.145777</td></tr><tr><td>2024-05-29</td><td>90.607292</td><td>85.148795</td><td>41.667903</td><td>0.013879</td><td>109.375</td><td>0.129014</td><td>0.4432</td><td>29.453103</td><td>109.239324</td><td>0.26962</td></tr><tr><td>2024-05-30</td><td>87.885165</td><td>53.730134</td><td>18.526989</td><td>0.008778</td><td>226.5625</td><td>0.197365</td><td>0.893004</td><td>13.098841</td><td>74.408476</td><td>0.17604</td></tr><tr><td>2024-05-31</td><td>104.557929</td><td>43.996485</td><td>6.11879</td><td>0.0</td><td>156.25</td><td>0.092522</td><td>0.398641</td><td>4.326436</td><td>62.066414</td><td>0.069707</td></tr></tbody></table></div>"
      ],
      "text/plain": [
       "shape: (2_274, 11)\n",
       "┌───────────┬───────────┬───────────┬───────────┬───┬──────────┬───────────┬───────────┬───────────┐\n",
       "│ date      ┆ HR        ┆ SDNN      ┆ RMSSD     ┆ … ┆ ApEn     ┆ SD1       ┆ SD2       ┆ SD1SD2rat │\n",
       "│ ---       ┆ ---       ┆ ---       ┆ ---       ┆   ┆ ---      ┆ ---       ┆ ---       ┆ io        │\n",
       "│ date      ┆ f64       ┆ f64       ┆ f64       ┆   ┆ f64      ┆ f64       ┆ f64       ┆ ---       │\n",
       "│           ┆           ┆           ┆           ┆   ┆          ┆           ┆           ┆ f64       │\n",
       "╞═══════════╪═══════════╪═══════════╪═══════════╪═══╪══════════╪═══════════╪═══════════╪═══════════╡\n",
       "│ 2017-07-2 ┆ 89.918794 ┆ 50.293799 ┆ 20.861884 ┆ … ┆ 0.922786 ┆ 14.75156  ┆ 69.499062 ┆ 0.212256  │\n",
       "│ 4         ┆           ┆           ┆           ┆   ┆          ┆           ┆           ┆           │\n",
       "│ 2017-07-2 ┆ 88.932674 ┆ 60.827421 ┆ 57.237082 ┆ … ┆ 0.901482 ┆ 40.472728 ┆ 75.529353 ┆ 0.535854  │\n",
       "│ 5         ┆           ┆           ┆           ┆   ┆          ┆           ┆           ┆           │\n",
       "│ 2017-07-2 ┆ 93.593945 ┆ 51.727819 ┆ 27.178771 ┆ … ┆ 0.634698 ┆ 19.218055 ┆ 70.521594 ┆ 0.272513  │\n",
       "│ 6         ┆           ┆           ┆           ┆   ┆          ┆           ┆           ┆           │\n",
       "│ 2017-07-2 ┆ 83.92394  ┆ 75.542652 ┆ 38.155843 ┆ … ┆ 0.728771 ┆ 26.979802 ┆ 102.90532 ┆ 0.262181  │\n",
       "│ 7         ┆           ┆           ┆           ┆   ┆          ┆           ┆ 3         ┆           │\n",
       "│ 2017-07-2 ┆ 90.402819 ┆ 59.249159 ┆ 41.522311 ┆ … ┆ 0.58117  ┆ 29.360692 ┆ 78.456813 ┆ 0.374227  │\n",
       "│ 8         ┆           ┆           ┆           ┆   ┆          ┆           ┆           ┆           │\n",
       "│ …         ┆ …         ┆ …         ┆ …         ┆ … ┆ …        ┆ …         ┆ …         ┆ …         │\n",
       "│ 2024-05-2 ┆ 92.190444 ┆ 58.001563 ┆ 38.307472 ┆ … ┆ 0.823067 ┆ 27.087459 ┆ 77.440066 ┆ 0.349786  │\n",
       "│ 7         ┆           ┆           ┆           ┆   ┆          ┆           ┆           ┆           │\n",
       "│ 2024-05-2 ┆ 91.105591 ┆ 55.534079 ┆ 15.998736 ┆ … ┆ 0.82495  ┆ 11.312079 ┆ 77.598669 ┆ 0.145777  │\n",
       "│ 8         ┆           ┆           ┆           ┆   ┆          ┆           ┆           ┆           │\n",
       "│ 2024-05-2 ┆ 90.607292 ┆ 85.148795 ┆ 41.667903 ┆ … ┆ 0.4432   ┆ 29.453103 ┆ 109.23932 ┆ 0.26962   │\n",
       "│ 9         ┆           ┆           ┆           ┆   ┆          ┆           ┆ 4         ┆           │\n",
       "│ 2024-05-3 ┆ 87.885165 ┆ 53.730134 ┆ 18.526989 ┆ … ┆ 0.893004 ┆ 13.098841 ┆ 74.408476 ┆ 0.17604   │\n",
       "│ 0         ┆           ┆           ┆           ┆   ┆          ┆           ┆           ┆           │\n",
       "│ 2024-05-3 ┆ 104.55792 ┆ 43.996485 ┆ 6.11879   ┆ … ┆ 0.398641 ┆ 4.326436  ┆ 62.066414 ┆ 0.069707  │\n",
       "│ 1         ┆ 9         ┆           ┆           ┆   ┆          ┆           ┆           ┆           │\n",
       "└───────────┴───────────┴───────────┴───────────┴───┴──────────┴───────────┴───────────┴───────────┘"
      ]
     },
     "execution_count": 12,
     "metadata": {},
     "output_type": "execute_result"
    }
   ],
   "source": [
    "hrv_tnl = pl.read_csv(\"../../data/HRV/time_nonlinear_domain.csv\")\n",
    "hrv_tnl = hrv_tnl.with_columns(pl.col(\"date\").str.strptime(pl.Date, \"%Y/%m/%d\"))\n",
    "hrv_tnl = hrv_tnl.drop(\"mean_RRI\")\n",
    "hrv_tnl"
   ]
  },
  {
   "cell_type": "code",
   "execution_count": 13,
   "metadata": {},
   "outputs": [
    {
     "data": {
      "text/html": [
       "<div><style>\n",
       ".dataframe > thead > tr,\n",
       ".dataframe > tbody > tr {\n",
       "  text-align: right;\n",
       "  white-space: pre-wrap;\n",
       "}\n",
       "</style>\n",
       "<small>shape: (1, 11)</small><table border=\"1\" class=\"dataframe\"><thead><tr><th>date</th><th>HR</th><th>SDNN</th><th>RMSSD</th><th>pNN50</th><th>TINN</th><th>CD</th><th>ApEn</th><th>SD1</th><th>SD2</th><th>SD1SD2ratio</th></tr><tr><td>u32</td><td>u32</td><td>u32</td><td>u32</td><td>u32</td><td>u32</td><td>u32</td><td>u32</td><td>u32</td><td>u32</td><td>u32</td></tr></thead><tbody><tr><td>0</td><td>0</td><td>0</td><td>0</td><td>0</td><td>0</td><td>0</td><td>0</td><td>0</td><td>0</td><td>0</td></tr></tbody></table></div>"
      ],
      "text/plain": [
       "shape: (1, 11)\n",
       "┌──────┬─────┬──────┬───────┬───┬──────┬─────┬─────┬─────────────┐\n",
       "│ date ┆ HR  ┆ SDNN ┆ RMSSD ┆ … ┆ ApEn ┆ SD1 ┆ SD2 ┆ SD1SD2ratio │\n",
       "│ ---  ┆ --- ┆ ---  ┆ ---   ┆   ┆ ---  ┆ --- ┆ --- ┆ ---         │\n",
       "│ u32  ┆ u32 ┆ u32  ┆ u32   ┆   ┆ u32  ┆ u32 ┆ u32 ┆ u32         │\n",
       "╞══════╪═════╪══════╪═══════╪═══╪══════╪═════╪═════╪═════════════╡\n",
       "│ 0    ┆ 0   ┆ 0    ┆ 0     ┆ … ┆ 0    ┆ 0   ┆ 0   ┆ 0           │\n",
       "└──────┴─────┴──────┴───────┴───┴──────┴─────┴─────┴─────────────┘"
      ]
     },
     "execution_count": 13,
     "metadata": {},
     "output_type": "execute_result"
    }
   ],
   "source": [
    "hrv_tnl.null_count()"
   ]
  },
  {
   "cell_type": "code",
   "execution_count": 14,
   "metadata": {},
   "outputs": [
    {
     "data": {
      "text/html": [
       "<div><style>\n",
       ".dataframe > thead > tr,\n",
       ".dataframe > tbody > tr {\n",
       "  text-align: right;\n",
       "  white-space: pre-wrap;\n",
       "}\n",
       "</style>\n",
       "<small>shape: (2_274, 15)</small><table border=\"1\" class=\"dataframe\"><thead><tr><th>date</th><th>VLF</th><th>LF</th><th>HF</th><th>LFHFratio</th><th>HR</th><th>SDNN</th><th>RMSSD</th><th>pNN50</th><th>TINN</th><th>CD</th><th>ApEn</th><th>SD1</th><th>SD2</th><th>SD1SD2ratio</th></tr><tr><td>date</td><td>f64</td><td>f64</td><td>f64</td><td>f64</td><td>f64</td><td>f64</td><td>f64</td><td>f64</td><td>f64</td><td>f64</td><td>f64</td><td>f64</td><td>f64</td><td>f64</td></tr></thead><tbody><tr><td>2017-07-24</td><td>884.554467</td><td>176.079683</td><td>98.624315</td><td>1.785358</td><td>89.918794</td><td>50.293799</td><td>20.861884</td><td>0.024854</td><td>226.5625</td><td>0.208329</td><td>0.922786</td><td>14.75156</td><td>69.499062</td><td>0.212256</td></tr><tr><td>2017-07-25</td><td>1077.163019</td><td>409.565229</td><td>692.82705</td><td>0.591151</td><td>88.932674</td><td>60.827421</td><td>57.237082</td><td>0.122433</td><td>156.25</td><td>0.207682</td><td>0.901482</td><td>40.472728</td><td>75.529353</td><td>0.535854</td></tr><tr><td>2017-07-26</td><td>833.683813</td><td>284.855324</td><td>167.546255</td><td>1.700159</td><td>93.593945</td><td>51.727819</td><td>27.178771</td><td>0.031002</td><td>195.3125</td><td>0.145424</td><td>0.634698</td><td>19.218055</td><td>70.521594</td><td>0.272513</td></tr><tr><td>2017-07-27</td><td>1636.069588</td><td>293.085583</td><td>222.901403</td><td>1.314866</td><td>83.92394</td><td>75.542652</td><td>38.155843</td><td>0.062075</td><td>304.6875</td><td>0.16728</td><td>0.728771</td><td>26.979802</td><td>102.905323</td><td>0.262181</td></tr><tr><td>2017-07-28</td><td>994.366727</td><td>335.918425</td><td>517.969574</td><td>0.648529</td><td>90.402819</td><td>59.249159</td><td>41.522311</td><td>0.053435</td><td>171.875</td><td>0.140829</td><td>0.58117</td><td>29.360692</td><td>78.456813</td><td>0.374227</td></tr><tr><td>&hellip;</td><td>&hellip;</td><td>&hellip;</td><td>&hellip;</td><td>&hellip;</td><td>&hellip;</td><td>&hellip;</td><td>&hellip;</td><td>&hellip;</td><td>&hellip;</td><td>&hellip;</td><td>&hellip;</td><td>&hellip;</td><td>&hellip;</td><td>&hellip;</td></tr><tr><td>2024-05-27</td><td>546.676301</td><td>131.966282</td><td>175.335502</td><td>0.75265</td><td>92.190444</td><td>58.001563</td><td>38.307472</td><td>0.025624</td><td>234.375</td><td>0.16321</td><td>0.823067</td><td>27.087459</td><td>77.440066</td><td>0.349786</td></tr><tr><td>2024-05-28</td><td>507.299106</td><td>106.736518</td><td>61.719957</td><td>1.729368</td><td>91.105591</td><td>55.534079</td><td>15.998736</td><td>0.006512</td><td>234.375</td><td>0.148263</td><td>0.82495</td><td>11.312079</td><td>77.598669</td><td>0.145777</td></tr><tr><td>2024-05-29</td><td>959.257511</td><td>210.958493</td><td>314.956597</td><td>0.669802</td><td>90.607292</td><td>85.148795</td><td>41.667903</td><td>0.013879</td><td>109.375</td><td>0.129014</td><td>0.4432</td><td>29.453103</td><td>109.239324</td><td>0.26962</td></tr><tr><td>2024-05-30</td><td>881.446294</td><td>131.858725</td><td>66.318176</td><td>1.988274</td><td>87.885165</td><td>53.730134</td><td>18.526989</td><td>0.008778</td><td>226.5625</td><td>0.197365</td><td>0.893004</td><td>13.098841</td><td>74.408476</td><td>0.17604</td></tr><tr><td>2024-05-31</td><td>678.403158</td><td>41.215759</td><td>14.464839</td><td>2.849376</td><td>104.557929</td><td>43.996485</td><td>6.11879</td><td>0.0</td><td>156.25</td><td>0.092522</td><td>0.398641</td><td>4.326436</td><td>62.066414</td><td>0.069707</td></tr></tbody></table></div>"
      ],
      "text/plain": [
       "shape: (2_274, 15)\n",
       "┌───────────┬───────────┬───────────┬───────────┬───┬──────────┬───────────┬───────────┬───────────┐\n",
       "│ date      ┆ VLF       ┆ LF        ┆ HF        ┆ … ┆ ApEn     ┆ SD1       ┆ SD2       ┆ SD1SD2rat │\n",
       "│ ---       ┆ ---       ┆ ---       ┆ ---       ┆   ┆ ---      ┆ ---       ┆ ---       ┆ io        │\n",
       "│ date      ┆ f64       ┆ f64       ┆ f64       ┆   ┆ f64      ┆ f64       ┆ f64       ┆ ---       │\n",
       "│           ┆           ┆           ┆           ┆   ┆          ┆           ┆           ┆ f64       │\n",
       "╞═══════════╪═══════════╪═══════════╪═══════════╪═══╪══════════╪═══════════╪═══════════╪═══════════╡\n",
       "│ 2017-07-2 ┆ 884.55446 ┆ 176.07968 ┆ 98.624315 ┆ … ┆ 0.922786 ┆ 14.75156  ┆ 69.499062 ┆ 0.212256  │\n",
       "│ 4         ┆ 7         ┆ 3         ┆           ┆   ┆          ┆           ┆           ┆           │\n",
       "│ 2017-07-2 ┆ 1077.1630 ┆ 409.56522 ┆ 692.82705 ┆ … ┆ 0.901482 ┆ 40.472728 ┆ 75.529353 ┆ 0.535854  │\n",
       "│ 5         ┆ 19        ┆ 9         ┆           ┆   ┆          ┆           ┆           ┆           │\n",
       "│ 2017-07-2 ┆ 833.68381 ┆ 284.85532 ┆ 167.54625 ┆ … ┆ 0.634698 ┆ 19.218055 ┆ 70.521594 ┆ 0.272513  │\n",
       "│ 6         ┆ 3         ┆ 4         ┆ 5         ┆   ┆          ┆           ┆           ┆           │\n",
       "│ 2017-07-2 ┆ 1636.0695 ┆ 293.08558 ┆ 222.90140 ┆ … ┆ 0.728771 ┆ 26.979802 ┆ 102.90532 ┆ 0.262181  │\n",
       "│ 7         ┆ 88        ┆ 3         ┆ 3         ┆   ┆          ┆           ┆ 3         ┆           │\n",
       "│ 2017-07-2 ┆ 994.36672 ┆ 335.91842 ┆ 517.96957 ┆ … ┆ 0.58117  ┆ 29.360692 ┆ 78.456813 ┆ 0.374227  │\n",
       "│ 8         ┆ 7         ┆ 5         ┆ 4         ┆   ┆          ┆           ┆           ┆           │\n",
       "│ …         ┆ …         ┆ …         ┆ …         ┆ … ┆ …        ┆ …         ┆ …         ┆ …         │\n",
       "│ 2024-05-2 ┆ 546.67630 ┆ 131.96628 ┆ 175.33550 ┆ … ┆ 0.823067 ┆ 27.087459 ┆ 77.440066 ┆ 0.349786  │\n",
       "│ 7         ┆ 1         ┆ 2         ┆ 2         ┆   ┆          ┆           ┆           ┆           │\n",
       "│ 2024-05-2 ┆ 507.29910 ┆ 106.73651 ┆ 61.719957 ┆ … ┆ 0.82495  ┆ 11.312079 ┆ 77.598669 ┆ 0.145777  │\n",
       "│ 8         ┆ 6         ┆ 8         ┆           ┆   ┆          ┆           ┆           ┆           │\n",
       "│ 2024-05-2 ┆ 959.25751 ┆ 210.95849 ┆ 314.95659 ┆ … ┆ 0.4432   ┆ 29.453103 ┆ 109.23932 ┆ 0.26962   │\n",
       "│ 9         ┆ 1         ┆ 3         ┆ 7         ┆   ┆          ┆           ┆ 4         ┆           │\n",
       "│ 2024-05-3 ┆ 881.44629 ┆ 131.85872 ┆ 66.318176 ┆ … ┆ 0.893004 ┆ 13.098841 ┆ 74.408476 ┆ 0.17604   │\n",
       "│ 0         ┆ 4         ┆ 5         ┆           ┆   ┆          ┆           ┆           ┆           │\n",
       "│ 2024-05-3 ┆ 678.40315 ┆ 41.215759 ┆ 14.464839 ┆ … ┆ 0.398641 ┆ 4.326436  ┆ 62.066414 ┆ 0.069707  │\n",
       "│ 1         ┆ 8         ┆           ┆           ┆   ┆          ┆           ┆           ┆           │\n",
       "└───────────┴───────────┴───────────┴───────────┴───┴──────────┴───────────┴───────────┴───────────┘"
      ]
     },
     "execution_count": 14,
     "metadata": {},
     "output_type": "execute_result"
    }
   ],
   "source": [
    "hrv = hrv_freq.join(hrv_tnl, on=\"date\")\n",
    "hrv"
   ]
  },
  {
   "cell_type": "code",
   "execution_count": 15,
   "metadata": {},
   "outputs": [],
   "source": [
    "hrv.write_csv(\"../../data/HRV/hrv.csv\")"
   ]
  },
  {
   "cell_type": "markdown",
   "metadata": {},
   "source": [
    "---\n",
    "## Check missing date"
   ]
  },
  {
   "cell_type": "code",
   "execution_count": 16,
   "metadata": {},
   "outputs": [
    {
     "data": {
      "text/html": [
       "<div><style>\n",
       ".dataframe > thead > tr,\n",
       ".dataframe > tbody > tr {\n",
       "  text-align: right;\n",
       "  white-space: pre-wrap;\n",
       "}\n",
       "</style>\n",
       "<small>shape: (230, 1)</small><table border=\"1\" class=\"dataframe\"><thead><tr><th>date</th></tr><tr><td>date</td></tr></thead><tbody><tr><td>2017-08-25</td></tr><tr><td>2017-09-01</td></tr><tr><td>2017-09-02</td></tr><tr><td>2017-09-03</td></tr><tr><td>2017-09-04</td></tr><tr><td>&hellip;</td></tr><tr><td>2024-02-12</td></tr><tr><td>2024-02-17</td></tr><tr><td>2024-05-03</td></tr><tr><td>2024-05-04</td></tr><tr><td>2024-05-05</td></tr></tbody></table></div>"
      ],
      "text/plain": [
       "shape: (230, 1)\n",
       "┌────────────┐\n",
       "│ date       │\n",
       "│ ---        │\n",
       "│ date       │\n",
       "╞════════════╡\n",
       "│ 2017-08-25 │\n",
       "│ 2017-09-01 │\n",
       "│ 2017-09-02 │\n",
       "│ 2017-09-03 │\n",
       "│ 2017-09-04 │\n",
       "│ …          │\n",
       "│ 2024-02-12 │\n",
       "│ 2024-02-17 │\n",
       "│ 2024-05-03 │\n",
       "│ 2024-05-04 │\n",
       "│ 2024-05-05 │\n",
       "└────────────┘"
      ]
     },
     "execution_count": 16,
     "metadata": {},
     "output_type": "execute_result"
    }
   ],
   "source": [
    "from datetime import date\n",
    "d = pl.DataFrame(pl.date_range(date(2017, 7, 24), date(2024, 5, 31), eager=True).alias(\"date\"))\n",
    "missing_d = d.join(hrv, on=\"date\", how=\"anti\")\n",
    "missing_d"
   ]
  }
 ],
 "metadata": {
  "kernelspec": {
   "display_name": "pystan",
   "language": "python",
   "name": "python3"
  },
  "language_info": {
   "codemirror_mode": {
    "name": "ipython",
    "version": 3
   },
   "file_extension": ".py",
   "mimetype": "text/x-python",
   "name": "python",
   "nbconvert_exporter": "python",
   "pygments_lexer": "ipython3",
   "version": "3.10.13"
  }
 },
 "nbformat": 4,
 "nbformat_minor": 2
}
