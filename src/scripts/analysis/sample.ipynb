{
 "cells": [
  {
   "cell_type": "code",
   "execution_count": 1,
   "metadata": {},
   "outputs": [],
   "source": [
    "\"\"\"Bayesian way\"\"\"\n",
    "import arviz as az\n",
    "import stan\n",
    "import nest_asyncio\n",
    "nest_asyncio.apply()\n",
    "\n",
    "\"\"\"Basic ones\"\"\"\n",
    "import polars as pl\n",
    "from plotnine import *\n",
    "import matplotlib.pyplot as plt\n",
    "plt.show()  # for display figures after ggplot\n",
    "# plt.rcParams['axes.grid'] = True\n",
    "import numpy as np\n",
    "import seaborn as sns\n",
    "import pandas\n",
    "import statsmodels.api as sm\n",
    "from datetime import datetime\n",
    "\n",
    "import warnings\n",
    "warnings.simplefilter(\"ignore\")\n",
    "import gc"
   ]
  },
  {
   "cell_type": "code",
   "execution_count": 2,
   "metadata": {},
   "outputs": [
    {
     "data": {
      "text/html": [
       "<div><style>\n",
       ".dataframe > thead > tr,\n",
       ".dataframe > tbody > tr {\n",
       "  text-align: right;\n",
       "  white-space: pre-wrap;\n",
       "}\n",
       "</style>\n",
       "<small>shape: (2_274, 15)</small><table border=\"1\" class=\"dataframe\"><thead><tr><th>date</th><th>VLF</th><th>LF</th><th>HF</th><th>LFHF</th><th>HR</th><th>SDNN</th><th>RMSSD</th><th>pNN50</th><th>TINN</th><th>CD</th><th>ApEn</th><th>SD1</th><th>SD2</th><th>SD1SD2</th></tr><tr><td>date</td><td>f64</td><td>f64</td><td>f64</td><td>f64</td><td>f64</td><td>f64</td><td>f64</td><td>f64</td><td>f64</td><td>f64</td><td>f64</td><td>f64</td><td>f64</td><td>f64</td></tr></thead><tbody><tr><td>2017-07-24</td><td>884.554467</td><td>176.079683</td><td>98.624315</td><td>1.785358</td><td>89.918794</td><td>50.293799</td><td>20.861884</td><td>0.024854</td><td>226.5625</td><td>0.208329</td><td>0.922786</td><td>14.75156</td><td>69.499062</td><td>0.212256</td></tr><tr><td>2017-07-25</td><td>977.6705</td><td>271.4607</td><td>114.9889</td><td>2.360756</td><td>88.66</td><td>57.4209</td><td>50.0331</td><td>0.0659</td><td>140.625</td><td>0.2131</td><td>0.9482</td><td>35.3787</td><td>72.7817</td><td>0.4861</td></tr><tr><td>2017-07-26</td><td>833.683813</td><td>284.855324</td><td>167.546256</td><td>1.700159</td><td>93.593945</td><td>51.727819</td><td>27.178771</td><td>0.031002</td><td>195.3125</td><td>0.1454239</td><td>0.634698</td><td>19.218055</td><td>70.521594</td><td>0.272513</td></tr><tr><td>2017-07-27</td><td>1636.069588</td><td>293.085583</td><td>222.901403</td><td>1.314866</td><td>83.92394</td><td>75.542652</td><td>38.155843</td><td>0.062075</td><td>304.6875</td><td>0.16728</td><td>0.728771</td><td>26.979802</td><td>102.905322</td><td>0.262181</td></tr><tr><td>2017-07-28</td><td>994.366727</td><td>335.918425</td><td>517.969574</td><td>0.648529</td><td>90.402819</td><td>59.249159</td><td>41.522311</td><td>0.053435</td><td>171.875</td><td>0.140829</td><td>0.58117</td><td>29.360692</td><td>78.456813</td><td>0.374227</td></tr><tr><td>&hellip;</td><td>&hellip;</td><td>&hellip;</td><td>&hellip;</td><td>&hellip;</td><td>&hellip;</td><td>&hellip;</td><td>&hellip;</td><td>&hellip;</td><td>&hellip;</td><td>&hellip;</td><td>&hellip;</td><td>&hellip;</td><td>&hellip;</td><td>&hellip;</td></tr><tr><td>2024-05-27</td><td>546.676301</td><td>131.966282</td><td>175.335502</td><td>0.75265</td><td>92.190444</td><td>58.001563</td><td>38.307472</td><td>0.025624</td><td>234.375</td><td>0.16321</td><td>0.823067</td><td>27.087459</td><td>77.440066</td><td>0.349786</td></tr><tr><td>2024-05-28</td><td>507.299106</td><td>106.736518</td><td>61.719957</td><td>1.729368</td><td>91.105591</td><td>55.534079</td><td>15.998736</td><td>0.006512</td><td>234.375</td><td>0.148263</td><td>0.82495</td><td>11.312079</td><td>77.598669</td><td>0.145777</td></tr><tr><td>2024-05-29</td><td>959.257511</td><td>210.958493</td><td>314.956597</td><td>0.669802</td><td>90.607292</td><td>85.148795</td><td>41.667903</td><td>0.013879</td><td>109.375</td><td>0.129014</td><td>0.4432</td><td>29.453103</td><td>109.239324</td><td>0.26962</td></tr><tr><td>2024-05-30</td><td>881.446294</td><td>131.858725</td><td>66.318176</td><td>1.988274</td><td>87.885165</td><td>53.730134</td><td>18.526989</td><td>0.008778</td><td>226.5625</td><td>0.197365</td><td>0.893004</td><td>13.098841</td><td>74.408476</td><td>0.17604</td></tr><tr><td>2024-05-31</td><td>678.403158</td><td>41.215759</td><td>14.464839</td><td>2.849376</td><td>104.557929</td><td>43.996485</td><td>6.11879</td><td>0.0</td><td>156.25</td><td>0.092522</td><td>0.398641</td><td>4.326436</td><td>62.066414</td><td>0.069707</td></tr></tbody></table></div>"
      ],
      "text/plain": [
       "shape: (2_274, 15)\n",
       "┌────────────┬───────────┬───────────┬───────────┬───┬──────────┬───────────┬───────────┬──────────┐\n",
       "│ date       ┆ VLF       ┆ LF        ┆ HF        ┆ … ┆ ApEn     ┆ SD1       ┆ SD2       ┆ SD1SD2   │\n",
       "│ ---        ┆ ---       ┆ ---       ┆ ---       ┆   ┆ ---      ┆ ---       ┆ ---       ┆ ---      │\n",
       "│ date       ┆ f64       ┆ f64       ┆ f64       ┆   ┆ f64      ┆ f64       ┆ f64       ┆ f64      │\n",
       "╞════════════╪═══════════╪═══════════╪═══════════╪═══╪══════════╪═══════════╪═══════════╪══════════╡\n",
       "│ 2017-07-24 ┆ 884.55446 ┆ 176.07968 ┆ 98.624315 ┆ … ┆ 0.922786 ┆ 14.75156  ┆ 69.499062 ┆ 0.212256 │\n",
       "│            ┆ 7         ┆ 3         ┆           ┆   ┆          ┆           ┆           ┆          │\n",
       "│ 2017-07-25 ┆ 977.6705  ┆ 271.4607  ┆ 114.9889  ┆ … ┆ 0.9482   ┆ 35.3787   ┆ 72.7817   ┆ 0.4861   │\n",
       "│ 2017-07-26 ┆ 833.68381 ┆ 284.85532 ┆ 167.54625 ┆ … ┆ 0.634698 ┆ 19.218055 ┆ 70.521594 ┆ 0.272513 │\n",
       "│            ┆ 3         ┆ 4         ┆ 6         ┆   ┆          ┆           ┆           ┆          │\n",
       "│ 2017-07-27 ┆ 1636.0695 ┆ 293.08558 ┆ 222.90140 ┆ … ┆ 0.728771 ┆ 26.979802 ┆ 102.90532 ┆ 0.262181 │\n",
       "│            ┆ 88        ┆ 3         ┆ 3         ┆   ┆          ┆           ┆ 2         ┆          │\n",
       "│ 2017-07-28 ┆ 994.36672 ┆ 335.91842 ┆ 517.96957 ┆ … ┆ 0.58117  ┆ 29.360692 ┆ 78.456813 ┆ 0.374227 │\n",
       "│            ┆ 7         ┆ 5         ┆ 4         ┆   ┆          ┆           ┆           ┆          │\n",
       "│ …          ┆ …         ┆ …         ┆ …         ┆ … ┆ …        ┆ …         ┆ …         ┆ …        │\n",
       "│ 2024-05-27 ┆ 546.67630 ┆ 131.96628 ┆ 175.33550 ┆ … ┆ 0.823067 ┆ 27.087459 ┆ 77.440066 ┆ 0.349786 │\n",
       "│            ┆ 1         ┆ 2         ┆ 2         ┆   ┆          ┆           ┆           ┆          │\n",
       "│ 2024-05-28 ┆ 507.29910 ┆ 106.73651 ┆ 61.719957 ┆ … ┆ 0.82495  ┆ 11.312079 ┆ 77.598669 ┆ 0.145777 │\n",
       "│            ┆ 6         ┆ 8         ┆           ┆   ┆          ┆           ┆           ┆          │\n",
       "│ 2024-05-29 ┆ 959.25751 ┆ 210.95849 ┆ 314.95659 ┆ … ┆ 0.4432   ┆ 29.453103 ┆ 109.23932 ┆ 0.26962  │\n",
       "│            ┆ 1         ┆ 3         ┆ 7         ┆   ┆          ┆           ┆ 4         ┆          │\n",
       "│ 2024-05-30 ┆ 881.44629 ┆ 131.85872 ┆ 66.318176 ┆ … ┆ 0.893004 ┆ 13.098841 ┆ 74.408476 ┆ 0.17604  │\n",
       "│            ┆ 4         ┆ 5         ┆           ┆   ┆          ┆           ┆           ┆          │\n",
       "│ 2024-05-31 ┆ 678.40315 ┆ 41.215759 ┆ 14.464839 ┆ … ┆ 0.398641 ┆ 4.326436  ┆ 62.066414 ┆ 0.069707 │\n",
       "│            ┆ 8         ┆           ┆           ┆   ┆          ┆           ┆           ┆          │\n",
       "└────────────┴───────────┴───────────┴───────────┴───┴──────────┴───────────┴───────────┴──────────┘"
      ]
     },
     "execution_count": 2,
     "metadata": {},
     "output_type": "execute_result"
    }
   ],
   "source": [
    "df_hrv_freq = pl.read_csv(\"../../data/HRV/freqency_domain.csv\").with_columns((pl.col(\"LF\") / pl.col(\"HF\")).alias(\"LFHF\"))\n",
    "df_hrv_timenon = pl.read_csv(\"../../data/HRV/time_nonlinear_domain.csv\").drop(\"mean_RRI\")\n",
    "df_hrv = df_hrv_freq.join(df_hrv_timenon, on=\"date\")\n",
    "df_hrv = df_hrv.with_columns(pl.col(\"date\").str.strptime(pl.Date, \"%Y/%m/%d\"))\n",
    "del df_hrv_freq, df_hrv_timenon\n",
    "gc.collect()\n",
    "df_hrv"
   ]
  },
  {
   "cell_type": "code",
   "execution_count": 3,
   "metadata": {},
   "outputs": [
    {
     "data": {
      "text/html": [
       "<div><style>\n",
       ".dataframe > thead > tr,\n",
       ".dataframe > tbody > tr {\n",
       "  text-align: right;\n",
       "  white-space: pre-wrap;\n",
       "}\n",
       "</style>\n",
       "<small>shape: (2_527, 21)</small><table border=\"1\" class=\"dataframe\"><thead><tr><th>date</th><th>day_of_week</th><th>mean_press</th><th>min_press_sea</th><th>mean_press_sea</th><th>mean_vapor</th><th>mean_hum</th><th>min_hum</th><th>total_preci</th><th>hourly_max_preci</th><th>max_depth</th><th>total_snowfall</th><th>sun_hour</th><th>mean_temp</th><th>max_temp</th><th>min_temp</th><th>mean_wind_speed</th><th>max_wind_speed</th><th>max_gust</th><th>most_direction</th><th>most_direction_dummy</th></tr><tr><td>date</td><td>str</td><td>f64</td><td>f64</td><td>f64</td><td>f64</td><td>i64</td><td>i64</td><td>f64</td><td>f64</td><td>i64</td><td>i64</td><td>f64</td><td>f64</td><td>f64</td><td>f64</td><td>f64</td><td>f64</td><td>f64</td><td>str</td><td>i64</td></tr></thead><tbody><tr><td>2017-07-01</td><td>&quot;土&quot;</td><td>983.8</td><td>1007.1</td><td>1008.1</td><td>23.8</td><td>88</td><td>63</td><td>11.5</td><td>4.0</td><td>0</td><td>0</td><td>0.3</td><td>22.5</td><td>25.1</td><td>20.3</td><td>1.5</td><td>3.8</td><td>6.2</td><td>&quot;南南東&quot;</td><td>7</td></tr><tr><td>2017-07-02</td><td>&quot;日&quot;</td><td>985.0</td><td>1007.5</td><td>1009.3</td><td>25.9</td><td>91</td><td>63</td><td>34.0</td><td>14.0</td><td>0</td><td>0</td><td>0.7</td><td>23.3</td><td>29.2</td><td>20.3</td><td>1.8</td><td>5.7</td><td>9.6</td><td>&quot;北東&quot;</td><td>2</td></tr><tr><td>2017-07-03</td><td>&quot;月&quot;</td><td>982.8</td><td>1004.0</td><td>1006.9</td><td>26.3</td><td>89</td><td>56</td><td>52.0</td><td>10.0</td><td>0</td><td>0</td><td>2.4</td><td>24.1</td><td>29.3</td><td>21.7</td><td>2.2</td><td>6.3</td><td>11.3</td><td>&quot;北&quot;</td><td>16</td></tr><tr><td>2017-07-04</td><td>&quot;火&quot;</td><td>982.3</td><td>1004.7</td><td>1006.6</td><td>25.6</td><td>97</td><td>87</td><td>37.0</td><td>11.0</td><td>0</td><td>0</td><td>0.0</td><td>22.0</td><td>24.2</td><td>20.1</td><td>1.2</td><td>3.6</td><td>5.3</td><td>&quot;北&quot;</td><td>16</td></tr><tr><td>2017-07-05</td><td>&quot;水&quot;</td><td>983.7</td><td>1004.0</td><td>1007.9</td><td>23.7</td><td>82</td><td>62</td><td>0.0</td><td>0.0</td><td>0</td><td>0</td><td>5.5</td><td>23.6</td><td>27.8</td><td>20.6</td><td>2.8</td><td>6.7</td><td>9.8</td><td>&quot;北西&quot;</td><td>14</td></tr><tr><td>&hellip;</td><td>&hellip;</td><td>&hellip;</td><td>&hellip;</td><td>&hellip;</td><td>&hellip;</td><td>&hellip;</td><td>&hellip;</td><td>&hellip;</td><td>&hellip;</td><td>&hellip;</td><td>&hellip;</td><td>&hellip;</td><td>&hellip;</td><td>&hellip;</td><td>&hellip;</td><td>&hellip;</td><td>&hellip;</td><td>&hellip;</td><td>&hellip;</td><td>&hellip;</td></tr><tr><td>2024-05-27</td><td>&quot;月&quot;</td><td>979.4</td><td>999.0</td><td>1003.8</td><td>17.4</td><td>69</td><td>41</td><td>0.0</td><td>0.0</td><td>0</td><td>0</td><td>3.6</td><td>21.6</td><td>29.9</td><td>14.9</td><td>1.8</td><td>4.9</td><td>7.6</td><td>&quot;南&quot;</td><td>8</td></tr><tr><td>2024-05-28</td><td>&quot;火&quot;</td><td>978.1</td><td>993.7</td><td>1002.8</td><td>16.7</td><td>89</td><td>72</td><td>24.5</td><td>6.0</td><td>0</td><td>0</td><td>0.0</td><td>16.5</td><td>20.3</td><td>14.5</td><td>2.0</td><td>6.3</td><td>10.8</td><td>&quot;北西&quot;</td><td>14</td></tr><tr><td>2024-05-29</td><td>&quot;水&quot;</td><td>984.8</td><td>1000.1</td><td>1009.7</td><td>14.4</td><td>80</td><td>64</td><td>0.0</td><td>2.5</td><td>0</td><td>0</td><td>4.0</td><td>15.9</td><td>20.2</td><td>11.8</td><td>4.1</td><td>8.9</td><td>15.1</td><td>&quot;西&quot;</td><td>12</td></tr><tr><td>2024-05-30</td><td>&quot;木&quot;</td><td>989.7</td><td>1011.4</td><td>1014.5</td><td>15.0</td><td>72</td><td>39</td><td>0.0</td><td>0.0</td><td>0</td><td>0</td><td>7.0</td><td>18.6</td><td>27.2</td><td>10.3</td><td>1.4</td><td>3.8</td><td>6.7</td><td>&quot;北&quot;</td><td>16</td></tr><tr><td>2024-05-31</td><td>&quot;金&quot;</td><td>983.9</td><td>1005.7</td><td>1008.5</td><td>18.5</td><td>82</td><td>59</td><td>3.0</td><td>1.5</td><td>0</td><td>0</td><td>0.1</td><td>19.3</td><td>21.7</td><td>17.3</td><td>1.4</td><td>3.3</td><td>5.6</td><td>&quot;北西&quot;</td><td>14</td></tr></tbody></table></div>"
      ],
      "text/plain": [
       "shape: (2_527, 21)\n",
       "┌───────────┬───────────┬───────────┬───────────┬───┬───────────┬──────────┬───────────┬───────────┐\n",
       "│ date      ┆ day_of_we ┆ mean_pres ┆ min_press ┆ … ┆ max_wind_ ┆ max_gust ┆ most_dire ┆ most_dire │\n",
       "│ ---       ┆ ek        ┆ s         ┆ _sea      ┆   ┆ speed     ┆ ---      ┆ ction     ┆ ction_dum │\n",
       "│ date      ┆ ---       ┆ ---       ┆ ---       ┆   ┆ ---       ┆ f64      ┆ ---       ┆ my        │\n",
       "│           ┆ str       ┆ f64       ┆ f64       ┆   ┆ f64       ┆          ┆ str       ┆ ---       │\n",
       "│           ┆           ┆           ┆           ┆   ┆           ┆          ┆           ┆ i64       │\n",
       "╞═══════════╪═══════════╪═══════════╪═══════════╪═══╪═══════════╪══════════╪═══════════╪═══════════╡\n",
       "│ 2017-07-0 ┆ 土        ┆ 983.8     ┆ 1007.1    ┆ … ┆ 3.8       ┆ 6.2      ┆ 南南東    ┆ 7         │\n",
       "│ 1         ┆           ┆           ┆           ┆   ┆           ┆          ┆           ┆           │\n",
       "│ 2017-07-0 ┆ 日        ┆ 985.0     ┆ 1007.5    ┆ … ┆ 5.7       ┆ 9.6      ┆ 北東      ┆ 2         │\n",
       "│ 2         ┆           ┆           ┆           ┆   ┆           ┆          ┆           ┆           │\n",
       "│ 2017-07-0 ┆ 月        ┆ 982.8     ┆ 1004.0    ┆ … ┆ 6.3       ┆ 11.3     ┆ 北        ┆ 16        │\n",
       "│ 3         ┆           ┆           ┆           ┆   ┆           ┆          ┆           ┆           │\n",
       "│ 2017-07-0 ┆ 火        ┆ 982.3     ┆ 1004.7    ┆ … ┆ 3.6       ┆ 5.3      ┆ 北        ┆ 16        │\n",
       "│ 4         ┆           ┆           ┆           ┆   ┆           ┆          ┆           ┆           │\n",
       "│ 2017-07-0 ┆ 水        ┆ 983.7     ┆ 1004.0    ┆ … ┆ 6.7       ┆ 9.8      ┆ 北西      ┆ 14        │\n",
       "│ 5         ┆           ┆           ┆           ┆   ┆           ┆          ┆           ┆           │\n",
       "│ …         ┆ …         ┆ …         ┆ …         ┆ … ┆ …         ┆ …        ┆ …         ┆ …         │\n",
       "│ 2024-05-2 ┆ 月        ┆ 979.4     ┆ 999.0     ┆ … ┆ 4.9       ┆ 7.6      ┆ 南        ┆ 8         │\n",
       "│ 7         ┆           ┆           ┆           ┆   ┆           ┆          ┆           ┆           │\n",
       "│ 2024-05-2 ┆ 火        ┆ 978.1     ┆ 993.7     ┆ … ┆ 6.3       ┆ 10.8     ┆ 北西      ┆ 14        │\n",
       "│ 8         ┆           ┆           ┆           ┆   ┆           ┆          ┆           ┆           │\n",
       "│ 2024-05-2 ┆ 水        ┆ 984.8     ┆ 1000.1    ┆ … ┆ 8.9       ┆ 15.1     ┆ 西        ┆ 12        │\n",
       "│ 9         ┆           ┆           ┆           ┆   ┆           ┆          ┆           ┆           │\n",
       "│ 2024-05-3 ┆ 木        ┆ 989.7     ┆ 1011.4    ┆ … ┆ 3.8       ┆ 6.7      ┆ 北        ┆ 16        │\n",
       "│ 0         ┆           ┆           ┆           ┆   ┆           ┆          ┆           ┆           │\n",
       "│ 2024-05-3 ┆ 金        ┆ 983.9     ┆ 1005.7    ┆ … ┆ 3.3       ┆ 5.6      ┆ 北西      ┆ 14        │\n",
       "│ 1         ┆           ┆           ┆           ┆   ┆           ┆          ┆           ┆           │\n",
       "└───────────┴───────────┴───────────┴───────────┴───┴───────────┴──────────┴───────────┴───────────┘"
      ]
     },
     "execution_count": 3,
     "metadata": {},
     "output_type": "execute_result"
    }
   ],
   "source": [
    "df_weather = pl.read_csv(\"../../data/weather/weather.csv\")\n",
    "df_weather = df_weather.with_columns(pl.col(\"date\").str.strptime(pl.Date, \"%Y-%m-%d\"))\n",
    "weather_columns = df_weather.columns\n",
    "df_weather"
   ]
  },
  {
   "cell_type": "code",
   "execution_count": 4,
   "metadata": {},
   "outputs": [
    {
     "data": {
      "text/html": [
       "<div><style>\n",
       ".dataframe > thead > tr,\n",
       ".dataframe > tbody > tr {\n",
       "  text-align: right;\n",
       "  white-space: pre-wrap;\n",
       "}\n",
       "</style>\n",
       "<small>shape: (1,)</small><table border=\"1\" class=\"dataframe\"><thead><tr><th>sum</th></tr><tr><td>u32</td></tr></thead><tbody><tr><td>42</td></tr></tbody></table></div>"
      ],
      "text/plain": [
       "shape: (1,)\n",
       "Series: 'sum' [u32]\n",
       "[\n",
       "\t42\n",
       "]"
      ]
     },
     "execution_count": 4,
     "metadata": {},
     "output_type": "execute_result"
    }
   ],
   "source": [
    "df_hrv.join(df_weather, on=\"date\").null_count().sum(axis=1)"
   ]
  },
  {
   "cell_type": "code",
   "execution_count": 6,
   "metadata": {},
   "outputs": [
    {
     "data": {
      "text/html": [
       "<div><style>\n",
       ".dataframe > thead > tr,\n",
       ".dataframe > tbody > tr {\n",
       "  text-align: right;\n",
       "  white-space: pre-wrap;\n",
       "}\n",
       "</style>\n",
       "<small>shape: (14, 15)</small><table border=\"1\" class=\"dataframe\"><thead><tr><th>VLF</th><th>LF</th><th>HF</th><th>LFHF</th><th>HR</th><th>SDNN</th><th>RMSSD</th><th>pNN50</th><th>TINN</th><th>CD</th><th>ApEn</th><th>SD1</th><th>SD2</th><th>SD1SD2</th><th>null_count</th></tr><tr><td>f64</td><td>f64</td><td>f64</td><td>f64</td><td>f64</td><td>f64</td><td>f64</td><td>f64</td><td>f64</td><td>f64</td><td>f64</td><td>f64</td><td>f64</td><td>f64</td><td>u32</td></tr></thead><tbody><tr><td>658.703687</td><td>128.829987</td><td>94.158597</td><td>1.368223</td><td>98.859369</td><td>46.419755</td><td>20.036842</td><td>0.035347</td><td>109.375</td><td>0.118878</td><td>0.479434</td><td>14.167586</td><td>63.775902</td><td>0.222146</td><td>3</td></tr><tr><td>774.232412</td><td>168.688253</td><td>154.607429</td><td>1.091075</td><td>104.818948</td><td>59.624161</td><td>25.878161</td><td>0.061238</td><td>156.25</td><td>0.170278</td><td>0.652095</td><td>18.298444</td><td>82.279901</td><td>0.222393</td><td>3</td></tr><tr><td>552.670902</td><td>98.857746</td><td>32.737465</td><td>3.019713</td><td>84.460946</td><td>44.447735</td><td>15.093479</td><td>0.002851</td><td>179.6875</td><td>0.196019</td><td>0.925189</td><td>10.672599</td><td>61.865873</td><td>0.172512</td><td>3</td></tr><tr><td>529.911144</td><td>59.768626</td><td>42.634155</td><td>1.401895</td><td>103.916035</td><td>47.002602</td><td>14.376169</td><td>0.017787</td><td>148.4375</td><td>0.127465</td><td>0.508416</td><td>10.165378</td><td>65.537233</td><td>0.155108</td><td>2</td></tr><tr><td>504.284985</td><td>62.560337</td><td>21.007735</td><td>2.977967</td><td>101.521875</td><td>38.60067</td><td>7.431113</td><td>0.0</td><td>62.5</td><td>0.089808</td><td>0.635683</td><td>5.254025</td><td>54.271225</td><td>0.096811</td><td>1</td></tr><tr><td>&hellip;</td><td>&hellip;</td><td>&hellip;</td><td>&hellip;</td><td>&hellip;</td><td>&hellip;</td><td>&hellip;</td><td>&hellip;</td><td>&hellip;</td><td>&hellip;</td><td>&hellip;</td><td>&hellip;</td><td>&hellip;</td><td>&hellip;</td><td>&hellip;</td></tr><tr><td>384.450606</td><td>100.960142</td><td>106.11015</td><td>0.951465</td><td>111.5694</td><td>37.718423</td><td>24.067123</td><td>0.064895</td><td>70.3125</td><td>0.168393</td><td>0.687783</td><td>17.017887</td><td>50.485585</td><td>0.337084</td><td>2</td></tr><tr><td>286.599295</td><td>96.207511</td><td>39.820731</td><td>2.416016</td><td>94.446781</td><td>50.181837</td><td>10.200481</td><td>0.001555</td><td>226.5625</td><td>0.116358</td><td>0.57319</td><td>7.212621</td><td>70.58555</td><td>0.102183</td><td>5</td></tr><tr><td>713.035776</td><td>98.110013</td><td>34.757787</td><td>2.822677</td><td>101.805032</td><td>61.432178</td><td>8.317435</td><td>0.002649</td><td>109.375</td><td>0.083695</td><td>0.290618</td><td>5.880648</td><td>86.613636</td><td>0.067895</td><td>5</td></tr><tr><td>689.071938</td><td>240.297879</td><td>312.747736</td><td>0.768344</td><td>80.431192</td><td>55.558974</td><td>32.660711</td><td>0.042289</td><td>203.125</td><td>0.284482</td><td>1.07123</td><td>23.094587</td><td>75.117366</td><td>0.307447</td><td>2</td></tr><tr><td>395.070018</td><td>256.682954</td><td>435.202487</td><td>0.589801</td><td>102.691052</td><td>80.992027</td><td>45.727423</td><td>0.062212</td><td>93.75</td><td>0.085066</td><td>0.334562</td><td>32.334171</td><td>109.9071</td><td>0.294195</td><td>5</td></tr></tbody></table></div>"
      ],
      "text/plain": [
       "shape: (14, 15)\n",
       "┌────────────┬───────────┬───────────┬──────────┬───┬───────────┬───────────┬──────────┬───────────┐\n",
       "│ VLF        ┆ LF        ┆ HF        ┆ LFHF     ┆ … ┆ SD1       ┆ SD2       ┆ SD1SD2   ┆ null_coun │\n",
       "│ ---        ┆ ---       ┆ ---       ┆ ---      ┆   ┆ ---       ┆ ---       ┆ ---      ┆ t         │\n",
       "│ f64        ┆ f64       ┆ f64       ┆ f64      ┆   ┆ f64       ┆ f64       ┆ f64      ┆ ---       │\n",
       "│            ┆           ┆           ┆          ┆   ┆           ┆           ┆          ┆ u32       │\n",
       "╞════════════╪═══════════╪═══════════╪══════════╪═══╪═══════════╪═══════════╪══════════╪═══════════╡\n",
       "│ 658.703687 ┆ 128.82998 ┆ 94.158597 ┆ 1.368223 ┆ … ┆ 14.167586 ┆ 63.775902 ┆ 0.222146 ┆ 3         │\n",
       "│            ┆ 7         ┆           ┆          ┆   ┆           ┆           ┆          ┆           │\n",
       "│ 774.232412 ┆ 168.68825 ┆ 154.60742 ┆ 1.091075 ┆ … ┆ 18.298444 ┆ 82.279901 ┆ 0.222393 ┆ 3         │\n",
       "│            ┆ 3         ┆ 9         ┆          ┆   ┆           ┆           ┆          ┆           │\n",
       "│ 552.670902 ┆ 98.857746 ┆ 32.737465 ┆ 3.019713 ┆ … ┆ 10.672599 ┆ 61.865873 ┆ 0.172512 ┆ 3         │\n",
       "│ 529.911144 ┆ 59.768626 ┆ 42.634155 ┆ 1.401895 ┆ … ┆ 10.165378 ┆ 65.537233 ┆ 0.155108 ┆ 2         │\n",
       "│ 504.284985 ┆ 62.560337 ┆ 21.007735 ┆ 2.977967 ┆ … ┆ 5.254025  ┆ 54.271225 ┆ 0.096811 ┆ 1         │\n",
       "│ …          ┆ …         ┆ …         ┆ …        ┆ … ┆ …         ┆ …         ┆ …        ┆ …         │\n",
       "│ 384.450606 ┆ 100.96014 ┆ 106.11015 ┆ 0.951465 ┆ … ┆ 17.017887 ┆ 50.485585 ┆ 0.337084 ┆ 2         │\n",
       "│            ┆ 2         ┆           ┆          ┆   ┆           ┆           ┆          ┆           │\n",
       "│ 286.599295 ┆ 96.207511 ┆ 39.820731 ┆ 2.416016 ┆ … ┆ 7.212621  ┆ 70.58555  ┆ 0.102183 ┆ 5         │\n",
       "│ 713.035776 ┆ 98.110013 ┆ 34.757787 ┆ 2.822677 ┆ … ┆ 5.880648  ┆ 86.613636 ┆ 0.067895 ┆ 5         │\n",
       "│ 689.071938 ┆ 240.29787 ┆ 312.74773 ┆ 0.768344 ┆ … ┆ 23.094587 ┆ 75.117366 ┆ 0.307447 ┆ 2         │\n",
       "│            ┆ 9         ┆ 6         ┆          ┆   ┆           ┆           ┆          ┆           │\n",
       "│ 395.070018 ┆ 256.68295 ┆ 435.20248 ┆ 0.589801 ┆ … ┆ 32.334171 ┆ 109.9071  ┆ 0.294195 ┆ 5         │\n",
       "│            ┆ 4         ┆ 7         ┆          ┆   ┆           ┆           ┆          ┆           │\n",
       "└────────────┴───────────┴───────────┴──────────┴───┴───────────┴───────────┴──────────┴───────────┘"
      ]
     },
     "execution_count": 6,
     "metadata": {},
     "output_type": "execute_result"
    }
   ],
   "source": [
    "df = df_hrv.join(df_weather, on=\"date\")\n",
    "nulls = df.hstack(df.transpose().select(pl.all().is_null().sum()).transpose().rename({\"column_0\": \"null_count\"}))\n",
    "nulls.filter(pl.col(\"null_count\") != 0)[weather_columns]\n",
    "# nulls.filter(pl.col(\"null_count\") != 0).select(pl.exclude(weather_columns))"
   ]
  }
 ],
 "metadata": {
  "kernelspec": {
   "display_name": "pystan",
   "language": "python",
   "name": "python3"
  },
  "language_info": {
   "codemirror_mode": {
    "name": "ipython",
    "version": 3
   },
   "file_extension": ".py",
   "mimetype": "text/x-python",
   "name": "python",
   "nbconvert_exporter": "python",
   "pygments_lexer": "ipython3",
   "version": "3.11.8"
  }
 },
 "nbformat": 4,
 "nbformat_minor": 2
}
